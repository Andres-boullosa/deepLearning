{
  "nbformat": 4,
  "nbformat_minor": 0,
  "metadata": {
    "kernelspec": {
      "display_name": "Python 3",
      "language": "python",
      "name": "python3"
    },
    "language_info": {
      "codemirror_mode": {
        "name": "ipython",
        "version": 3
      },
      "file_extension": ".py",
      "mimetype": "text/x-python",
      "name": "python",
      "nbconvert_exporter": "python",
      "pygments_lexer": "ipython3",
      "version": "3.8.5"
    },
    "colab": {
      "name": "Copia de 2_2 Bloques de Construccion Matematicos de las RNA.ipynb",
      "provenance": [],
      "toc_visible": true,
      "include_colab_link": true
    },
    "accelerator": "GPU"
  },
  "cells": [
    {
      "cell_type": "markdown",
      "metadata": {
        "id": "view-in-github",
        "colab_type": "text"
      },
      "source": [
        "<a href=\"https://colab.research.google.com/github/carlosemiliorabazo/deepLearning/blob/master/2_2_Bloques_de_Construccion_Matematicos_de_las_RNA.ipynb\" target=\"_parent\"><img src=\"https://colab.research.google.com/assets/colab-badge.svg\" alt=\"Open In Colab\"/></a>"
      ]
    },
    {
      "cell_type": "markdown",
      "metadata": {
        "id": "Ejg7Msp7rbkk"
      },
      "source": [
        "# Un primer vistazo a una Red Neuronal"
      ]
    },
    {
      "cell_type": "markdown",
      "metadata": {
        "id": "qgUp3yOkrbkq"
      },
      "source": [
        "Utilizaremos la **biblioteca Python Keras** para aprender a **clasificar** dígitos manuscritos. Paciencia, hay cosas que no se entenderán hasta el siguiente tema.\n",
        "\n",
        "**PROBLEMA:**\n",
        "- Clasificación de imágenes en escala de grises de números escritos a mano (28 x 28 píxeles) en sus 10 categorías (de 0 a 9)\n",
        "- Usaremos 60K imágenes de entrenamiento, más de 10K imágenes de prueba todas ellas recopiladas por el National Institute of Standards an Technology (NIST de MNIST) en los años ochenta.\n",
        "- Este es el \"Hola Mundo\" del Deep Learning\n",
        "- El conjunto de datos MNIST está precargado en Keras en la forma de un conjunto de cuatro matrices Numpy\n",
        "- Algunas muestras"
      ]
    },
    {
      "cell_type": "markdown",
      "metadata": {
        "id": "jpKjRqQdrbkr"
      },
      "source": [
        "![2_2_1.jpeg](data:image/jpeg;base64,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)"
      ]
    },
    {
      "cell_type": "markdown",
      "metadata": {
        "id": "RX_AVWX_rbkr"
      },
      "source": [
        "- Una \"categoría\" de un problema de clasificación, se denomina **clase**\n",
        "- Los \"puntos de datos\" son **muestras**\n",
        "- La clase asociado a una muestra específica se llama **etiqueta**\n",
        "- Por ahora no vamos a ejecutarlo, vamos a intentar entenderlo"
      ]
    },
    {
      "cell_type": "code",
      "metadata": {
        "id": "iQJNn-hsrbks",
        "colab": {
          "base_uri": "https://localhost:8080/",
          "height": 35
        },
        "outputId": "4c972b04-242a-44d4-8f8a-e0c435444904"
      },
      "source": [
        "# Importamos Keras\n",
        "import keras\n",
        "keras.__version__"
      ],
      "execution_count": null,
      "outputs": [
        {
          "output_type": "execute_result",
          "data": {
            "application/vnd.google.colaboratory.intrinsic+json": {
              "type": "string"
            },
            "text/plain": [
              "'2.6.0'"
            ]
          },
          "metadata": {},
          "execution_count": 1
        }
      ]
    },
    {
      "cell_type": "markdown",
      "metadata": {
        "id": "EctRbED3rbkt"
      },
      "source": [
        "Cargamos el conjunto de datos  MNIST en Keras"
      ]
    },
    {
      "cell_type": "code",
      "metadata": {
        "id": "gsEj9nb1rbku",
        "colab": {
          "base_uri": "https://localhost:8080/"
        },
        "outputId": "e64754b1-7e61-4c99-bec3-c82455227e77"
      },
      "source": [
        "# 1 CARGAMOS EL CONJUNTO DE DATOS MINIST EN KERAS\n",
        "from keras.datasets import mnist\n",
        "\n",
        "(train_images, train_labels), (test_images, test_labels) = mnist.load_data()"
      ],
      "execution_count": null,
      "outputs": [
        {
          "output_type": "stream",
          "name": "stdout",
          "text": [
            "Downloading data from https://storage.googleapis.com/tensorflow/tf-keras-datasets/mnist.npz\n",
            "11493376/11490434 [==============================] - 0s 0us/step\n",
            "11501568/11490434 [==============================] - 0s 0us/step\n"
          ]
        }
      ]
    },
    {
      "cell_type": "markdown",
      "metadata": {
        "id": "CXhOF9J7rbkv"
      },
      "source": [
        "- `train_images` y `train_labels` son el **conjunto de entrenamiento** (los datos de los que aprenderá el modelo).\n",
        "- `test_images` y `test_labels` son el conjunto de pruebas (los datos con los que testearemos el modelo ya entrenado).\n",
        "- Las imágenes están **codificadas** como matrices `Numpy`, y las etiquetas son una matriz de números que van del 0 al 9 (imágenes y etiquetas tienen una correspondencia 1 a 1)"
      ]
    },
    {
      "cell_type": "markdown",
      "metadata": {
        "id": "HjZhvC8Krbkw"
      },
      "source": [
        "Echamos un vistazo a los **datos de entrenamiento**:"
      ]
    },
    {
      "cell_type": "code",
      "metadata": {
        "id": "IRA__fUprbkw",
        "colab": {
          "base_uri": "https://localhost:8080/"
        },
        "outputId": "8bae11fc-7528-4483-f211-05bca3644391"
      },
      "source": [
        "train_images.shape\n",
        "# (60000, 28, 28)"
      ],
      "execution_count": null,
      "outputs": [
        {
          "output_type": "execute_result",
          "data": {
            "text/plain": [
              "(60000, 28, 28)"
            ]
          },
          "metadata": {},
          "execution_count": 3
        }
      ]
    },
    {
      "cell_type": "code",
      "metadata": {
        "id": "zYYzmgVIrbkx",
        "colab": {
          "base_uri": "https://localhost:8080/"
        },
        "outputId": "bf283195-2a03-4a23-fdc4-f5c15a7abfb6"
      },
      "source": [
        "len(train_labels)\n",
        "# 60000"
      ],
      "execution_count": null,
      "outputs": [
        {
          "output_type": "execute_result",
          "data": {
            "text/plain": [
              "60000"
            ]
          },
          "metadata": {},
          "execution_count": 4
        }
      ]
    },
    {
      "cell_type": "code",
      "metadata": {
        "id": "KApwTS_Wrbky",
        "colab": {
          "base_uri": "https://localhost:8080/"
        },
        "outputId": "b4556160-e9f7-4ba4-b632-b05759419cbd"
      },
      "source": [
        "train_labels\n",
        "# array([5, 0, 4, ..., 5, 6, 8], dtype=uint8)"
      ],
      "execution_count": null,
      "outputs": [
        {
          "output_type": "execute_result",
          "data": {
            "text/plain": [
              "array([5, 0, 4, ..., 5, 6, 8], dtype=uint8)"
            ]
          },
          "metadata": {},
          "execution_count": 5
        }
      ]
    },
    {
      "cell_type": "markdown",
      "metadata": {
        "id": "pEMMDv6Hrbky"
      },
      "source": [
        "Los **datos de prueba**:"
      ]
    },
    {
      "cell_type": "code",
      "metadata": {
        "id": "lzX0I9BVrbkz",
        "colab": {
          "base_uri": "https://localhost:8080/"
        },
        "outputId": "4989dd15-782f-4a9f-9fb8-7c93d00c7f48"
      },
      "source": [
        "test_images.shape\n",
        "# (10000, 28, 28)"
      ],
      "execution_count": null,
      "outputs": [
        {
          "output_type": "execute_result",
          "data": {
            "text/plain": [
              "(10000, 28, 28)"
            ]
          },
          "metadata": {},
          "execution_count": 6
        }
      ]
    },
    {
      "cell_type": "code",
      "metadata": {
        "id": "PZVI0Cekrbkz",
        "colab": {
          "base_uri": "https://localhost:8080/"
        },
        "outputId": "cdcfbf0b-d8d7-45ae-f670-c40652f50cca"
      },
      "source": [
        "len(test_labels)\n",
        "# 10000"
      ],
      "execution_count": null,
      "outputs": [
        {
          "output_type": "execute_result",
          "data": {
            "text/plain": [
              "10000"
            ]
          },
          "metadata": {},
          "execution_count": 7
        }
      ]
    },
    {
      "cell_type": "code",
      "metadata": {
        "id": "01SKupwDrbkz",
        "colab": {
          "base_uri": "https://localhost:8080/"
        },
        "outputId": "bb167a5c-40ff-4075-9543-e53c2e5365b7"
      },
      "source": [
        "test_labels\n",
        "# array([7, 2, 1, ..., 4, 5, 6], dtype=uint8)"
      ],
      "execution_count": null,
      "outputs": [
        {
          "output_type": "execute_result",
          "data": {
            "text/plain": [
              "array([7, 2, 1, ..., 4, 5, 6], dtype=uint8)"
            ]
          },
          "metadata": {},
          "execution_count": 8
        }
      ]
    },
    {
      "cell_type": "markdown",
      "metadata": {
        "id": "HXWWm3bYrbk0"
      },
      "source": [
        "### Fujo de trabajo\n",
        "1. Damos a la RNA los datos de entrenamiento `train_images` y `train_labels`\n",
        "2. La red aprenderá a asociar imágenes y etiquetas\n",
        "3. Pediremos a la RNA que haga predicciones para `test_images` y comprobaremos si estas predicciones coinciden con las etiquetas de `test_labels`"
      ]
    },
    {
      "cell_type": "markdown",
      "metadata": {
        "id": "2kl-BJu_rbk0"
      },
      "source": [
        "**CONSTRUIMOS LA RNA**"
      ]
    },
    {
      "cell_type": "markdown",
      "metadata": {
        "id": "h0A3QWIQrbk1"
      },
      "source": [
        "- **Capa** (**layers**) es el **componente básico de las redes neuronales**. => Es un **filtro** de datos (módulo de procesamiento de datos).Entran datos y salen con una forma más útil para el objetivo del problema a resolver. => **Destilación de datos**\n",
        "    - Las capas extraen **representaciones**  de los datos introducidos en ellas, que deberían ser más significativas para el problema en cuestión."
      ]
    },
    {
      "cell_type": "code",
      "metadata": {
        "id": "TEfSlb7Yrbk1"
      },
      "source": [
        "# 2 ARQUITECTURA DE LA RED\n",
        "from keras import models\n",
        "from keras import layers\n",
        "\n",
        "network = models.Sequential()\n",
        "# Creamos dos capas \"Dense\", que son capas neuronales densamente conectadas (también llamadas \"completamente conectadas\")\n",
        "network.add(layers.Dense(512, activation='relu', input_shape=(28*28,)))\n",
        "# Capa de salida \"softmax\" de 10 vías (o neuronas). Significa que devolverá una matriz de 10 puntuaciones de probabilidad (sumando 1)\n",
        "# La puntuación será la probabilidad de que la imagen del dígito actual pertenezca a una de nuestras clases de 10 dígitos.\n",
        "network.add(layers.Dense(10, activation='softmax'))"
      ],
      "execution_count": null,
      "outputs": []
    },
    {
      "cell_type": "markdown",
      "metadata": {
        "id": "04rb98Turbk2"
      },
      "source": [
        "Para que nuestra red esté lista para la capacitación, debemos elegir tres cosas más, como parte del paso de \"compilación\":\n",
        "- Una **función de pérdida**: es cómo la red podrá medir qué tan bien está haciendo el trabajo con los datos de entrenamiento y, por lo tanto, cómo será capaz de dirigirse en la dirección correcta. (Lo veremos en detalle más adelante)\n",
        "- Un **optimizador**: este es el mecanismo a través del cual la red se actualizará en función de los datos que ve y su función de pérdida. (Lo veremos en detalle más adelante)\n",
        "- **Métricas** para monitorizar durante el entrenamiento y las pruebas. Solo nos preocuparemos por la **precisión** `accuracy` (la fracción de las imágenes que fueron clasificado)."
      ]
    },
    {
      "cell_type": "code",
      "metadata": {
        "id": "nXASbPjBrbk2"
      },
      "source": [
        "# 3 EL PASO DE COMPILACIÓN\n",
        "network.compile(optimizer='rmsprop',\n",
        "                loss='categorical_crossentropy',\n",
        "                metrics=['accuracy'])"
      ],
      "execution_count": null,
      "outputs": []
    },
    {
      "cell_type": "markdown",
      "metadata": {
        "id": "hWe9DHqkrbk3"
      },
      "source": [
        "Antes del entrenamiento, **preprocesaremos nuestros datos** dándoles la forma que espera la red y escalando para que todos los valores estén en el intervalo `[0, 1]`. Antes, nuestras imágenes de entrenamiento, por ejemplo, se almacenaban en una matriz de forma `(60000, 28, 28)` de tipo `uint8` con valores en el intervalo `[0, 255]`. Lo transformamos en una matriz de forma `float32` con forma `(60000, 28 * 28)` con valores entre 0 y 1."
      ]
    },
    {
      "cell_type": "code",
      "metadata": {
        "id": "kSrc8YLKrbk3"
      },
      "source": [
        "# 4 PREPARACIÓN DE LOS DATOS DE IMAGEN\n",
        "train_images = train_images.reshape((60000, 28 * 28))\n",
        "train_images = train_images.astype('float32') / 255\n",
        "\n",
        "test_images = test_images.reshape((10000, 28 * 28))\n",
        "test_images = test_images.astype('float32') / 255"
      ],
      "execution_count": null,
      "outputs": []
    },
    {
      "cell_type": "markdown",
      "metadata": {
        "id": "Ndat650Orbk3"
      },
      "source": [
        "También tenemos que **codificar categoricamente las etiquetas**, un paso que se explicará más adelante:"
      ]
    },
    {
      "cell_type": "code",
      "metadata": {
        "id": "T32tUa6rrbk4"
      },
      "source": [
        "# 5 PREPARACIÓN DE LAS ETIQUETAS\n",
        "# from keras import utils\n",
        "# from keras.utils import to_categorical\n",
        "from keras.utils.np_utils import to_categorical\n",
        "\n",
        "train_labels = to_categorical(train_labels)\n",
        "test_labels = to_categorical(test_labels)"
      ],
      "execution_count": null,
      "outputs": []
    },
    {
      "cell_type": "markdown",
      "metadata": {
        "id": "hkeHj5ojrbk4"
      },
      "source": [
        "Ya estamos listos para **entrenar a la red**, lo cual se hace en Keras a través de una llamada al métido `fit` de la red, que **ajusta el modelo a sus datos de entrenamiento**:"
      ]
    },
    {
      "cell_type": "code",
      "metadata": {
        "id": "M9aQIECmrbk4",
        "colab": {
          "base_uri": "https://localhost:8080/"
        },
        "outputId": "63b22c2e-8e8f-4478-ce00-ce75957deb27"
      },
      "source": [
        "# 6 ENTRENAMIENTO DE LA RED\n",
        "network.fit(train_images, train_labels, epochs=5, batch_size=128)\n",
        "# Epoch 1/5\n",
        "# 60000/60000 [==============================] - 2s - loss: 0.2577 - acc: 0.9245     \n",
        "# Epoch 2/5\n",
        "# 60000/60000 [==============================] - 1s - loss: 0.1042 - acc: 0.9690     \n",
        "# Epoch 3/5\n",
        "# 60000/60000 [==============================] - 1s - loss: 0.0687 - acc: 0.9793     \n",
        "# Epoch 4/5\n",
        "# 60000/60000 [==============================] - 1s - loss: 0.0508 - acc: 0.9848     \n",
        "# Epoch 5/5\n",
        "# 60000/60000 [==============================] - 1s - loss: 0.0382 - acc: 0.9890     \n",
        "# <keras.callbacks.History at 0x7fce5fed5fd0>"
      ],
      "execution_count": null,
      "outputs": [
        {
          "output_type": "stream",
          "name": "stdout",
          "text": [
            "Epoch 1/5\n",
            "469/469 [==============================] - 5s 9ms/step - loss: 0.2542 - accuracy: 0.9272\n",
            "Epoch 2/5\n",
            "469/469 [==============================] - 4s 8ms/step - loss: 0.1025 - accuracy: 0.9702\n",
            "Epoch 3/5\n",
            "469/469 [==============================] - 4s 9ms/step - loss: 0.0675 - accuracy: 0.9795\n",
            "Epoch 4/5\n",
            "469/469 [==============================] - 4s 8ms/step - loss: 0.0502 - accuracy: 0.9849\n",
            "Epoch 5/5\n",
            "469/469 [==============================] - 4s 8ms/step - loss: 0.0375 - accuracy: 0.9894\n"
          ]
        },
        {
          "output_type": "execute_result",
          "data": {
            "text/plain": [
              "<keras.callbacks.History at 0x7f066fad58d0>"
            ]
          },
          "metadata": {},
          "execution_count": 22
        }
      ]
    },
    {
      "cell_type": "markdown",
      "metadata": {
        "id": "04iEjyD7rbk4"
      },
      "source": [
        "Se muestran dos cantidades durante el entrenamiento: la **pérdida** (`loss`) de la red sobre los datos de entrenamiento y la **precisión** o exactitud (`acc`) de la red sobre los datos de entrenamiento.\n",
        "\n",
        "Alcanzamos rápidamente una precisión de 0,989 (es decir, 98,9%) en los datos de entrenamiento. Ahora verificamos que nuestro modelo también funcione bien en el conjunto de prueba:"
      ]
    },
    {
      "cell_type": "code",
      "metadata": {
        "id": "0uwQjCR6rbk5",
        "colab": {
          "base_uri": "https://localhost:8080/"
        },
        "outputId": "0a959a84-0eab-4a2c-eda2-ed4a47283b2f"
      },
      "source": [
        "# 6 VERIFICACIÓN DE NUESTRO MODELO CONTRA EL CONJUNTO DE PRUEBAS\n",
        "test_loss, test_acc = network.evaluate(test_images, test_labels)\n",
        "# 9536/10000 [===========================>..] - ETA: 0s"
      ],
      "execution_count": null,
      "outputs": [
        {
          "output_type": "stream",
          "name": "stdout",
          "text": [
            "313/313 [==============================] - 1s 2ms/step - loss: 0.0671 - accuracy: 0.9786\n"
          ]
        }
      ]
    },
    {
      "cell_type": "code",
      "metadata": {
        "id": "f9fZrHLCrbk5",
        "colab": {
          "base_uri": "https://localhost:8080/"
        },
        "outputId": "8f9c4b1e-3faa-4801-8303-f242113b03c8"
      },
      "source": [
        "print('test_acc:', test_acc)\n",
        "# test_acc: 0.9777"
      ],
      "execution_count": null,
      "outputs": [
        {
          "output_type": "stream",
          "name": "stdout",
          "text": [
            "test_acc: 0.978600025177002\n"
          ]
        }
      ]
    },
    {
      "cell_type": "markdown",
      "metadata": {
        "id": "5moGS4ffrbk5"
      },
      "source": [
        "La precisión de nuestro conjunto de prueba resulta ser del 97,8%, lo que es un poco más baja que la precisión del conjunto de entrenamiento. Esta diferencia es un ejemplo de **sobreajuste**, el hecho de que **los modelos de aprendizaje automático tienden a funcionar peor con datos nuevos que con sus datos de entrenamiento**. El sobreajuste será algo que veamos en detalle más adelante\n",
        "\n",
        "Acabais de ver cómo podemos construir y entrenar una red neuronal para clasificar dígitos escritos a mano, en menos de 20 líneas de código Python. A partir de ahora, repasaremos en detalle cada pieza que acabamos de ver y aclararemos lo que realmente está sucediendo por dentro."
      ]
    }
  ]
}