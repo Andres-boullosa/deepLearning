{
 "cells": [
  {
   "cell_type": "markdown",
   "metadata": {},
   "source": [
    "## Configurar la estación de trabajo antes de comenzar"
   ]
  },
  {
   "cell_type": "markdown",
   "metadata": {},
   "source": [
    "- Si se tiene una **GPU NVIDIA** moderna, mejor que mejor (**TITAN X o GTX 1080 Ti**) entre 1K dólares y 1,5K dólares -> Si te vas a tomar en serio esto del Deep Learning\n",
    "- Como alternativa:\n",
    "    - **Amazon Web Services**\n",
    "        - Instancia **GPU AWS p2.xlarge** (0,9 dólares por hora) - Está bien para uso ocasional, que es lo que haremos\n",
    "        - Deep Learning AMI EC2 oficial https://aws.amazon.com/es/machine-learning/amis/?c=14&pt=17 y experimentos de Keras como notebooks de Jupyter en EC2 (si no tenemos GPU en el ordenador local)\n",
    "    - **Google Cloud Platform**\n",
    "        - Instancia **n1-standard-8**\n",
    "        - Complemento **NVIDIA Tesla K80**\n",
    "- Estación de Trabajo Unix (Linux o Mac) - Si se usa Windows, poner un arranque dual con Ubuntu (Mejor que con máquina virtual VirtualBox, por ejemplo)\n",
    "- Para usar **Keras**, hay que instalar:\n",
    "    - **TensorFlow**\n",
    "    - **Theano** (este es el que usaremos) o CNTK\n",
    "- Notebooks de Jupyter de https://jupyter.org instalados mejor desde https://www.anaconda.com/ solo si se tiene una GPU NVIDIA de gama alta. "
   ]
  },
  {
   "cell_type": "markdown",
   "metadata": {},
   "source": [
    "### Ejecutar notebooks de Jupyter en una instancia de GPU en EC2"
   ]
  },
  {
   "cell_type": "markdown",
   "metadata": {},
   "source": [
    "https://blog.keras.io"
   ]
  },
  {
   "cell_type": "markdown",
   "metadata": {},
   "source": [
    "Crearse, con el correo de la universidad, una cuenta gratuita (aunque pide tarjeta de crédito en el alta) de AWS por 12 meses con recursos limitados en:\n",
    "- https://aws.amazon.com/es/free/?nc2=h_ql_pr_ft&all-free-tier.sort-by=item.additionalFields.SortRank&all-free-tier.sort-order=asc&awsf.Free%20Tier%20Types=*all&awsf.Free%20Tier%20Categories=*all\n"
   ]
  },
  {
   "cell_type": "markdown",
   "metadata": {},
   "source": [
    "- Estando ya **logado**, ir a **panel de control de EC2** y **lanzar instancia** en https://console.aws.amazon.com/ec2/v2\n",
    "- Seleccionar **AWS Marketpace** y buscar **deep learning** en el cuadro de búsqueda hasta encontrar **Deep Learning AMI Ubuntu Version** y seleccionar el primero: **Deep Learning Base AMI Ubuntu 16.04 Version 34.0 Support by Bansir**. **AMI** es el acrónimo de **AMAZON MACHINE IMAGE**\n",
    "- Seleccionamos la instancia **p2.xlarge** que proporciona acceso a una GPU (a 0,9 dolares/hora)\n",
    "- Ojo, esta **versión gratuita es durante 5 días**. No se le cobrará el software, pero se seguirán aplicando cargos por la infraestructura de AWS. La versión de **prueba gratuita pasará a ser una suscripción de pago** automáticamente **tras su vencimiento**.\n",
    "- Mantenemos la configuración predeterminada para los pasos:\n",
    "    - **Configure Instance**: p2.xlarge\n",
    "    - **Add Storage**\n",
    "    - **Add Tags**\n",
    "- Pero personalizamos el paso **Configure Security Group**\n",
    "    - Crear un nuevo grupo de seguridad\n",
    "        - SSH | TCP | 22 | Custom: 0.0.0.0/0\n",
    "        - Custom TCP Rule | TCP | 8888 |Anywhere: 0.0.0.0/0,::/0 \n",
    "        \n",
    "        La hacemos accesible desde cualquier IP a pesar de los Warnings por cuestiones de IP dinámica de nuestros equipos.. Añadiremos una protección con contraseña para reducir el riesgo"
   ]
  },
  {
   "cell_type": "markdown",
   "metadata": {},
   "source": [
    "- Pulsamos **lanzar** y nos preguntará si deseamos crear nuevas claves de conexión. Creamos claves nuevas y las descargamos. Un par de claves consta de una **clave pública** que **AWS almacena** y un archivo de **claves privadas** que **almacenamos nosotros**. Juntas, nos permiten conectarnos a nuestra instancia de forma segura. Para las AMI de Linux, el archivo de claves privadas nos permite establecer una conexión SSH segura con su instancia. Amazon EC2 es compatible con los tipos de clave RSA y ED25519.\n",
    "    - Generamos el par del claves RSA con nombre, en mi caso, dl_carlosrabazo\n",
    "    - Lanzamos la instancia"
   ]
  },
  {
   "cell_type": "markdown",
   "metadata": {},
   "source": [
    "- Nos conectamos a la instancia recien creada desde el **panel de control EC2** seleccionandola y pulsando el botón **Connect** y siguiendo las instrucciones que permiten configurar el acceso desde un cliente SSH usando las claves generadas:\n",
    "\n",
    "```\n",
    "    chmod 400 dl_carlosrabazo.pem\n",
    "    ssh -i \"dl_carlosrabazo.pem\" ubuntu@ec2-54-147-126-214.compute-1.amazonaws.com\n",
    "```\n",
    "\n"
   ]
  },
  {
   "cell_type": "markdown",
   "metadata": {},
   "source": [
    "- Una vez que se haya iniciado la sesión en la instancia mediante SSH, creamos un directorio ssl en la raiz de la instancia y creamos un nuevo certificado SSL usando OpenSSL, creando los archivos cert.key y cert.pem en el nuevo directorio\n",
    "\n",
    "```\n",
    "$ mkdir ssl\n",
    "$ cd ssl\n",
    "$ openssl req -x509 -nodes -days 365 -newkey rsa:1024 -keyout \"cert.key\" -out \"cert.pem\" -batch\n",
    "```\n"
   ]
  },
  {
   "cell_type": "markdown",
   "metadata": {},
   "source": [
    "### Configurar Jupyter"
   ]
  },
  {
   "cell_type": "code",
   "execution_count": null,
   "metadata": {},
   "outputs": [],
   "source": []
  },
  {
   "cell_type": "code",
   "execution_count": null,
   "metadata": {},
   "outputs": [],
   "source": []
  },
  {
   "cell_type": "code",
   "execution_count": null,
   "metadata": {},
   "outputs": [],
   "source": []
  },
  {
   "cell_type": "code",
   "execution_count": null,
   "metadata": {},
   "outputs": [],
   "source": []
  },
  {
   "cell_type": "code",
   "execution_count": null,
   "metadata": {},
   "outputs": [],
   "source": []
  },
  {
   "cell_type": "markdown",
   "metadata": {},
   "source": [
    "### Instalar Keras en la instancia EC2 de AWS"
   ]
  },
  {
   "cell_type": "code",
   "execution_count": null,
   "metadata": {},
   "outputs": [],
   "source": []
  },
  {
   "cell_type": "code",
   "execution_count": null,
   "metadata": {},
   "outputs": [],
   "source": []
  },
  {
   "cell_type": "code",
   "execution_count": null,
   "metadata": {},
   "outputs": [],
   "source": []
  },
  {
   "cell_type": "code",
   "execution_count": null,
   "metadata": {},
   "outputs": [],
   "source": []
  },
  {
   "cell_type": "code",
   "execution_count": null,
   "metadata": {},
   "outputs": [],
   "source": []
  },
  {
   "cell_type": "markdown",
   "metadata": {},
   "source": [
    "### Configurar la redirección del puerto local"
   ]
  },
  {
   "cell_type": "code",
   "execution_count": null,
   "metadata": {},
   "outputs": [],
   "source": []
  },
  {
   "cell_type": "code",
   "execution_count": null,
   "metadata": {},
   "outputs": [],
   "source": []
  },
  {
   "cell_type": "code",
   "execution_count": null,
   "metadata": {},
   "outputs": [],
   "source": []
  },
  {
   "cell_type": "code",
   "execution_count": null,
   "metadata": {},
   "outputs": [],
   "source": []
  },
  {
   "cell_type": "code",
   "execution_count": null,
   "metadata": {},
   "outputs": [],
   "source": []
  },
  {
   "cell_type": "markdown",
   "metadata": {},
   "source": [
    "### Utilizar Jupyter desde el navegador local"
   ]
  },
  {
   "cell_type": "code",
   "execution_count": null,
   "metadata": {},
   "outputs": [],
   "source": []
  },
  {
   "cell_type": "code",
   "execution_count": null,
   "metadata": {},
   "outputs": [],
   "source": []
  },
  {
   "cell_type": "code",
   "execution_count": null,
   "metadata": {},
   "outputs": [],
   "source": []
  },
  {
   "cell_type": "code",
   "execution_count": null,
   "metadata": {},
   "outputs": [],
   "source": []
  },
  {
   "cell_type": "code",
   "execution_count": null,
   "metadata": {
    "jupyter": {
     "source_hidden": true
    }
   },
   "outputs": [],
   "source": []
  }
 ],
 "metadata": {
  "kernelspec": {
   "display_name": "Python 3",
   "language": "python",
   "name": "python3"
  },
  "language_info": {
   "codemirror_mode": {
    "name": "ipython",
    "version": 3
   },
   "file_extension": ".py",
   "mimetype": "text/x-python",
   "name": "python",
   "nbconvert_exporter": "python",
   "pygments_lexer": "ipython3",
   "version": "3.8.5"
  }
 },
 "nbformat": 4,
 "nbformat_minor": 4
}
