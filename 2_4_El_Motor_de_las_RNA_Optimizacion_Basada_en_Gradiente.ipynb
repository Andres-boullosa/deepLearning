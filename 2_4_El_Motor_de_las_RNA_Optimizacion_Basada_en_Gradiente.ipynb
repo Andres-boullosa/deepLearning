{
  "nbformat": 4,
  "nbformat_minor": 0,
  "metadata": {
    "colab": {
      "name": "2_4_El Motor de las RNA_Optimizacion Basada en Gradiente.ipynb",
      "provenance": [],
      "authorship_tag": "ABX9TyP129FwKhBiUiMVx2KPlOE3",
      "include_colab_link": true
    },
    "kernelspec": {
      "name": "python3",
      "display_name": "Python 3"
    },
    "language_info": {
      "name": "python"
    }
  },
  "cells": [
    {
      "cell_type": "markdown",
      "metadata": {
        "id": "view-in-github",
        "colab_type": "text"
      },
      "source": [
        "<a href=\"https://colab.research.google.com/github/carlosemiliorabazo/deepLearning/blob/master/2_4_El_Motor_de_las_RNA_Optimizacion_Basada_en_Gradiente.ipynb\" target=\"_parent\"><img src=\"https://colab.research.google.com/assets/colab-badge.svg\" alt=\"Open In Colab\"/></a>"
      ]
    },
    {
      "cell_type": "markdown",
      "metadata": {
        "id": "pew_KLoKnLpC"
      },
      "source": [
        "# El Motor de las Redes Neuronas Artificiales: Optimización Basada en Gradiente\n",
        "\n",
        "Recordamos que cada capa de la red que hemos diseñado transforma sus datos de entradas de la siguiente forma:\n",
        "\n",
        "``output = relu(dot(W, input) + b)``\n"
      ]
    },
    {
      "cell_type": "code",
      "metadata": {
        "id": "iXUb-EjHoY5e"
      },
      "source": [
        ""
      ],
      "execution_count": null,
      "outputs": []
    }
  ]
}