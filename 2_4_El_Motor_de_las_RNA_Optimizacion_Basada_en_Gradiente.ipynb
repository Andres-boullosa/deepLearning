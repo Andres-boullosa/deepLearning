{
  "nbformat": 4,
  "nbformat_minor": 0,
  "metadata": {
    "colab": {
      "name": "2_4_El Motor de las RNA_Optimizacion Basada en Gradiente.ipynb",
      "provenance": [],
      "authorship_tag": "ABX9TyOu1GP6hVmENccMVFHponAe",
      "include_colab_link": true
    },
    "kernelspec": {
      "name": "python3",
      "display_name": "Python 3"
    },
    "language_info": {
      "name": "python"
    }
  },
  "cells": [
    {
      "cell_type": "markdown",
      "metadata": {
        "id": "view-in-github",
        "colab_type": "text"
      },
      "source": [
        "<a href=\"https://colab.research.google.com/github/carlosemiliorabazo/deepLearning/blob/master/2_4_El_Motor_de_las_RNA_Optimizacion_Basada_en_Gradiente.ipynb\" target=\"_parent\"><img src=\"https://colab.research.google.com/assets/colab-badge.svg\" alt=\"Open In Colab\"/></a>"
      ]
    },
    {
      "cell_type": "markdown",
      "metadata": {
        "id": "pew_KLoKnLpC"
      },
      "source": [
        "# El Motor de las Redes Neuronas Artificiales: Optimización Basada en Gradiente\n",
        "\n",
        "Recordamos todo lo que hemos hecho:"
      ]
    },
    {
      "cell_type": "code",
      "metadata": {
        "id": "iXUb-EjHoY5e",
        "outputId": "288333dd-f2b5-4519-9654-47c089e72c80",
        "colab": {
          "base_uri": "https://localhost:8080/"
        }
      },
      "source": [
        "# Repasando todo lo que hemos hecho:\n",
        "# 1.- IMPORTAMOS KERAS\n",
        "import keras\n",
        "\n",
        "# 2.- CARGAMOS EL CONJUNTO DE DATOS MINIST EN KERAS\n",
        "from keras.datasets import mnist\n",
        "(train_images, train_labels), (test_images, test_labels) = mnist.load_data()\n",
        "\n",
        "# 3.- CONSTRUIMOS LA ARQUITECTURA DE LA RED\n",
        "from keras import models\n",
        "from keras import layers\n",
        "network = models.Sequential()\n",
        "# Creamos dos capas \"Dense\", que son capas neuronales densamente conectadas \n",
        "# (también llamadas \"completamente conectadas\")\n",
        "network.add(layers.Dense(512, activation='relu', input_shape=(28*28,)))\n",
        "# Capa de salida \"softmax\" de 10 vías (o neuronas). Significa que  \n",
        "# devolverá una matriz de 10 puntuaciones de probabilidad (sumando 1)\n",
        "# La puntuación será la probabilidad de que la imagen del dígito actual \n",
        "# pertenezca a una de nuestras clases de 10 dígitos.\n",
        "network.add(layers.Dense(10, activation='softmax'))\n",
        "\n",
        "# 4.- HACEMOS EL PASO DE COMPILACIÓN CARGANDO EL  \n",
        "# OPTIMIZADOR, LA FUNCIÓN DE PÉRDIDA Y LAS MÉTRICAS\n",
        "network.compile(optimizer='rmsprop',\n",
        "                loss='categorical_crossentropy',\n",
        "                metrics=['accuracy'])\n",
        "\n",
        "# 5.- PREPARAMOS LOS DATOS DE IMAGEN CON ALGUNA TRANSFORMACIÓN\n",
        "train_images = train_images.reshape((60000, 28 * 28))\n",
        "train_images = train_images.astype('float32') / 255\n",
        "test_images = test_images.reshape((10000, 28 * 28))\n",
        "test_images = test_images.astype('float32') / 255\n",
        "\n",
        "# 6.- PREPARACIÓN LAS ETIQUETAS\n",
        "from keras.utils.np_utils import to_categorical\n",
        "train_labels = to_categorical(train_labels)\n",
        "test_labels = to_categorical(test_labels)\n",
        "\n",
        "# 7.- ENTRENAMOS LA RED CON EL JUEGO DE DATOS DE ENTRENAMIENTO\n",
        "network.fit(train_images, train_labels, epochs=5, batch_size=128)\n",
        "\n",
        "# 8.- VERIFICAMOS NUESTRO MODELO YA ENTRENADO, CONTRA EL CONJUNTO DE PRUEBAS\n",
        "test_loss, test_acc = network.evaluate(test_images, test_labels)\n",
        "print('test_acc:', test_acc)\n",
        "# HEMOS UTILIZADO MENOS DE 20 LÍNEAS DE CÓDIGO..."
      ],
      "execution_count": 1,
      "outputs": [
        {
          "output_type": "stream",
          "name": "stdout",
          "text": [
            "Downloading data from https://storage.googleapis.com/tensorflow/tf-keras-datasets/mnist.npz\n",
            "11493376/11490434 [==============================] - 0s 0us/step\n",
            "11501568/11490434 [==============================] - 0s 0us/step\n",
            "Epoch 1/5\n",
            "469/469 [==============================] - 4s 6ms/step - loss: 0.2526 - accuracy: 0.9268\n",
            "Epoch 2/5\n",
            "469/469 [==============================] - 3s 7ms/step - loss: 0.1037 - accuracy: 0.9691\n",
            "Epoch 3/5\n",
            "469/469 [==============================] - 3s 7ms/step - loss: 0.0678 - accuracy: 0.9799\n",
            "Epoch 4/5\n",
            "469/469 [==============================] - 3s 6ms/step - loss: 0.0494 - accuracy: 0.9851\n",
            "Epoch 5/5\n",
            "469/469 [==============================] - 3s 6ms/step - loss: 0.0374 - accuracy: 0.9888\n",
            "313/313 [==============================] - 1s 2ms/step - loss: 0.0686 - accuracy: 0.9793\n",
            "test_acc: 0.9793000221252441\n"
          ]
        }
      ]
    },
    {
      "cell_type": "markdown",
      "metadata": {
        "id": "0Vc05j6w4mzP"
      },
      "source": [
        "Recordamos que cada capa de la red que hemos diseñado transforma sus datos de entradas de la siguiente forma:\n",
        "\n",
        "``output = relu(dot(W, input) + b)``\n",
        "\n",
        "\n"
      ]
    }
  ]
}