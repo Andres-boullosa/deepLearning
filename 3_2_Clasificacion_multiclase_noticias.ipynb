{
  "nbformat": 4,
  "nbformat_minor": 0,
  "metadata": {
    "kernelspec": {
      "display_name": "Python 3",
      "language": "python",
      "name": "python3"
    },
    "language_info": {
      "codemirror_mode": {
        "name": "ipython",
        "version": 3
      },
      "file_extension": ".py",
      "mimetype": "text/x-python",
      "name": "python",
      "nbconvert_exporter": "python",
      "pygments_lexer": "ipython3",
      "version": "3.5.2"
    },
    "colab": {
      "name": "3_2_Clasificacion_multiclase_noticias.ipynb",
      "provenance": []
    }
  },
  "cells": [
    {
      "cell_type": "code",
      "metadata": {
        "id": "Dmi65Nt7nxld",
        "outputId": "5cda2301-c384-40f7-aff1-b87682b70234",
        "colab": {
          "base_uri": "https://localhost:8080/",
          "height": 35
        }
      },
      "source": [
        "import keras\n",
        "keras.__version__"
      ],
      "execution_count": 1,
      "outputs": [
        {
          "output_type": "execute_result",
          "data": {
            "application/vnd.google.colaboratory.intrinsic+json": {
              "type": "string"
            },
            "text/plain": [
              "'2.6.0'"
            ]
          },
          "metadata": {},
          "execution_count": 1
        }
      ]
    },
    {
      "cell_type": "markdown",
      "metadata": {
        "id": "TkrnDKKMnxlg"
      },
      "source": [
        "# Clasificación de noticias: un ejemplo de clasificación multiclase\n",
        "----\n",
        "Ya hemos visto cómo clasificar las entradas vectoriales en dos clases mutuamente excluyentes utilizando una red neuronal densamente conectada.\n",
        "Pero, ¿qué pasa cuando tienes más de dos clases?\n",
        "\n",
        "Ahora crearemos una red para clasificar las noticias de Reuters en **46 temas mutuamente excluyentes**. Como cada noticia debe clasificarse en una sola categoría, es un problema de **\"clasificación multiclase de una sola etiqueta\"**."
      ]
    },
    {
      "cell_type": "markdown",
      "metadata": {
        "id": "Izoyxmwbnxli"
      },
      "source": [
        "## El conjunto de datos de Reuters\n",
        "\n",
        "El Reuters dataset es un conjunto de noticias breves y sus temas, publicado por Reuters en 1986. Son 46 temas diferentes; **algunos temas están más representados que otros**, pero cada uno tiene, al menos, **10 ejemplos en el conjunto** de entrenamiento.\n",
        "\n",
        "Al igual que IMDB y MNIST, el conjunto de datos de Reuters viene **empaquetado como parte de Keras**."
      ]
    },
    {
      "cell_type": "code",
      "metadata": {
        "collapsed": true,
        "id": "9NaMkWBXnxli",
        "outputId": "6ab382b1-abd5-496a-f09b-ef76c71d9f31",
        "colab": {
          "base_uri": "https://localhost:8080/"
        }
      },
      "source": [
        "from keras.datasets import reuters\n",
        "\n",
        "(train_data, train_labels), (test_data, test_labels) = reuters.load_data(num_words=10000)"
      ],
      "execution_count": 2,
      "outputs": [
        {
          "output_type": "stream",
          "name": "stdout",
          "text": [
            "Downloading data from https://storage.googleapis.com/tensorflow/tf-keras-datasets/reuters.npz\n",
            "2113536/2110848 [==============================] - 0s 0us/step\n",
            "2121728/2110848 [==============================] - 0s 0us/step\n"
          ]
        }
      ]
    },
    {
      "cell_type": "markdown",
      "metadata": {
        "id": "CozwLpAvnxli"
      },
      "source": [
        "Al igual que con el conjunto de datos de IMDB, el argumento `num_words = 10000` restringe los datos a las 10.000 palabras más frecuentes que se encuentran en los datos.\n",
        "\n",
        "Tenemos 8.982 ejemplos de entrenamiento y 2.246 ejemplos de prueba:"
      ]
    },
    {
      "cell_type": "code",
      "metadata": {
        "id": "0HJcxlr1nxlj",
        "outputId": "fbe901b4-e91a-4c19-a6a4-14457e49bf41",
        "colab": {
          "base_uri": "https://localhost:8080/"
        }
      },
      "source": [
        "len(train_data)"
      ],
      "execution_count": 3,
      "outputs": [
        {
          "output_type": "execute_result",
          "data": {
            "text/plain": [
              "8982"
            ]
          },
          "metadata": {},
          "execution_count": 3
        }
      ]
    },
    {
      "cell_type": "code",
      "metadata": {
        "id": "LbKH6-Cpnxlj",
        "outputId": "d74337f8-2ad2-448f-d149-274d4d272cd4",
        "colab": {
          "base_uri": "https://localhost:8080/"
        }
      },
      "source": [
        "len(test_data)"
      ],
      "execution_count": 4,
      "outputs": [
        {
          "output_type": "execute_result",
          "data": {
            "text/plain": [
              "2246"
            ]
          },
          "metadata": {},
          "execution_count": 4
        }
      ]
    },
    {
      "cell_type": "markdown",
      "metadata": {
        "id": "rRQ7AWE5nxlk"
      },
      "source": [
        "Al igual que con las críticas de IMDB, cada ejemplo es una lista de números enteros (índices de palabras): "
      ]
    },
    {
      "cell_type": "code",
      "metadata": {
        "id": "x7Sfvxm-nxlk",
        "outputId": "77feec57-b534-4e63-a684-41f647b069b2",
        "colab": {
          "base_uri": "https://localhost:8080/"
        }
      },
      "source": [
        "train_data[10]"
      ],
      "execution_count": 5,
      "outputs": [
        {
          "output_type": "execute_result",
          "data": {
            "text/plain": [
              "[1,\n",
              " 245,\n",
              " 273,\n",
              " 207,\n",
              " 156,\n",
              " 53,\n",
              " 74,\n",
              " 160,\n",
              " 26,\n",
              " 14,\n",
              " 46,\n",
              " 296,\n",
              " 26,\n",
              " 39,\n",
              " 74,\n",
              " 2979,\n",
              " 3554,\n",
              " 14,\n",
              " 46,\n",
              " 4689,\n",
              " 4329,\n",
              " 86,\n",
              " 61,\n",
              " 3499,\n",
              " 4795,\n",
              " 14,\n",
              " 61,\n",
              " 451,\n",
              " 4329,\n",
              " 17,\n",
              " 12]"
            ]
          },
          "metadata": {},
          "execution_count": 5
        }
      ]
    },
    {
      "cell_type": "markdown",
      "metadata": {
        "id": "ys_v0Ykknxlk"
      },
      "source": [
        "Así es como podemos decodificarlo para volverlo a convertir en palabras, por si tenéis curiosidad:"
      ]
    },
    {
      "cell_type": "code",
      "metadata": {
        "collapsed": true,
        "id": "B4N2Ygn0nxll",
        "outputId": "4fb5c724-ce33-4732-c5de-0e908b7f5bbb",
        "colab": {
          "base_uri": "https://localhost:8080/"
        }
      },
      "source": [
        "word_index = reuters.get_word_index()\n",
        "reverse_word_index = dict([(value, key) for (key, value) in word_index.items()])\n",
        "# Los índices están desviados en 3 porque 0, 1 y 2 don índices reservados para \n",
        "# \"relleno\", \"comienzo de secuencia\" y \"desconocido\"\n",
        "decoded_newswire = ' '.join([reverse_word_index.get(i - 3, '?') for i in train_data[0]])"
      ],
      "execution_count": 6,
      "outputs": [
        {
          "output_type": "stream",
          "name": "stdout",
          "text": [
            "Downloading data from https://storage.googleapis.com/tensorflow/tf-keras-datasets/reuters_word_index.json\n",
            "557056/550378 [==============================] - 0s 0us/step\n",
            "565248/550378 [==============================] - 0s 0us/step\n"
          ]
        }
      ]
    },
    {
      "cell_type": "code",
      "metadata": {
        "id": "wMcRFJbXnxll",
        "outputId": "bf622f2b-877e-4edb-c7e8-5ad507f6224a",
        "colab": {
          "base_uri": "https://localhost:8080/",
          "height": 52
        }
      },
      "source": [
        "decoded_newswire"
      ],
      "execution_count": 7,
      "outputs": [
        {
          "output_type": "execute_result",
          "data": {
            "application/vnd.google.colaboratory.intrinsic+json": {
              "type": "string"
            },
            "text/plain": [
              "'? ? ? said as a result of its december acquisition of space co it expects earnings per share in 1987 of 1 15 to 1 30 dlrs per share up from 70 cts in 1986 the company said pretax net should rise to nine to 10 mln dlrs from six mln dlrs in 1986 and rental operation revenues to 19 to 22 mln dlrs from 12 5 mln dlrs it said cash flow per share this year should be 2 50 to three dlrs reuter 3'"
            ]
          },
          "metadata": {},
          "execution_count": 7
        }
      ]
    },
    {
      "cell_type": "markdown",
      "metadata": {
        "id": "9AyXoYH0nxlm"
      },
      "source": [
        "La etiqueta sociada con el ejemplo es un entero entre 0 y 45 (un índice del tema)"
      ]
    },
    {
      "cell_type": "code",
      "metadata": {
        "id": "Oxcy5sxjnxlm",
        "outputId": "ca824a1c-073a-4726-c3cc-c898006acbd4",
        "colab": {
          "base_uri": "https://localhost:8080/"
        }
      },
      "source": [
        "train_labels[10]"
      ],
      "execution_count": 8,
      "outputs": [
        {
          "output_type": "execute_result",
          "data": {
            "text/plain": [
              "3"
            ]
          },
          "metadata": {},
          "execution_count": 8
        }
      ]
    },
    {
      "cell_type": "markdown",
      "metadata": {
        "id": "DOzhvd6Znxlm"
      },
      "source": [
        "## Preparando los datos \n",
        "\n",
        "Podemor vectorizar los datos con el mismo código que en ejemplo de las críticas de cine."
      ]
    },
    {
      "cell_type": "code",
      "metadata": {
        "collapsed": true,
        "id": "x2ERdKRQnxlm"
      },
      "source": [
        "import numpy as np\n",
        "\n",
        "def vectorize_sequences(sequences, dimension=10000):\n",
        "    results = np.zeros((len(sequences), dimension))\n",
        "    for i, sequence in enumerate(sequences):\n",
        "        results[i, sequence] = 1.\n",
        "    return results\n",
        "\n",
        "# Datos de entrenamiento vectorizados\n",
        "x_train = vectorize_sequences(train_data)\n",
        "# Datos de test vectorizados\n",
        "x_test = vectorize_sequences(test_data)"
      ],
      "execution_count": 9,
      "outputs": []
    },
    {
      "cell_type": "markdown",
      "metadata": {
        "id": "wPom4deInxln"
      },
      "source": [
        "Para vectorizar las etiquetas, hay dos posibilidades\n",
        "1. Podríamos simplemente convertir la lista de etiquetas como un tensor entero\n",
        "2. Podríamos usar un \"one-hot\"codification. La codificación one-hot es un formato ampliamente utilizado para datos categóricos, también llamado \"codificación categórica\".\n",
        "\n",
        "En nuestro caso, la codificación **one-hot** de nuestras etiquetas consiste en incrustar cada etiqueta como un **vector con todo ceros, salvo un 1 en el lugar del índice de la etiqueta**:"
      ]
    },
    {
      "cell_type": "code",
      "metadata": {
        "collapsed": true,
        "id": "TH9mRCzInxln"
      },
      "source": [
        "def to_one_hot(labels, dimension=46):\n",
        "    results = np.zeros((len(labels), dimension))\n",
        "    for i, label in enumerate(labels):\n",
        "        results[i, label] = 1.\n",
        "    return results\n",
        "\n",
        "# Datos de entrenamiento vectorizados\n",
        "one_hot_train_labels = to_one_hot(train_labels)\n",
        "# Datos de test vectorizados\n",
        "one_hot_test_labels = to_one_hot(test_labels)"
      ],
      "execution_count": 10,
      "outputs": []
    },
    {
      "cell_type": "markdown",
      "metadata": {
        "id": "-FUV8ItHnxln"
      },
      "source": [
        "Tener en cuenta que hay una manera integrada de hacer esto en Keras, que ya hemos visto en nuestro ejemplo de MNIST:"
      ]
    },
    {
      "cell_type": "code",
      "metadata": {
        "collapsed": true,
        "id": "oLUqfGUCnxlo"
      },
      "source": [
        "from keras.utils.np_utils import to_categorical\n",
        "\n",
        "one_hot_train_labels = to_categorical(train_labels)\n",
        "one_hot_test_labels = to_categorical(test_labels)"
      ],
      "execution_count": 11,
      "outputs": []
    },
    {
      "cell_type": "markdown",
      "metadata": {
        "id": "0y7X1miPnxlo"
      },
      "source": [
        "## Crear la red\n",
        "\n",
        "\n",
        "Este problema de clasificación es parecido al anterior de películas solo que con una nueva restricción: el número de clases de salida ha pasado de 2 a 46, es decir, **la dimensionalidad del espacio de salida es mucho mayor**.\n",
        "\n",
        "En una pila de capas `Dense` como la que estábamos usando, cada capa solo puede acceder a la información presente en la salida de la capa anterior.\n",
        "Si una capa abandona una información relevante para el problema de clasificación, dicha información nunca podrá ser recuperada por capas posteriores: **cada capa puede, potencialmente, convertirse en un \"cuello de botella\" u obstáculo para la información\"**. En nuestro ejemplo anterior, estábamos usando capas intermedias de 16 dimensiones, pero un espacio de **16 dimensiones puede ser demasiado limitado para aprender a separar 46 clases diferentes**: capas tan pequeñas pueden actuar como cuellos de botella de información, abandonando permanentemente información relevante.\n",
        "\n",
        "Por esta razón usaremos capas más grandes. **Vayamos con 64 unidades**:"
      ]
    },
    {
      "cell_type": "code",
      "metadata": {
        "collapsed": true,
        "id": "9DauD9tcnxlo"
      },
      "source": [
        "from keras import models\n",
        "from keras import layers\n",
        "\n",
        "model = models.Sequential()\n",
        "model.add(layers.Dense(64, activation='relu', input_shape=(10000,)))\n",
        "model.add(layers.Dense(64, activation='relu'))\n",
        "model.add(layers.Dense(46, activation='softmax'))"
      ],
      "execution_count": 12,
      "outputs": []
    },
    {
      "cell_type": "markdown",
      "metadata": {
        "id": "yIZfUHTTnxlo"
      },
      "source": [
        "Hay otras dos cosas que debe tener en cuenta sobre esta arquitectura:\n",
        "\n",
        "* Terminamos la red con una capa \"Densa\" de tamaño 46. Para cada muestra de entrada, nuestra red generará un vector de 46 dimensiones. Cada entrada en este vector (cada dimensión) codificará una clase de salida diferente.\n",
        "* La última capa utiliza una activación \"softmax\". Esto significa que la red\n",
        "genera una **distribución de probabilidad** sobre las 46 clases de salida diferentes, es decir, para cada muestra de entrada, la red producirá un\n",
        "vector de salida de 46 dimensiones donde \"salida [i]\" es la probabilidad de que la muestra pertenezca a la clase \"i\". Las 46 puntuaciones sumarán 1.\n",
        "\n",
        "La mejor función de pérdida para usar en este caso es `categorical_crossentropy`. Mide la distancia entre dos distribuciones de probabilidad: en nuestro caso, entre la distribución de probabilidad de salida de nuestra red y la distribución real de las etiquetas. Minimizando el\n",
        "distancia entre estas dos distribuciones, entrenamos nuestra red para generar algo lo más cercano posible a las etiquetas verdaderas."
      ]
    },
    {
      "cell_type": "code",
      "metadata": {
        "collapsed": true,
        "id": "H58tHWI6nxlp"
      },
      "source": [
        "model.compile(optimizer='rmsprop',\n",
        "              loss='categorical_crossentropy',\n",
        "              metrics=['accuracy'])"
      ],
      "execution_count": 13,
      "outputs": []
    },
    {
      "cell_type": "markdown",
      "metadata": {
        "id": "k_ZvZWM6nxlp"
      },
      "source": [
        "## Validar el enfoque:\n",
        "\n",
        "Vamos a separar 1.000 muestras en los datos de entrenamiento para utilizarlas como conjunto de validación :"
      ]
    },
    {
      "cell_type": "code",
      "metadata": {
        "collapsed": true,
        "id": "8C9_lrCUnxlp"
      },
      "source": [
        "x_val = x_train[:1000]\n",
        "partial_x_train = x_train[1000:]\n",
        "\n",
        "y_val = one_hot_train_labels[:1000]\n",
        "partial_y_train = one_hot_train_labels[1000:]"
      ],
      "execution_count": 14,
      "outputs": []
    },
    {
      "cell_type": "markdown",
      "metadata": {
        "id": "H_sWy-GOnxlp"
      },
      "source": [
        "Ahora entrenamos nuestra red con 20 épocas:"
      ]
    },
    {
      "cell_type": "code",
      "metadata": {
        "id": "0nmfVLisnxlq",
        "outputId": "add160d2-98fa-4dcb-c7f4-250e026320ef",
        "colab": {
          "base_uri": "https://localhost:8080/"
        }
      },
      "source": [
        "history = model.fit(partial_x_train,\n",
        "                    partial_y_train,\n",
        "                    epochs=20,\n",
        "                    batch_size=512,\n",
        "                    validation_data=(x_val, y_val))"
      ],
      "execution_count": 15,
      "outputs": [
        {
          "output_type": "stream",
          "name": "stdout",
          "text": [
            "Epoch 1/20\n",
            "16/16 [==============================] - 2s 56ms/step - loss: 2.7438 - accuracy: 0.4698 - val_loss: 1.8224 - val_accuracy: 0.6280\n",
            "Epoch 2/20\n",
            "16/16 [==============================] - 1s 44ms/step - loss: 1.4590 - accuracy: 0.7061 - val_loss: 1.3114 - val_accuracy: 0.7320\n",
            "Epoch 3/20\n",
            "16/16 [==============================] - 1s 44ms/step - loss: 1.0616 - accuracy: 0.7740 - val_loss: 1.1367 - val_accuracy: 0.7460\n",
            "Epoch 4/20\n",
            "16/16 [==============================] - 1s 43ms/step - loss: 0.8365 - accuracy: 0.8218 - val_loss: 1.0633 - val_accuracy: 0.7570\n",
            "Epoch 5/20\n",
            "16/16 [==============================] - 1s 44ms/step - loss: 0.6682 - accuracy: 0.8591 - val_loss: 0.9610 - val_accuracy: 0.7930\n",
            "Epoch 6/20\n",
            "16/16 [==============================] - 1s 43ms/step - loss: 0.5334 - accuracy: 0.8890 - val_loss: 0.9010 - val_accuracy: 0.8180\n",
            "Epoch 7/20\n",
            "16/16 [==============================] - 1s 46ms/step - loss: 0.4351 - accuracy: 0.9087 - val_loss: 0.9032 - val_accuracy: 0.8130\n",
            "Epoch 8/20\n",
            "16/16 [==============================] - 1s 44ms/step - loss: 0.3567 - accuracy: 0.9260 - val_loss: 0.9195 - val_accuracy: 0.8160\n",
            "Epoch 9/20\n",
            "16/16 [==============================] - 1s 44ms/step - loss: 0.2942 - accuracy: 0.9371 - val_loss: 0.9166 - val_accuracy: 0.8150\n",
            "Epoch 10/20\n",
            "16/16 [==============================] - 1s 45ms/step - loss: 0.2487 - accuracy: 0.9446 - val_loss: 0.9077 - val_accuracy: 0.8240\n",
            "Epoch 11/20\n",
            "16/16 [==============================] - 1s 47ms/step - loss: 0.2169 - accuracy: 0.9480 - val_loss: 0.8963 - val_accuracy: 0.8220\n",
            "Epoch 12/20\n",
            "16/16 [==============================] - 1s 46ms/step - loss: 0.1847 - accuracy: 0.9533 - val_loss: 0.9577 - val_accuracy: 0.8170\n",
            "Epoch 13/20\n",
            "16/16 [==============================] - 1s 44ms/step - loss: 0.1726 - accuracy: 0.9530 - val_loss: 0.9616 - val_accuracy: 0.8180\n",
            "Epoch 14/20\n",
            "16/16 [==============================] - 1s 46ms/step - loss: 0.1535 - accuracy: 0.9545 - val_loss: 0.9787 - val_accuracy: 0.8140\n",
            "Epoch 15/20\n",
            "16/16 [==============================] - 1s 45ms/step - loss: 0.1405 - accuracy: 0.9564 - val_loss: 1.0169 - val_accuracy: 0.8090\n",
            "Epoch 16/20\n",
            "16/16 [==============================] - 1s 44ms/step - loss: 0.1369 - accuracy: 0.9529 - val_loss: 1.0055 - val_accuracy: 0.8090\n",
            "Epoch 17/20\n",
            "16/16 [==============================] - 1s 44ms/step - loss: 0.1259 - accuracy: 0.9574 - val_loss: 1.0291 - val_accuracy: 0.8060\n",
            "Epoch 18/20\n",
            "16/16 [==============================] - 1s 45ms/step - loss: 0.1208 - accuracy: 0.9574 - val_loss: 1.0846 - val_accuracy: 0.7990\n",
            "Epoch 19/20\n",
            "16/16 [==============================] - 1s 45ms/step - loss: 0.1165 - accuracy: 0.9570 - val_loss: 1.1111 - val_accuracy: 0.8000\n",
            "Epoch 20/20\n",
            "16/16 [==============================] - 1s 44ms/step - loss: 0.1168 - accuracy: 0.9587 - val_loss: 1.0890 - val_accuracy: 0.7990\n"
          ]
        }
      ]
    },
    {
      "cell_type": "markdown",
      "metadata": {
        "id": "xtxo4WFmnxlq"
      },
      "source": [
        "Vamos a ver las curvas de pérdida y precisión:"
      ]
    },
    {
      "cell_type": "code",
      "metadata": {
        "id": "PkGCFJ1-nxlq",
        "outputId": "75d79192-ebbe-46bc-a750-81c620d51d5a",
        "colab": {
          "base_uri": "https://localhost:8080/",
          "height": 297
        }
      },
      "source": [
        "import matplotlib.pyplot as plt\n",
        "\n",
        "loss = history.history['loss']\n",
        "val_loss = history.history['val_loss']\n",
        "\n",
        "epochs = range(1, len(loss) + 1)\n",
        "\n",
        "plt.plot(epochs, loss, 'bo', label='Pérdida del entreno')\n",
        "plt.plot(epochs, val_loss, 'b', label='Pérdida de la validación')\n",
        "plt.title('Perdidas del entreno y la validación')\n",
        "plt.xlabel('Épocas')\n",
        "plt.ylabel('Pérdida')\n",
        "plt.legend()\n",
        "\n",
        "plt.show()"
      ],
      "execution_count": 21,
      "outputs": [
        {
          "output_type": "display_data",
          "data": {
            "image/png": "[encoded data removed]",
            "text/plain": [
              "<Figure size 432x288 with 1 Axes>"
            ]
          },
          "metadata": {
            "needs_background": "light"
          }
        }
      ]
    },
    {
      "cell_type": "code",
      "metadata": {
        "id": "P3dcRt8inxlq",
        "outputId": "4e445c63-3c0d-4d11-8c07-38508356cdcd",
        "colab": {
          "base_uri": "https://localhost:8080/",
          "height": 297
        }
      },
      "source": [
        "plt.clf()   # Limpiamos el gráfico\n",
        "\n",
        "acc = history.history['accuracy']\n",
        "val_acc = history.history['val_accuracy']\n",
        "\n",
        "plt.plot(epochs, acc, 'bo', label='Precisión de entrenamiento')\n",
        "plt.plot(epochs, val_acc, 'b', label='Precisión de validación')\n",
        "plt.title('Precisión de entreno y validación')\n",
        "plt.xlabel('Épocas')\n",
        "plt.ylabel('Precisión')\n",
        "plt.legend()\n",
        "\n",
        "plt.show()"
      ],
      "execution_count": 22,
      "outputs": [
        {
          "output_type": "display_data",
          "data": {
            "image/png": "[encoded data removed]",
            "text/plain": [
              "<Figure size 432x288 with 1 Axes>"
            ]
          },
          "metadata": {
            "needs_background": "light"
          }
        }
      ]
    },
    {
      "cell_type": "markdown",
      "metadata": {
        "id": "GPrPZk-xnxlr"
      },
      "source": [
        "Parece que la red comienza a sobreajustarse después de 8 repeticiones (épocas). Entrenemos una nueva red desde cero durante 8 épocas, luego evaluémosla con el \n",
        "conjunto de prueba:"
      ]
    },
    {
      "cell_type": "code",
      "metadata": {
        "id": "mGO6girWnxlr",
        "outputId": "e48f5056-d479-4a21-8915-c404dd0660b1",
        "colab": {
          "base_uri": "https://localhost:8080/"
        }
      },
      "source": [
        "model = models.Sequential()\n",
        "model.add(layers.Dense(64, activation='relu', input_shape=(10000,)))\n",
        "model.add(layers.Dense(64, activation='relu'))\n",
        "model.add(layers.Dense(46, activation='softmax'))\n",
        "\n",
        "model.compile(optimizer='rmsprop',\n",
        "              loss='categorical_crossentropy',\n",
        "              metrics=['accuracy'])\n",
        "model.fit(partial_x_train,\n",
        "          partial_y_train,\n",
        "          epochs=8,\n",
        "          batch_size=512,\n",
        "          validation_data=(x_val, y_val))\n",
        "results = model.evaluate(x_test, one_hot_test_labels)"
      ],
      "execution_count": 23,
      "outputs": [
        {
          "output_type": "stream",
          "name": "stdout",
          "text": [
            "Epoch 1/8\n",
            "16/16 [==============================] - 1s 55ms/step - loss: 2.5589 - accuracy: 0.5336 - val_loss: 1.7196 - val_accuracy: 0.6560\n",
            "Epoch 2/8\n",
            "16/16 [==============================] - 1s 45ms/step - loss: 1.4188 - accuracy: 0.7080 - val_loss: 1.3125 - val_accuracy: 0.7070\n",
            "Epoch 3/8\n",
            "16/16 [==============================] - 1s 45ms/step - loss: 1.0673 - accuracy: 0.7734 - val_loss: 1.1380 - val_accuracy: 0.7540\n",
            "Epoch 4/8\n",
            "16/16 [==============================] - 1s 45ms/step - loss: 0.8529 - accuracy: 0.8186 - val_loss: 1.0424 - val_accuracy: 0.7730\n",
            "Epoch 5/8\n",
            "16/16 [==============================] - 1s 45ms/step - loss: 0.6911 - accuracy: 0.8534 - val_loss: 0.9909 - val_accuracy: 0.7810\n",
            "Epoch 6/8\n",
            "16/16 [==============================] - 1s 45ms/step - loss: 0.5538 - accuracy: 0.8850 - val_loss: 0.9275 - val_accuracy: 0.8040\n",
            "Epoch 7/8\n",
            "16/16 [==============================] - 1s 44ms/step - loss: 0.4437 - accuracy: 0.9048 - val_loss: 0.9238 - val_accuracy: 0.7980\n",
            "Epoch 8/8\n",
            "16/16 [==============================] - 1s 44ms/step - loss: 0.3592 - accuracy: 0.9225 - val_loss: 0.9254 - val_accuracy: 0.8060\n",
            "71/71 [==============================] - 0s 2ms/step - loss: 1.0344 - accuracy: 0.7796\n"
          ]
        }
      ]
    },
    {
      "cell_type": "code",
      "metadata": {
        "id": "1EG6Oap7nxls",
        "outputId": "d4cf6fda-1d61-451b-cab0-33b2a5992b53",
        "colab": {
          "base_uri": "https://localhost:8080/"
        }
      },
      "source": [
        "results"
      ],
      "execution_count": 24,
      "outputs": [
        {
          "output_type": "execute_result",
          "data": {
            "text/plain": [
              "[1.0344419479370117, 0.7796081900596619]"
            ]
          },
          "metadata": {},
          "execution_count": 24
        }
      ]
    },
    {
      "cell_type": "markdown",
      "metadata": {
        "id": "RiPAYJiwnxls"
      },
      "source": [
        "Este enfoque alcanza una precisión de ~ 78%. Con un problema de clasificación binaria equilibrada, la precisión alcanzada por un clasificador puramente aleatorio sería del 50%, pero en nuestro caso está más cerca del 19%, por lo que nuestros resultados parecen bastante buenos, al menos en comparación con una línea de base aleatoria:"
      ]
    },
    {
      "cell_type": "code",
      "metadata": {
        "id": "LFolLeyfnxls",
        "outputId": "32e0eaf1-f454-48ed-8c90-6193a9ca57fc",
        "colab": {
          "base_uri": "https://localhost:8080/"
        }
      },
      "source": [
        "import copy\n",
        "\n",
        "test_labels_copy = copy.copy(test_labels)\n",
        "np.random.shuffle(test_labels_copy)\n",
        "float(np.sum(np.array(test_labels) == np.array(test_labels_copy))) / len(test_labels)"
      ],
      "execution_count": 25,
      "outputs": [
        {
          "output_type": "execute_result",
          "data": {
            "text/plain": [
              "0.19056099732858414"
            ]
          },
          "metadata": {},
          "execution_count": 25
        }
      ]
    },
    {
      "cell_type": "markdown",
      "metadata": {
        "id": "0riNA9vQnxlt"
      },
      "source": [
        "## Generar predicciones en datos nuevos\n",
        "\n",
        "Podemos verificar que el método `predict` de nuestra instancia del modelo devuelve una distribución de probabilidad sobre los 46 temas. Generemos tema\n",
        "predicciones para todos los datos de prueba:"
      ]
    },
    {
      "cell_type": "code",
      "metadata": {
        "collapsed": true,
        "id": "gOZrZvFmnxlt"
      },
      "source": [
        "predictions = model.predict(x_test)"
      ],
      "execution_count": 26,
      "outputs": []
    },
    {
      "cell_type": "markdown",
      "metadata": {
        "id": "1bL0CtdInxlt"
      },
      "source": [
        "Cada entrada en `predictions` es un vector de longitud 46:"
      ]
    },
    {
      "cell_type": "code",
      "metadata": {
        "id": "tdlqjT_Mnxlt",
        "outputId": "7366db1f-f25e-4fb2-ac98-3d4f9ed60145",
        "colab": {
          "base_uri": "https://localhost:8080/"
        }
      },
      "source": [
        "predictions[0].shape"
      ],
      "execution_count": 27,
      "outputs": [
        {
          "output_type": "execute_result",
          "data": {
            "text/plain": [
              "(46,)"
            ]
          },
          "metadata": {},
          "execution_count": 27
        }
      ]
    },
    {
      "cell_type": "markdown",
      "metadata": {
        "id": "x3nDGb7lnxlt"
      },
      "source": [
        "Los coeficientes en este vector suman 1:"
      ]
    },
    {
      "cell_type": "code",
      "metadata": {
        "id": "ha0GKlU7nxlu",
        "outputId": "8273aebe-40d1-486a-a641-02c34a622665",
        "colab": {
          "base_uri": "https://localhost:8080/"
        }
      },
      "source": [
        "np.sum(predictions[0])"
      ],
      "execution_count": 28,
      "outputs": [
        {
          "output_type": "execute_result",
          "data": {
            "text/plain": [
              "1.0000001"
            ]
          },
          "metadata": {},
          "execution_count": 28
        }
      ]
    },
    {
      "cell_type": "markdown",
      "metadata": {
        "id": "zF6lPgbJnxlu"
      },
      "source": [
        "TLa mayor entrada es la clase predicha, es decir, la clase con la probabilidad más elevada:"
      ]
    },
    {
      "cell_type": "code",
      "metadata": {
        "id": "FkZyZdwdnxlu",
        "outputId": "69b1c85b-64c9-4500-e6c5-21619aba2894",
        "colab": {
          "base_uri": "https://localhost:8080/"
        }
      },
      "source": [
        "np.argmax(predictions[0])"
      ],
      "execution_count": 29,
      "outputs": [
        {
          "output_type": "execute_result",
          "data": {
            "text/plain": [
              "3"
            ]
          },
          "metadata": {},
          "execution_count": 29
        }
      ]
    },
    {
      "cell_type": "markdown",
      "metadata": {
        "id": "y7EzvpvYnxlu"
      },
      "source": [
        "## Una forma diferente de manejar las etiquetas y la pérdida\n",
        "\n",
        "Mencionamos anteriormente que otra forma de codificar las etiquetas sería convertirlas en un tensor entero, como tal: "
      ]
    },
    {
      "cell_type": "code",
      "metadata": {
        "collapsed": true,
        "id": "oSa9FT4qnxlv"
      },
      "source": [
        "y_train = np.array(train_labels)\n",
        "y_test = np.array(test_labels)"
      ],
      "execution_count": 30,
      "outputs": []
    },
    {
      "cell_type": "markdown",
      "metadata": {
        "id": "-JSB82gnnxlv"
      },
      "source": [
        "Lo único que cambiaría es la elección de la función de pérdida. Nuestra pérdida anterior, `categorical_crossentropy`, espera que las etiquetas sigan una codificación categórica. Con etiquetas enteras, deberíamos usar `sparse_categorical_crossentropy`:"
      ]
    },
    {
      "cell_type": "code",
      "metadata": {
        "collapsed": true,
        "id": "j13JZMBInxlv"
      },
      "source": [
        "model.compile(optimizer='rmsprop', loss='sparse_categorical_crossentropy', metrics=['acc'])"
      ],
      "execution_count": 31,
      "outputs": []
    },
    {
      "cell_type": "markdown",
      "metadata": {
        "id": "eY3c2X5Tnxlv"
      },
      "source": [
        "Esta nueva función de pérdida sigue siendo matemáticamente la misma que `categorical_crossentropy`; simplemente tiene una interfaz diferente."
      ]
    },
    {
      "cell_type": "markdown",
      "metadata": {
        "id": "k5OWwHpEnxlv"
      },
      "source": [
        "## Lo importante de tener capas intermedias lo bastante grandes:\n",
        "\n",
        "Mencionamos anteriormente que dado que nuestras salidas finales eran de 46 dimensiones, deberíamos evitar capas intermedias con mucho menos de 46 unidades ocultas. Ahora intentemos ver qué sucede cuando introducimos un cuello de botella de información al tener capas intermedias significativamente menores que\n",
        "46 dimensiones, p. Ej. 4 dimensiones."
      ]
    },
    {
      "cell_type": "code",
      "metadata": {
        "id": "MfIYddxPnxlw",
        "outputId": "a635ddea-2543-4a4e-c8f1-5a70b0dc56a4",
        "colab": {
          "base_uri": "https://localhost:8080/"
        }
      },
      "source": [
        "model = models.Sequential()\n",
        "model.add(layers.Dense(64, activation='relu', input_shape=(10000,)))\n",
        "model.add(layers.Dense(4, activation='relu'))\n",
        "model.add(layers.Dense(46, activation='softmax'))\n",
        "\n",
        "model.compile(optimizer='rmsprop',\n",
        "              loss='categorical_crossentropy',\n",
        "              metrics=['accuracy'])\n",
        "model.fit(partial_x_train,\n",
        "          partial_y_train,\n",
        "          epochs=20,\n",
        "          batch_size=128,\n",
        "          validation_data=(x_val, y_val))"
      ],
      "execution_count": 32,
      "outputs": [
        {
          "output_type": "stream",
          "name": "stdout",
          "text": [
            "Epoch 1/20\n",
            "63/63 [==============================] - 1s 17ms/step - loss: 3.2752 - accuracy: 0.1076 - val_loss: 2.6589 - val_accuracy: 0.3820\n",
            "Epoch 2/20\n",
            "63/63 [==============================] - 1s 16ms/step - loss: 2.0425 - accuracy: 0.5482 - val_loss: 1.7168 - val_accuracy: 0.6270\n",
            "Epoch 3/20\n",
            "63/63 [==============================] - 1s 15ms/step - loss: 1.4234 - accuracy: 0.6441 - val_loss: 1.4506 - val_accuracy: 0.6340\n",
            "Epoch 4/20\n",
            "63/63 [==============================] - 1s 15ms/step - loss: 1.1972 - accuracy: 0.6735 - val_loss: 1.3465 - val_accuracy: 0.6650\n",
            "Epoch 5/20\n",
            "63/63 [==============================] - 1s 15ms/step - loss: 1.0540 - accuracy: 0.7132 - val_loss: 1.2954 - val_accuracy: 0.6940\n",
            "Epoch 6/20\n",
            "63/63 [==============================] - 1s 15ms/step - loss: 0.9517 - accuracy: 0.7504 - val_loss: 1.3176 - val_accuracy: 0.6850\n",
            "Epoch 7/20\n",
            "63/63 [==============================] - 1s 15ms/step - loss: 0.8701 - accuracy: 0.7707 - val_loss: 1.2773 - val_accuracy: 0.7050\n",
            "Epoch 8/20\n",
            "63/63 [==============================] - 1s 15ms/step - loss: 0.7985 - accuracy: 0.7928 - val_loss: 1.2952 - val_accuracy: 0.7000\n",
            "Epoch 9/20\n",
            "63/63 [==============================] - 1s 15ms/step - loss: 0.7350 - accuracy: 0.8029 - val_loss: 1.3003 - val_accuracy: 0.7090\n",
            "Epoch 10/20\n",
            "63/63 [==============================] - 1s 15ms/step - loss: 0.6769 - accuracy: 0.8148 - val_loss: 1.3196 - val_accuracy: 0.7080\n",
            "Epoch 11/20\n",
            "63/63 [==============================] - 1s 15ms/step - loss: 0.6284 - accuracy: 0.8355 - val_loss: 1.3738 - val_accuracy: 0.7070\n",
            "Epoch 12/20\n",
            "63/63 [==============================] - 1s 15ms/step - loss: 0.5835 - accuracy: 0.8499 - val_loss: 1.3956 - val_accuracy: 0.7160\n",
            "Epoch 13/20\n",
            "63/63 [==============================] - 1s 15ms/step - loss: 0.5478 - accuracy: 0.8593 - val_loss: 1.4195 - val_accuracy: 0.7130\n",
            "Epoch 14/20\n",
            "63/63 [==============================] - 1s 15ms/step - loss: 0.5140 - accuracy: 0.8656 - val_loss: 1.4771 - val_accuracy: 0.7140\n",
            "Epoch 15/20\n",
            "63/63 [==============================] - 1s 14ms/step - loss: 0.4886 - accuracy: 0.8707 - val_loss: 1.5359 - val_accuracy: 0.7150\n",
            "Epoch 16/20\n",
            "63/63 [==============================] - 1s 15ms/step - loss: 0.4649 - accuracy: 0.8737 - val_loss: 1.5719 - val_accuracy: 0.7120\n",
            "Epoch 17/20\n",
            "63/63 [==============================] - 1s 15ms/step - loss: 0.4440 - accuracy: 0.8794 - val_loss: 1.6250 - val_accuracy: 0.7200\n",
            "Epoch 18/20\n",
            "63/63 [==============================] - 1s 15ms/step - loss: 0.4272 - accuracy: 0.8816 - val_loss: 1.6712 - val_accuracy: 0.7170\n",
            "Epoch 19/20\n",
            "63/63 [==============================] - 1s 15ms/step - loss: 0.4096 - accuracy: 0.8862 - val_loss: 1.7168 - val_accuracy: 0.7110\n",
            "Epoch 20/20\n",
            "63/63 [==============================] - 1s 15ms/step - loss: 0.3942 - accuracy: 0.8901 - val_loss: 1.7791 - val_accuracy: 0.7100\n"
          ]
        },
        {
          "output_type": "execute_result",
          "data": {
            "text/plain": [
              "<keras.callbacks.History at 0x7f7357065790>"
            ]
          },
          "metadata": {},
          "execution_count": 32
        }
      ]
    },
    {
      "cell_type": "markdown",
      "metadata": {
        "id": "yEHDBm4Dnxlw"
      },
      "source": [
        "Ahora la red llega aproximadamente al 71% de exactitud de la validación, una caída absoluta del 8%. Esta caída se debe principalmente al hecho de que ahora estamos tratando de comprimir mucha información (información suficiente para recuperar los hiperplanos de separación de 46 clases) en un espacio intermedio de muy pocas dimensiones. La red es capaz de meter la mayor parte de la información necesaria en estas representaciones de 4 dimensiones, pero no toda."
      ]
    },
    {
      "cell_type": "markdown",
      "metadata": {
        "id": "DAITmJA4nxlw"
      },
      "source": [
        "## Más experimentos\n",
        "\n",
        "* Intenta usar capas más grandes o más pequeñas: 32 unidades, 128 unidades ...\n",
        "* Estábamos usando dos capas ocultas. Ahora intenta crear una sola capa oculta o tres capas ocultas."
      ]
    },
    {
      "cell_type": "markdown",
      "metadata": {
        "id": "f3RF6XMlnxlx"
      },
      "source": [
        "## Resumen\n",
        "\n",
        "Esto es lo que debéis sacar de este ejemplo:\n",
        "\n",
        "* Si estáis intentando clasificar puntos de datos entre N clases, vuestra red debería terminar con una capa `Dense` de tamaño N.\n",
        "* En un problema de clasificación de una sola etiqueta asignada y varias clases, la red debe terminar con una activación tipo \"softmax\", de modo que genere un distribución de probabilidad sobre las N clases de salida.\n",
        "* `categorical_crossentropy` es casi siempre la función de pérdida que debe usar para estos problemas. Minimiza la distancia entre las distribuciones de probabilidad producidas por la red y la verdadera distribución de los objetivos.\n",
        "* Hay dos formas de manejar etiquetas en clasificación multiclase:\n",
        "  - Codificar las etiquetas a través de \"codificación categórica\" ​​(también conocida como \"codificación one-hot\") y usar `categorical_crossentropy` como su función de pérdida.\n",
        "  - Codificando las etiquetas como números enteros y usando la función de pérdida `sparse_categorical_crossentropy`.\n",
        "* Si necesitamos clasificar datos en una gran cantidad de categorías, debemos evitar crear cuellos de botella de información en la red al tener\n",
        "capas intermedias que son demasiado pequeñas."
      ]
    },
    {
      "cell_type": "code",
      "metadata": {
        "id": "gjAm-R3SYtS7"
      },
      "source": [
        ""
      ],
      "execution_count": null,
      "outputs": []
    }
  ]
}