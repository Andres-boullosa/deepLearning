{
  "nbformat": 4,
  "nbformat_minor": 0,
  "metadata": {
    "colab": {
      "name": "2_2_Representaciones_de_Datos_para_RNA.ipynb",
      "provenance": [],
      "collapsed_sections": [],
      "authorship_tag": "ABX9TyPz5+Ysv53oPmFmyzWoClT3",
      "include_colab_link": true
    },
    "kernelspec": {
      "name": "python3",
      "display_name": "Python 3"
    },
    "language_info": {
      "name": "python"
    }
  },
  "cells": [
    {
      "cell_type": "markdown",
      "metadata": {
        "id": "view-in-github",
        "colab_type": "text"
      },
      "source": [
        "<a href=\"https://colab.research.google.com/github/carlosemiliorabazo/deepLearning/blob/master/2_2_Representaciones_de_Datos_para_RNA.ipynb\" target=\"_parent\"><img src=\"https://colab.research.google.com/assets/colab-badge.svg\" alt=\"Open In Colab\"/></a>"
      ]
    },
    {
      "cell_type": "markdown",
      "metadata": {
        "id": "CkENI9v29QsR"
      },
      "source": [
        "## Representaciones de datos para Redes Neuronales\n",
        "- En el ejemplo anteior los datos estában en matrices multidimensionales **Numpy** también llamadas **tensores**\n",
        "- Un **tensor** es un contenedor de datos, casi siempre numéricos. Una **Matriz** es un **Tensor Bidimensional**\n",
        "- En un tensor, la **dimensión** se llama **eje** y el **númeor de ejes** se llama **rango*\n",
        "\n",
        "### Tensores de 0D (escalar)\n",
        "- En **Numpy**, un número `float32` o `float64` es un tensor escalar\n",
        "- Podemos mostrar el número de ejes de un tensor Numpy a el atributo `ndim` (en el caso del tensor escalar será igual a cero)\n"
      ]
    },
    {
      "cell_type": "code",
      "metadata": {
        "colab": {
          "base_uri": "https://localhost:8080/"
        },
        "id": "tfdgpnqL9Dgc",
        "outputId": "72bd3aac-04f1-453c-8697-49c68a0214af"
      },
      "source": [
        "import numpy as np\n",
        "x = np.array(12)\n",
        "x, x.ndim"
      ],
      "execution_count": 1,
      "outputs": [
        {
          "output_type": "execute_result",
          "data": {
            "text/plain": [
              "(array(12), 0)"
            ]
          },
          "metadata": {},
          "execution_count": 1
        }
      ]
    },
    {
      "cell_type": "markdown",
      "metadata": {
        "id": "jL70a48y9LYV"
      },
      "source": [
        ""
      ]
    }
  ]
}