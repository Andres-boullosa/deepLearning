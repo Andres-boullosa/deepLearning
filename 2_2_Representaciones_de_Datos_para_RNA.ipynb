{
  "nbformat": 4,
  "nbformat_minor": 0,
  "metadata": {
    "colab": {
      "name": "2_2_Representaciones_de_Datos_para_RNA.ipynb",
      "provenance": [],
      "collapsed_sections": [],
      "authorship_tag": "ABX9TyOGNuq2nSLeId+YsRjtMU6u",
      "include_colab_link": true
    },
    "kernelspec": {
      "name": "python3",
      "display_name": "Python 3"
    },
    "language_info": {
      "name": "python"
    }
  },
  "cells": [
    {
      "cell_type": "markdown",
      "metadata": {
        "id": "view-in-github",
        "colab_type": "text"
      },
      "source": [
        "<a href=\"https://colab.research.google.com/github/carlosemiliorabazo/deepLearning/blob/master/2_2_Representaciones_de_Datos_para_RNA.ipynb\" target=\"_parent\"><img src=\"https://colab.research.google.com/assets/colab-badge.svg\" alt=\"Open In Colab\"/></a>"
      ]
    },
    {
      "cell_type": "markdown",
      "metadata": {
        "id": "CkENI9v29QsR"
      },
      "source": [
        "## Representaciones de datos para Redes Neuronales\n",
        "- En el ejemplo anteior los datos estában en matrices multidimensionales **Numpy** también llamadas **tensores**\n",
        "- Un **tensor** es un contenedor de datos, casi siempre numéricos. Una **Matriz** es un **Tensor Bidimensional**\n",
        "- En un tensor, la **dimensión** se llama **eje** y el **númeor de ejes** se llama **rango*\n",
        "\n",
        "### Tensores 0D (escalares)\n",
        "- En **Numpy**, un número `float32` o `float64` es un tensor escalar\n",
        "- Podemos mostrar el número de ejes de un tensor Numpy a el atributo `ndim` (en el caso del tensor escalar será igual a cero)\n"
      ]
    },
    {
      "cell_type": "code",
      "metadata": {
        "colab": {
          "base_uri": "https://localhost:8080/"
        },
        "id": "tfdgpnqL9Dgc",
        "outputId": "72bd3aac-04f1-453c-8697-49c68a0214af"
      },
      "source": [
        "import numpy as np\n",
        "x = np.array(12)\n",
        "x, x.ndim"
      ],
      "execution_count": 1,
      "outputs": [
        {
          "output_type": "execute_result",
          "data": {
            "text/plain": [
              "(array(12), 0)"
            ]
          },
          "metadata": {},
          "execution_count": 1
        }
      ]
    },
    {
      "cell_type": "markdown",
      "metadata": {
        "id": "vYi0ZznlFXAB"
      },
      "source": [
        "### Tensores 1D (vectores)\n",
        "- En **Numpy**, una cadena de números es un tensor 1D o **vector**\n",
        "- Un **tensor 1D** tiene exactamente un **eje A**"
      ]
    },
    {
      "cell_type": "code",
      "metadata": {
        "colab": {
          "base_uri": "https://localhost:8080/"
        },
        "id": "2NG1_0MuFzhh",
        "outputId": "9005d4b3-5e5b-4668-d01c-5b8bb73e4c76"
      },
      "source": [
        "x = np.array([12, 3, 6, 14, 7])\n",
        "x, x.ndim"
      ],
      "execution_count": 2,
      "outputs": [
        {
          "output_type": "execute_result",
          "data": {
            "text/plain": [
              "(array([12,  3,  6, 14,  7]), 1)"
            ]
          },
          "metadata": {},
          "execution_count": 2
        }
      ]
    },
    {
      "cell_type": "markdown",
      "metadata": {
        "id": "jL70a48y9LYV"
      },
      "source": [
        "- Este vector de 5 entradas es un **vector 5-dimensional** (1 eje y 5 dimensiones) que no debemos confundir con un **tensor 5D** (que tendría 5 ejes, con cualquier cantidad de dimensiones a lo largo de cada eje, también llamado **tensor de rango 5**)"
      ]
    },
    {
      "cell_type": "markdown",
      "metadata": {
        "id": "OfhjfNs5HzE2"
      },
      "source": [
        "### Tensores 2D (matrices)\n",
        "- En **Numpy**, una cadena de vectores es un tensor 2D o **matriz**\n",
        "- Un **tensor 2D** tiene exactamente un **eje filas**  y un **eje colunas**"
      ]
    },
    {
      "cell_type": "code",
      "metadata": {
        "colab": {
          "base_uri": "https://localhost:8080/"
        },
        "id": "NLCHI-VXHyte",
        "outputId": "e0e91a47-3e13-410b-e6a7-366080dbf564"
      },
      "source": [
        "x = np.array([[5, 78, 2, 34, 0],\n",
        "              [6, 79, 3, 35, 1],\n",
        "              [7, 80, 4, 36, 2]])\n",
        "x, x.ndim"
      ],
      "execution_count": 3,
      "outputs": [
        {
          "output_type": "execute_result",
          "data": {
            "text/plain": [
              "(array([[ 5, 78,  2, 34,  0],\n",
              "        [ 6, 79,  3, 35,  1],\n",
              "        [ 7, 80,  4, 36,  2]]), 2)"
            ]
          },
          "metadata": {},
          "execution_count": 3
        }
      ]
    },
    {
      "cell_type": "markdown",
      "metadata": {
        "id": "Oxb8KArFK_W3"
      },
      "source": [
        "### Tensores 3D y con más dimensiones\n",
        "- En **Numpy**, una cadena de matrices (cubo de números) es un tensor 3D \n",
        "- Con Deep Learning solemos manipular tensores de 0D a 4D aunque si trabajamos con **video**, lo hacemos con **tensores 5D**"
      ]
    },
    {
      "cell_type": "code",
      "metadata": {
        "colab": {
          "base_uri": "https://localhost:8080/"
        },
        "id": "JahltSLJHeHH",
        "outputId": "b43d15ab-f4ef-4aef-d007-d6ccd9971f24"
      },
      "source": [
        "x = np.array([[[5, 78, 2, 34, 0],\n",
        "               [6, 79, 3, 35, 1],\n",
        "               [7, 80, 4, 36, 2]],\n",
        "              [[5, 78, 2, 34, 0],\n",
        "               [6, 79, 3, 35, 1],\n",
        "               [7, 80, 4, 36, 2]],\n",
        "              [[5, 78, 2, 34, 0],\n",
        "               [6, 79, 3, 35, 1],\n",
        "               [7, 80, 4, 36, 2]]])\n",
        "x, x.ndim"
      ],
      "execution_count": 4,
      "outputs": [
        {
          "output_type": "execute_result",
          "data": {
            "text/plain": [
              "(array([[[ 5, 78,  2, 34,  0],\n",
              "         [ 6, 79,  3, 35,  1],\n",
              "         [ 7, 80,  4, 36,  2]],\n",
              " \n",
              "        [[ 5, 78,  2, 34,  0],\n",
              "         [ 6, 79,  3, 35,  1],\n",
              "         [ 7, 80,  4, 36,  2]],\n",
              " \n",
              "        [[ 5, 78,  2, 34,  0],\n",
              "         [ 6, 79,  3, 35,  1],\n",
              "         [ 7, 80,  4, 36,  2]]]), 3)"
            ]
          },
          "metadata": {},
          "execution_count": 4
        }
      ]
    },
    {
      "cell_type": "markdown",
      "metadata": {
        "id": "BNhmOsJLMUkh"
      },
      "source": [
        "### Atributos Clave de un tensor\n",
        "1. **Número de ejes (rango)**: es el `ndim` de Numpy\n",
        "2. **Forma**: Tupla de enteros que indica cuantas dimensiones tiene el tensor en cada eje:\n",
        "  - El **escalar** del ejemplo (**tensor 0D**) tiene **forma ()**\n",
        "  - El **vector** del ejemplo (**tensor 1D**) tiene **forma (5,)**\n",
        "  - La **matriz** del ejemplo (**tensor 2D**) tiene **forma (3,5)**\n",
        "  - El **tensor 3D** del ejemplo tiene **forma (3,3,5)**)\n",
        "3. **Tipo de Datos** `dtype`:\n",
        "  - `float32`\n",
        "  - `uint8`\n",
        "  - `float64`\n",
        "  - ...\n",
        "  - Tensor `char` dificilmente de encontrar (no soportado por Numpy)"
      ]
    },
    {
      "cell_type": "code",
      "metadata": {
        "id": "qZvVq3IuMOls"
      },
      "source": [
        ""
      ],
      "execution_count": null,
      "outputs": []
    }
  ]
}