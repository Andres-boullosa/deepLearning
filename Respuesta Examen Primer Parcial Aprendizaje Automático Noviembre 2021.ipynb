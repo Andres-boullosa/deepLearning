{
  "nbformat": 4,
  "nbformat_minor": 0,
  "metadata": {
    "colab": {
      "name": "09-etapas-de-un-proyecto-deep-learning.ipynb",
      "provenance": []
    },
    "kernelspec": {
      "name": "python3",
      "display_name": "Python 3"
    },
    "accelerator": "GPU"
  },
  "cells": [
    {
      "cell_type": "markdown",
      "metadata": {
        "id": "FKNAOn5Ia7pG"
      },
      "source": [
        "\n",
        "# Respuesta Examen Primer Parcial Aprendizaje Automático Noviembre 2021"
      ]
    },
    {
      "cell_type": "markdown",
      "metadata": {
        "id": "YY7A2tyz8nTO"
      },
      "source": [
        "* Construiremos un modelo que pr**edice la eficiencia de combustible de vehículos** entre 1970 y 1980 a partir de del conjunto de datos Auto MPG124.\n",
        "\n",
        "* **PASO 1**: **Definir el problema** y plantearse si tenemos los datos adecuados para atacarlo ¿Qué intentamos predecir? **MPG de una serie de coches (valor continuo)** ¿Cuáles serán los datos de entrada?:\n",
        "  - **Millas por galón** (Miles per Gallon) (mpg):variable continua \n",
        "  - **Cilindros** (cylinders) : variable discreta de valores múltiples\n",
        "  - **Desplazamiento** (displacement) : variable continua\n",
        "  - **Potencia** (horsepower) : variable continua\n",
        "  - **Peso** (weight) : variable continua\n",
        "  - **Aceleración** (acceleration) : variable continua\n",
        "  - **Año del modelo** (model year) : variable discreta de valores múltiples\n",
        "  - **Origen** (origin) : variable categórica \n",
        "* ¿Qué tipo de problema estamos intentando solucionar? Es claramente una **REGRESIÓN**\n",
        "  - Consideraremos como entrada al modelo los datos **cylinders**, **displacement**, **horsepower**, **weight**, **acceleration**, **model year** y **origin**. \n",
        "- Consideramos como salida: **Miles per Gallon** (mpg). \n",
        "\n",
        "Estamos ante una **hipótesis de trabajo que parece bastante plausible**, es decir, con esta información de un coche podremos estimar cuál será su consumo. Es una típica tarea de regresión"
      ]
    },
    {
      "cell_type": "markdown",
      "metadata": {
        "id": "HhxVlFL7j4N6"
      },
      "source": [
        "### Inicialización"
      ]
    },
    {
      "cell_type": "markdown",
      "metadata": {
        "id": "UXlgmAKYGceX"
      },
      "source": [
        "Primero importamos todos los paquetes Python \n",
        "que se usarán en el código o pseudocódigo de este examen"
      ]
    },
    {
      "cell_type": "code",
      "metadata": {
        "id": "VcFrOCQOYU1R",
        "colab": {
          "base_uri": "https://localhost:8080/"
        },
        "outputId": "5d652af5-5dce-476b-c824-226ee44866ea"
      },
      "source": [
        "%tensorflow_version 2.x\n",
        "import tensorflow as tf\n",
        "\n",
        "print(tf.__version__)\n",
        "\n",
        "import numpy as np\n",
        "import matplotlib.pyplot as plt\n",
        "import pandas as pd\n"
      ],
      "execution_count": 44,
      "outputs": [
        {
          "output_type": "stream",
          "name": "stdout",
          "text": [
            "2.7.0\n"
          ]
        }
      ]
    },
    {
      "cell_type": "markdown",
      "metadata": {
        "id": "DtndO_D__Z2T"
      },
      "source": [
        "### Descarga datos Auto MPG"
      ]
    },
    {
      "cell_type": "markdown",
      "metadata": {
        "id": "uMd1TUBhGsZc"
      },
      "source": [
        "Descargamos el dataset Auto MPG. En este ejercício toda la información se encuentra en un único fichero llamado `auto-mpg.data`. En el examen, obviamente, esto no era necesario. Damos por hecho que lo tenemos cargado ya en las variables correspondientes"
      ]
    },
    {
      "cell_type": "code",
      "metadata": {
        "id": "niPo3Nfh-bVz"
      },
      "source": [
        "dataset_path = tf.keras.utils.get_file(\"auto-mpg.data\", \"https://archive.ics.uci.edu/ml/machine-learning-databases/auto-mpg/auto-mpg.data\")"
      ],
      "execution_count": 45,
      "outputs": []
    },
    {
      "cell_type": "markdown",
      "metadata": {
        "id": "uH5I9KWMHgAH"
      },
      "source": [
        "* El siguiente paso es importar los datos usando la librería **Pandas** para manipulación y análisis de datos. \n",
        "* Pandas ofrece estructuras de datos y operaciones para manipular tablas numéricas. Especialmente útil la clase `DataFrame`"
      ]
    },
    {
      "cell_type": "code",
      "metadata": {
        "id": "Z7TMTyo--bYr"
      },
      "source": [
        "column_names = ['MPG','Cylinders','Displacement','Horsepower','Weight',   'Acceleration', 'Model Year', 'Origin'] \n",
        "\n",
        "raw_dataset = pd.read_csv(dataset_path, names=column_names,\n",
        "                      na_values = \"?\", comment='\\t',\n",
        "                      sep=\" \", skipinitialspace=True)\n",
        "\n",
        "dataset = raw_dataset.copy()"
      ],
      "execution_count": 46,
      "outputs": []
    },
    {
      "cell_type": "markdown",
      "metadata": {
        "id": "B9vNu5hZH-JL"
      },
      "source": [
        "* Una práctica interesante es echarle un vistazo rápido a la estructura de datos. \n",
        "* Podemos visualizar las cinco últimas filas con el método `tail()` que nos ofrece Pandas"
      ]
    },
    {
      "cell_type": "code",
      "metadata": {
        "id": "WEvgfenf-pEf",
        "colab": {
          "base_uri": "https://localhost:8080/",
          "height": 206
        },
        "outputId": "0bb45b88-6026-4fbb-e301-cde0693d3855"
      },
      "source": [
        "dataset.tail()"
      ],
      "execution_count": 47,
      "outputs": [
        {
          "output_type": "execute_result",
          "data": {
            "text/html": [
              "<div>\n",
              "<style scoped>\n",
              "    .dataframe tbody tr th:only-of-type {\n",
              "        vertical-align: middle;\n",
              "    }\n",
              "\n",
              "    .dataframe tbody tr th {\n",
              "        vertical-align: top;\n",
              "    }\n",
              "\n",
              "    .dataframe thead th {\n",
              "        text-align: right;\n",
              "    }\n",
              "</style>\n",
              "<table border=\"1\" class=\"dataframe\">\n",
              "  <thead>\n",
              "    <tr style=\"text-align: right;\">\n",
              "      <th></th>\n",
              "      <th>MPG</th>\n",
              "      <th>Cylinders</th>\n",
              "      <th>Displacement</th>\n",
              "      <th>Horsepower</th>\n",
              "      <th>Weight</th>\n",
              "      <th>Acceleration</th>\n",
              "      <th>Model Year</th>\n",
              "      <th>Origin</th>\n",
              "    </tr>\n",
              "  </thead>\n",
              "  <tbody>\n",
              "    <tr>\n",
              "      <th>393</th>\n",
              "      <td>27.0</td>\n",
              "      <td>4</td>\n",
              "      <td>140.0</td>\n",
              "      <td>86.0</td>\n",
              "      <td>2790.0</td>\n",
              "      <td>15.6</td>\n",
              "      <td>82</td>\n",
              "      <td>1</td>\n",
              "    </tr>\n",
              "    <tr>\n",
              "      <th>394</th>\n",
              "      <td>44.0</td>\n",
              "      <td>4</td>\n",
              "      <td>97.0</td>\n",
              "      <td>52.0</td>\n",
              "      <td>2130.0</td>\n",
              "      <td>24.6</td>\n",
              "      <td>82</td>\n",
              "      <td>2</td>\n",
              "    </tr>\n",
              "    <tr>\n",
              "      <th>395</th>\n",
              "      <td>32.0</td>\n",
              "      <td>4</td>\n",
              "      <td>135.0</td>\n",
              "      <td>84.0</td>\n",
              "      <td>2295.0</td>\n",
              "      <td>11.6</td>\n",
              "      <td>82</td>\n",
              "      <td>1</td>\n",
              "    </tr>\n",
              "    <tr>\n",
              "      <th>396</th>\n",
              "      <td>28.0</td>\n",
              "      <td>4</td>\n",
              "      <td>120.0</td>\n",
              "      <td>79.0</td>\n",
              "      <td>2625.0</td>\n",
              "      <td>18.6</td>\n",
              "      <td>82</td>\n",
              "      <td>1</td>\n",
              "    </tr>\n",
              "    <tr>\n",
              "      <th>397</th>\n",
              "      <td>31.0</td>\n",
              "      <td>4</td>\n",
              "      <td>119.0</td>\n",
              "      <td>82.0</td>\n",
              "      <td>2720.0</td>\n",
              "      <td>19.4</td>\n",
              "      <td>82</td>\n",
              "      <td>1</td>\n",
              "    </tr>\n",
              "  </tbody>\n",
              "</table>\n",
              "</div>"
            ],
            "text/plain": [
              "      MPG  Cylinders  Displacement  ...  Acceleration  Model Year  Origin\n",
              "393  27.0          4         140.0  ...          15.6          82       1\n",
              "394  44.0          4          97.0  ...          24.6          82       2\n",
              "395  32.0          4         135.0  ...          11.6          82       1\n",
              "396  28.0          4         120.0  ...          18.6          82       1\n",
              "397  31.0          4         119.0  ...          19.4          82       1\n",
              "\n",
              "[5 rows x 8 columns]"
            ]
          },
          "metadata": {},
          "execution_count": 47
        }
      ]
    },
    {
      "cell_type": "code",
      "metadata": {
        "id": "q6Cqjf_xnwpw",
        "colab": {
          "base_uri": "https://localhost:8080/",
          "height": 206
        },
        "outputId": "1c02354f-d90e-45d2-f3c2-9408da28d18c"
      },
      "source": [
        "dataset.head()"
      ],
      "execution_count": 48,
      "outputs": [
        {
          "output_type": "execute_result",
          "data": {
            "text/html": [
              "<div>\n",
              "<style scoped>\n",
              "    .dataframe tbody tr th:only-of-type {\n",
              "        vertical-align: middle;\n",
              "    }\n",
              "\n",
              "    .dataframe tbody tr th {\n",
              "        vertical-align: top;\n",
              "    }\n",
              "\n",
              "    .dataframe thead th {\n",
              "        text-align: right;\n",
              "    }\n",
              "</style>\n",
              "<table border=\"1\" class=\"dataframe\">\n",
              "  <thead>\n",
              "    <tr style=\"text-align: right;\">\n",
              "      <th></th>\n",
              "      <th>MPG</th>\n",
              "      <th>Cylinders</th>\n",
              "      <th>Displacement</th>\n",
              "      <th>Horsepower</th>\n",
              "      <th>Weight</th>\n",
              "      <th>Acceleration</th>\n",
              "      <th>Model Year</th>\n",
              "      <th>Origin</th>\n",
              "    </tr>\n",
              "  </thead>\n",
              "  <tbody>\n",
              "    <tr>\n",
              "      <th>0</th>\n",
              "      <td>18.0</td>\n",
              "      <td>8</td>\n",
              "      <td>307.0</td>\n",
              "      <td>130.0</td>\n",
              "      <td>3504.0</td>\n",
              "      <td>12.0</td>\n",
              "      <td>70</td>\n",
              "      <td>1</td>\n",
              "    </tr>\n",
              "    <tr>\n",
              "      <th>1</th>\n",
              "      <td>15.0</td>\n",
              "      <td>8</td>\n",
              "      <td>350.0</td>\n",
              "      <td>165.0</td>\n",
              "      <td>3693.0</td>\n",
              "      <td>11.5</td>\n",
              "      <td>70</td>\n",
              "      <td>1</td>\n",
              "    </tr>\n",
              "    <tr>\n",
              "      <th>2</th>\n",
              "      <td>18.0</td>\n",
              "      <td>8</td>\n",
              "      <td>318.0</td>\n",
              "      <td>150.0</td>\n",
              "      <td>3436.0</td>\n",
              "      <td>11.0</td>\n",
              "      <td>70</td>\n",
              "      <td>1</td>\n",
              "    </tr>\n",
              "    <tr>\n",
              "      <th>3</th>\n",
              "      <td>16.0</td>\n",
              "      <td>8</td>\n",
              "      <td>304.0</td>\n",
              "      <td>150.0</td>\n",
              "      <td>3433.0</td>\n",
              "      <td>12.0</td>\n",
              "      <td>70</td>\n",
              "      <td>1</td>\n",
              "    </tr>\n",
              "    <tr>\n",
              "      <th>4</th>\n",
              "      <td>17.0</td>\n",
              "      <td>8</td>\n",
              "      <td>302.0</td>\n",
              "      <td>140.0</td>\n",
              "      <td>3449.0</td>\n",
              "      <td>10.5</td>\n",
              "      <td>70</td>\n",
              "      <td>1</td>\n",
              "    </tr>\n",
              "  </tbody>\n",
              "</table>\n",
              "</div>"
            ],
            "text/plain": [
              "    MPG  Cylinders  Displacement  ...  Acceleration  Model Year  Origin\n",
              "0  18.0          8         307.0  ...          12.0          70       1\n",
              "1  15.0          8         350.0  ...          11.5          70       1\n",
              "2  18.0          8         318.0  ...          11.0          70       1\n",
              "3  16.0          8         304.0  ...          12.0          70       1\n",
              "4  17.0          8         302.0  ...          10.5          70       1\n",
              "\n",
              "[5 rows x 8 columns]"
            ]
          },
          "metadata": {},
          "execution_count": 48
        }
      ]
    },
    {
      "cell_type": "markdown",
      "metadata": {
        "id": "o2PJXbhNOGeL"
      },
      "source": [
        "* Podemos ver que los valores de las diferentes columnas son los esperados y podemos comprobar que disponemos de **398 muestras** (de la 0 a la 397). "
      ]
    },
    {
      "cell_type": "markdown",
      "metadata": {
        "id": "UfsDnBFzIUJ0"
      },
      "source": [
        "**TRATAMIENTO DE VALORES VACÍOS**\n",
        "* También es interesante comprobar en esta etapa **si falta algún valor** para garantizar que nuestros datos son correctos. Para ello, podemos usar el método `insa()` que nos ofrece Pandas para detectar si faltan elementos. \n",
        "* **Qué hacer con los datos perdidos**: Es muy habitual, en los problemas del mundo real, que falten algunos valores de los datos de muestra. Esto puede ser debido a errores de recopilación de datos, a errores de transformación de datos, etc. Los campos vacíos se representan típicamente con los indicadores ``NaN`` o ``Null``. **El problema es que en redes neuronales no podemos dejar estos valores faltantes**, por lo que **los tenemos que \n",
        "tratar antes de alimentar nuestro modelo con datos**. \n",
        "* En el examen, ya os decía que había valores que faltaban y quería que me dijerais que vais a hacer con ellos. A priori, cualquier respuesta bien argumentada era válida: \n",
        "  - **Borrarlos**: eliminando las características (columnas) o muestras (filas) con campos vacíos, destacando que no sería la mejor opción porque hay muy pocos valores en el DataSet\n",
        "  - **Mantenerlo con valor 0**, ya que no es un valor representativo en los datos (no existen coches con 0 caballos de vapor, con lo que el sistema aprendería que son valores nulos)\n",
        "  - Meterle la **media de los valores de los CV del resto de datos** con valor. La librería `ScikitLearn` nos ayuda a estimar los campos vacíos con algún estimador"
      ]
    },
    {
      "cell_type": "code",
      "metadata": {
        "id": "QawPBGCl-vRd",
        "colab": {
          "base_uri": "https://localhost:8080/"
        },
        "outputId": "d97e111b-5b6c-4211-fd00-7b0f05f150f9"
      },
      "source": [
        "print(dataset.isna().sum())"
      ],
      "execution_count": 49,
      "outputs": [
        {
          "output_type": "stream",
          "name": "stdout",
          "text": [
            "MPG             0\n",
            "Cylinders       0\n",
            "Displacement    0\n",
            "Horsepower      6\n",
            "Weight          0\n",
            "Acceleration    0\n",
            "Model Year      0\n",
            "Origin          0\n",
            "dtype: int64\n"
          ]
        }
      ]
    },
    {
      "cell_type": "markdown",
      "metadata": {
        "id": "TAQdfhXsKpL-"
      },
      "source": [
        "* Para mantener este ejemplo simple, optamos por la primera opción y, simplemente, borramos las filas usando el método ``dropna()`` que nos proporciona Pandas.\n",
        "* Este es un paso delicado en los casos reales y requiere una decisión más pensada, puesto que simplemente eliminando corremos el riesgo de borrar información relevante —podemos estar borrando demasiadas muestras, o incluso podemos estar modificando la distribución de los datos de entrada—."
      ]
    },
    {
      "cell_type": "code",
      "metadata": {
        "id": "Ntm2wuai-vUY"
      },
      "source": [
        "dataset = dataset.dropna()"
      ],
      "execution_count": 50,
      "outputs": []
    },
    {
      "cell_type": "markdown",
      "metadata": {
        "id": "O1pkLWSPNQH8"
      },
      "source": [
        "**MANEJO DE DATOS CATEGÓRICOS** \n",
        "* La columna de datos ``Origin`` no es numérica, sino categórica, es decir, el 1 significa «USA», el 2 «Europa» y el 3 «Japan». Cuando sucede esto, se usa habitualmente la técnica de **codificación one-hot**\n",
        "* Consiste en crear una característica «ficticia» para cada valor único en la columna de características. Asigna a los datos de entrada su propio vector y les da un valor de 1 o 0. \n",
        "* Para ello, en nuestro caso de datos, usaremos el método ``pop()`` que proporciona Pandas para extraer de los datos la columna Origin, y la sustituiremos por tres nuevas columnas:"
      ]
    },
    {
      "cell_type": "code",
      "metadata": {
        "id": "NFpVmTFz-vXM"
      },
      "source": [
        "origin = dataset.pop('Origin')\n",
        "dataset['USA'] = (origin == 1)*1.0\n",
        "dataset['Europe'] = (origin == 2)*1.0\n",
        "dataset['Japan'] = (origin == 3)*1.0"
      ],
      "execution_count": 51,
      "outputs": []
    },
    {
      "cell_type": "markdown",
      "metadata": {
        "id": "i96ZYEyOOcN0"
      },
      "source": [
        "Podemos volver a echarle un vistazo rápido a la estructura de datos con el método ``tail()``; vemos que se han creado las tres nuevas columnas que sustituyen a la columna ``Origin``:"
      ]
    },
    {
      "cell_type": "code",
      "metadata": {
        "colab": {
          "base_uri": "https://localhost:8080/",
          "height": 206
        },
        "id": "aWkY1c1tOj0X",
        "outputId": "04ed771f-8960-4d3c-edfd-7aa1143023a0"
      },
      "source": [
        "dataset.tail()"
      ],
      "execution_count": 52,
      "outputs": [
        {
          "output_type": "execute_result",
          "data": {
            "text/html": [
              "<div>\n",
              "<style scoped>\n",
              "    .dataframe tbody tr th:only-of-type {\n",
              "        vertical-align: middle;\n",
              "    }\n",
              "\n",
              "    .dataframe tbody tr th {\n",
              "        vertical-align: top;\n",
              "    }\n",
              "\n",
              "    .dataframe thead th {\n",
              "        text-align: right;\n",
              "    }\n",
              "</style>\n",
              "<table border=\"1\" class=\"dataframe\">\n",
              "  <thead>\n",
              "    <tr style=\"text-align: right;\">\n",
              "      <th></th>\n",
              "      <th>MPG</th>\n",
              "      <th>Cylinders</th>\n",
              "      <th>Displacement</th>\n",
              "      <th>Horsepower</th>\n",
              "      <th>Weight</th>\n",
              "      <th>Acceleration</th>\n",
              "      <th>Model Year</th>\n",
              "      <th>USA</th>\n",
              "      <th>Europe</th>\n",
              "      <th>Japan</th>\n",
              "    </tr>\n",
              "  </thead>\n",
              "  <tbody>\n",
              "    <tr>\n",
              "      <th>393</th>\n",
              "      <td>27.0</td>\n",
              "      <td>4</td>\n",
              "      <td>140.0</td>\n",
              "      <td>86.0</td>\n",
              "      <td>2790.0</td>\n",
              "      <td>15.6</td>\n",
              "      <td>82</td>\n",
              "      <td>1.0</td>\n",
              "      <td>0.0</td>\n",
              "      <td>0.0</td>\n",
              "    </tr>\n",
              "    <tr>\n",
              "      <th>394</th>\n",
              "      <td>44.0</td>\n",
              "      <td>4</td>\n",
              "      <td>97.0</td>\n",
              "      <td>52.0</td>\n",
              "      <td>2130.0</td>\n",
              "      <td>24.6</td>\n",
              "      <td>82</td>\n",
              "      <td>0.0</td>\n",
              "      <td>1.0</td>\n",
              "      <td>0.0</td>\n",
              "    </tr>\n",
              "    <tr>\n",
              "      <th>395</th>\n",
              "      <td>32.0</td>\n",
              "      <td>4</td>\n",
              "      <td>135.0</td>\n",
              "      <td>84.0</td>\n",
              "      <td>2295.0</td>\n",
              "      <td>11.6</td>\n",
              "      <td>82</td>\n",
              "      <td>1.0</td>\n",
              "      <td>0.0</td>\n",
              "      <td>0.0</td>\n",
              "    </tr>\n",
              "    <tr>\n",
              "      <th>396</th>\n",
              "      <td>28.0</td>\n",
              "      <td>4</td>\n",
              "      <td>120.0</td>\n",
              "      <td>79.0</td>\n",
              "      <td>2625.0</td>\n",
              "      <td>18.6</td>\n",
              "      <td>82</td>\n",
              "      <td>1.0</td>\n",
              "      <td>0.0</td>\n",
              "      <td>0.0</td>\n",
              "    </tr>\n",
              "    <tr>\n",
              "      <th>397</th>\n",
              "      <td>31.0</td>\n",
              "      <td>4</td>\n",
              "      <td>119.0</td>\n",
              "      <td>82.0</td>\n",
              "      <td>2720.0</td>\n",
              "      <td>19.4</td>\n",
              "      <td>82</td>\n",
              "      <td>1.0</td>\n",
              "      <td>0.0</td>\n",
              "      <td>0.0</td>\n",
              "    </tr>\n",
              "  </tbody>\n",
              "</table>\n",
              "</div>"
            ],
            "text/plain": [
              "      MPG  Cylinders  Displacement  Horsepower  ...  Model Year  USA  Europe  Japan\n",
              "393  27.0          4         140.0        86.0  ...          82  1.0     0.0    0.0\n",
              "394  44.0          4          97.0        52.0  ...          82  0.0     1.0    0.0\n",
              "395  32.0          4         135.0        84.0  ...          82  1.0     0.0    0.0\n",
              "396  28.0          4         120.0        79.0  ...          82  1.0     0.0    0.0\n",
              "397  31.0          4         119.0        82.0  ...          82  1.0     0.0    0.0\n",
              "\n",
              "[5 rows x 10 columns]"
            ]
          },
          "metadata": {},
          "execution_count": 52
        }
      ]
    },
    {
      "cell_type": "markdown",
      "metadata": {
        "id": "qZCJERdFPm2N"
      },
      "source": [
        "Esto ya se os da hecho en el Examen"
      ]
    },
    {
      "cell_type": "markdown",
      "metadata": {
        "id": "wBXjhOwa_eFh"
      },
      "source": [
        "## Separar los datos para entrenar y evaluar"
      ]
    },
    {
      "cell_type": "markdown",
      "metadata": {
        "id": "fHJJKpAgPHAq"
      },
      "source": [
        "En los ejemplos vistos en clase, los datos ya se encontraban divididos en cuatro arrays NumPy, al igual que se han dado en el examen:\n",
        "* Datos de entrenamiento (training) y sus etiquetas respectivas: \n",
        "  - ``train_data``\n",
        "  - ``train_labels``\n",
        "* Datos de prueba (test) y sus etiquetas respectivas:\n",
        "  - ``test_data``\n",
        "  - ``test_labels`` \n",
        "\n",
        "Aquí os cuento como se han partido para el examen, pero debeis tener en cuenta y hablar sobre ello que para la configuración y evaluación de un modelo en Machine Learning, habitualmente se dividen los datos disponibles en dos conjuntos: \n",
        "* Datos de entrenamiento (training)\n",
        "* Datos de prueba (test). \n",
        "\n",
        "A su vez, **una parte de los datos de entrenamiento (training) se reservan como datos de validación(validation)**. \n",
        "Los datos de entrenamiento que nos quedan después de sacar los de validación y prueba son los que se usan para que el algoritmo de aprendizaje calcule los parámetros del modelo, mientras que los de **validación se usan para afinar los hiperparámetros**. \n",
        "\n",
        "Con las métricas —como con la precisión (**accuracy**)— que se pueden obtener de este conjunto de datos de validación nos guiamos para decidir cómo ajustar los hiperparámetros del algoritmo antes de repetir el proceso de entrena- \n",
        "miento. \n",
        "\n",
        "Es importante notar en el examen que **cuando nos esforzamos para mejorar el algoritmo ajustando los hiperparámetros gracias al comportamiento del modelo con los datos de validación**, estamos **inadvertidamente incidiendo en el modelo, que \n",
        "puede sesgar los resultados a favor del conjunto de validación**. De aquí la importancia de disponer de un conjunto de datos de prueba **reservados para una prueba final**, con **datos que el modelo no ha visto nunca anteriormente** durante la etapa de \n",
        "entrenamiento (ni como datos de entrenamiento ni como datos de validación).\n",
        "\n",
        "Esto permite obtener una medida de comportamiento del algoritmo más objetiva y **evaluar si nuestro modelo generaliza correctamente**. "
      ]
    },
    {
      "cell_type": "markdown",
      "metadata": {
        "id": "awj9SzGSUOb1"
      },
      "source": [
        "![modelo entrenamiento validacion y test.jpg](data:image/jpeg;base64,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)\n",
        "\n"
      ]
    },
    {
      "cell_type": "markdown",
      "metadata": {
        "id": "ACl6FmvbUyGg"
      },
      "source": [
        "Esta es la estrategia de evaluación más habitual. Pero hay otras e**strategias de repartir los datos para validar** los modelos **cuando tenemos escasez de datos**, como por ejemplo la **validación cruzada** (cross-validation) que, básicamente, **divide los datos en K particiones del mismo tamaño** y para cada partición ``i`` el modelo es entrenado con las restantes ``K-1`` particiones, y evaluado en la propia partición ``i``. \n",
        "\n",
        "En nuestro ejemplo podemos repartir los datos mediante el método ``sample()`` que nos proporciona Pandas, indicando con el argumento ``frac`` inicializado a 0.8 que **queremos usar el 80 % de los datos para entrenamiento**, y que los almacenamos en ``train_data``:"
      ]
    },
    {
      "cell_type": "code",
      "metadata": {
        "id": "5yrXBybR_V7j"
      },
      "source": [
        "train_data = dataset.sample(frac=0.8,random_state=0)\n",
        "# El resto de datos los almacenamos en test_data:\n",
        "test_data = dataset.drop(train_data.index)"
      ],
      "execution_count": 53,
      "outputs": []
    },
    {
      "cell_type": "markdown",
      "metadata": {
        "id": "mBPXtHnJVp-l"
      },
      "source": [
        "También debemos **separar la columna de datos que contiene los valores que queremos predecir (MPG)**:"
      ]
    },
    {
      "cell_type": "code",
      "metadata": {
        "id": "wtq9cEZV_V-m"
      },
      "source": [
        "train_labels = train_data.pop('MPG')\n",
        "test_labels = test_data.pop('MPG')"
      ],
      "execution_count": 54,
      "outputs": []
    },
    {
      "cell_type": "markdown",
      "metadata": {
        "id": "41fxFvP-V1nD"
      },
      "source": [
        "**NORMALIZAR LOS DATOS DE ENTRADA** \n",
        "Como venimos estudiando, es una buena práctica normalizar los datos para ser consumidos por las redes neuronales: \n",
        "* Sus valores generalmente deben **escalarse a valores pequeños**, en el rango ``[-1, 1]`` o ``[0, 1]``. \n",
        "* Si **diferentes características** de los valores de entrada **presentan valores en diferentes rangos** (datos heterogéneos), es **conveniente normalizar los datos**. \n",
        "\n",
        "Podemos inspeccionar los datos de entrada mediante el método ``describe()`` que ofrece el paquete Pandas para ver medianas y desviaciones."
      ]
    },
    {
      "cell_type": "code",
      "metadata": {
        "id": "FekCNTKP_WBI",
        "colab": {
          "base_uri": "https://localhost:8080/",
          "height": 331
        },
        "outputId": "a320cdc6-3ea4-486a-b388-ea42cb0fa17c"
      },
      "source": [
        "train_stats = train_data.describe()\n",
        "train_stats = train_stats.transpose()\n",
        "train_stats"
      ],
      "execution_count": 55,
      "outputs": [
        {
          "output_type": "execute_result",
          "data": {
            "text/html": [
              "<div>\n",
              "<style scoped>\n",
              "    .dataframe tbody tr th:only-of-type {\n",
              "        vertical-align: middle;\n",
              "    }\n",
              "\n",
              "    .dataframe tbody tr th {\n",
              "        vertical-align: top;\n",
              "    }\n",
              "\n",
              "    .dataframe thead th {\n",
              "        text-align: right;\n",
              "    }\n",
              "</style>\n",
              "<table border=\"1\" class=\"dataframe\">\n",
              "  <thead>\n",
              "    <tr style=\"text-align: right;\">\n",
              "      <th></th>\n",
              "      <th>count</th>\n",
              "      <th>mean</th>\n",
              "      <th>std</th>\n",
              "      <th>min</th>\n",
              "      <th>25%</th>\n",
              "      <th>50%</th>\n",
              "      <th>75%</th>\n",
              "      <th>max</th>\n",
              "    </tr>\n",
              "  </thead>\n",
              "  <tbody>\n",
              "    <tr>\n",
              "      <th>Cylinders</th>\n",
              "      <td>314.0</td>\n",
              "      <td>5.477707</td>\n",
              "      <td>1.699788</td>\n",
              "      <td>3.0</td>\n",
              "      <td>4.00</td>\n",
              "      <td>4.0</td>\n",
              "      <td>8.00</td>\n",
              "      <td>8.0</td>\n",
              "    </tr>\n",
              "    <tr>\n",
              "      <th>Displacement</th>\n",
              "      <td>314.0</td>\n",
              "      <td>195.318471</td>\n",
              "      <td>104.331589</td>\n",
              "      <td>68.0</td>\n",
              "      <td>105.50</td>\n",
              "      <td>151.0</td>\n",
              "      <td>265.75</td>\n",
              "      <td>455.0</td>\n",
              "    </tr>\n",
              "    <tr>\n",
              "      <th>Horsepower</th>\n",
              "      <td>314.0</td>\n",
              "      <td>104.869427</td>\n",
              "      <td>38.096214</td>\n",
              "      <td>46.0</td>\n",
              "      <td>76.25</td>\n",
              "      <td>94.5</td>\n",
              "      <td>128.00</td>\n",
              "      <td>225.0</td>\n",
              "    </tr>\n",
              "    <tr>\n",
              "      <th>Weight</th>\n",
              "      <td>314.0</td>\n",
              "      <td>2990.251592</td>\n",
              "      <td>843.898596</td>\n",
              "      <td>1649.0</td>\n",
              "      <td>2256.50</td>\n",
              "      <td>2822.5</td>\n",
              "      <td>3608.00</td>\n",
              "      <td>5140.0</td>\n",
              "    </tr>\n",
              "    <tr>\n",
              "      <th>Acceleration</th>\n",
              "      <td>314.0</td>\n",
              "      <td>15.559236</td>\n",
              "      <td>2.789230</td>\n",
              "      <td>8.0</td>\n",
              "      <td>13.80</td>\n",
              "      <td>15.5</td>\n",
              "      <td>17.20</td>\n",
              "      <td>24.8</td>\n",
              "    </tr>\n",
              "    <tr>\n",
              "      <th>Model Year</th>\n",
              "      <td>314.0</td>\n",
              "      <td>75.898089</td>\n",
              "      <td>3.675642</td>\n",
              "      <td>70.0</td>\n",
              "      <td>73.00</td>\n",
              "      <td>76.0</td>\n",
              "      <td>79.00</td>\n",
              "      <td>82.0</td>\n",
              "    </tr>\n",
              "    <tr>\n",
              "      <th>USA</th>\n",
              "      <td>314.0</td>\n",
              "      <td>0.624204</td>\n",
              "      <td>0.485101</td>\n",
              "      <td>0.0</td>\n",
              "      <td>0.00</td>\n",
              "      <td>1.0</td>\n",
              "      <td>1.00</td>\n",
              "      <td>1.0</td>\n",
              "    </tr>\n",
              "    <tr>\n",
              "      <th>Europe</th>\n",
              "      <td>314.0</td>\n",
              "      <td>0.178344</td>\n",
              "      <td>0.383413</td>\n",
              "      <td>0.0</td>\n",
              "      <td>0.00</td>\n",
              "      <td>0.0</td>\n",
              "      <td>0.00</td>\n",
              "      <td>1.0</td>\n",
              "    </tr>\n",
              "    <tr>\n",
              "      <th>Japan</th>\n",
              "      <td>314.0</td>\n",
              "      <td>0.197452</td>\n",
              "      <td>0.398712</td>\n",
              "      <td>0.0</td>\n",
              "      <td>0.00</td>\n",
              "      <td>0.0</td>\n",
              "      <td>0.00</td>\n",
              "      <td>1.0</td>\n",
              "    </tr>\n",
              "  </tbody>\n",
              "</table>\n",
              "</div>"
            ],
            "text/plain": [
              "              count         mean         std  ...     50%      75%     max\n",
              "Cylinders     314.0     5.477707    1.699788  ...     4.0     8.00     8.0\n",
              "Displacement  314.0   195.318471  104.331589  ...   151.0   265.75   455.0\n",
              "Horsepower    314.0   104.869427   38.096214  ...    94.5   128.00   225.0\n",
              "Weight        314.0  2990.251592  843.898596  ...  2822.5  3608.00  5140.0\n",
              "Acceleration  314.0    15.559236    2.789230  ...    15.5    17.20    24.8\n",
              "Model Year    314.0    75.898089    3.675642  ...    76.0    79.00    82.0\n",
              "USA           314.0     0.624204    0.485101  ...     1.0     1.00     1.0\n",
              "Europe        314.0     0.178344    0.383413  ...     0.0     0.00     1.0\n",
              "Japan         314.0     0.197452    0.398712  ...     0.0     0.00     1.0\n",
              "\n",
              "[9 rows x 8 columns]"
            ]
          },
          "metadata": {},
          "execution_count": 55
        }
      ]
    },
    {
      "cell_type": "markdown",
      "metadata": {
        "id": "kvpz8koyXOEj"
      },
      "source": [
        "* Mirando el resultado podemos observar lo diferente de los rangos de cada característica. **Procede normalizar**. \n",
        "* Aunque el modelo **podría converger sin normalización** de características, se ha demostrado que **no hacerlo dificulta el entrenamiento**, y puede hacer que el **modelo resultante dependa de la elección de las unidades** utilizadas en la entrada. \n",
        "* Importante **normalizar** de la misma manera el **conjunto de datos de prueba**, así como los **datos que posteriormente use el modelo durante la etapa de inferencia**. "
      ]
    },
    {
      "cell_type": "code",
      "metadata": {
        "id": "V6-D516VCSUe"
      },
      "source": [
        "def norm(x):\n",
        "  return (x - train_stats['mean']) / train_stats['std']\n",
        "\n",
        "normed_train_data = norm(train_data)\n",
        "normed_test_data = norm(test_data)"
      ],
      "execution_count": 56,
      "outputs": []
    },
    {
      "cell_type": "markdown",
      "metadata": {
        "id": "oCoDvt4LaBb7"
      },
      "source": [
        "La función `norm` reescala las características en un rango [0,1] (normalización) y centra las columnas de características con respecto a una media 0 con desviación estándar 1 (estandarización), de forma que las **columnas de características tengan los mismos parámetros que una distribución normal estándar** (media cero y varianza unidad).\n",
        "\n",
        "Vemos como los datos se han estandarizado adecuadamente:"
      ]
    },
    {
      "cell_type": "code",
      "metadata": {
        "id": "R5PUc7EgFtCn",
        "colab": {
          "base_uri": "https://localhost:8080/",
          "height": 331
        },
        "outputId": "99f947bf-90a7-49b8-9d4a-202062e33e4b"
      },
      "source": [
        "normed_train_stats = normed_train_data.describe()\n",
        "normed_train_stats = normed_train_stats.transpose()\n",
        "normed_train_stats"
      ],
      "execution_count": 57,
      "outputs": [
        {
          "output_type": "execute_result",
          "data": {
            "text/html": [
              "<div>\n",
              "<style scoped>\n",
              "    .dataframe tbody tr th:only-of-type {\n",
              "        vertical-align: middle;\n",
              "    }\n",
              "\n",
              "    .dataframe tbody tr th {\n",
              "        vertical-align: top;\n",
              "    }\n",
              "\n",
              "    .dataframe thead th {\n",
              "        text-align: right;\n",
              "    }\n",
              "</style>\n",
              "<table border=\"1\" class=\"dataframe\">\n",
              "  <thead>\n",
              "    <tr style=\"text-align: right;\">\n",
              "      <th></th>\n",
              "      <th>count</th>\n",
              "      <th>mean</th>\n",
              "      <th>std</th>\n",
              "      <th>min</th>\n",
              "      <th>25%</th>\n",
              "      <th>50%</th>\n",
              "      <th>75%</th>\n",
              "      <th>max</th>\n",
              "    </tr>\n",
              "  </thead>\n",
              "  <tbody>\n",
              "    <tr>\n",
              "      <th>Cylinders</th>\n",
              "      <td>314.0</td>\n",
              "      <td>2.093159e-16</td>\n",
              "      <td>1.0</td>\n",
              "      <td>-1.457657</td>\n",
              "      <td>-0.869348</td>\n",
              "      <td>-0.869348</td>\n",
              "      <td>1.483887</td>\n",
              "      <td>1.483887</td>\n",
              "    </tr>\n",
              "    <tr>\n",
              "      <th>Displacement</th>\n",
              "      <td>314.0</td>\n",
              "      <td>1.018294e-16</td>\n",
              "      <td>1.0</td>\n",
              "      <td>-1.220325</td>\n",
              "      <td>-0.860894</td>\n",
              "      <td>-0.424785</td>\n",
              "      <td>0.675074</td>\n",
              "      <td>2.489002</td>\n",
              "    </tr>\n",
              "    <tr>\n",
              "      <th>Horsepower</th>\n",
              "      <td>314.0</td>\n",
              "      <td>-1.909301e-17</td>\n",
              "      <td>1.0</td>\n",
              "      <td>-1.545283</td>\n",
              "      <td>-0.751241</td>\n",
              "      <td>-0.272190</td>\n",
              "      <td>0.607162</td>\n",
              "      <td>3.153347</td>\n",
              "    </tr>\n",
              "    <tr>\n",
              "      <th>Weight</th>\n",
              "      <td>314.0</td>\n",
              "      <td>-9.723291e-17</td>\n",
              "      <td>1.0</td>\n",
              "      <td>-1.589352</td>\n",
              "      <td>-0.869478</td>\n",
              "      <td>-0.198782</td>\n",
              "      <td>0.732017</td>\n",
              "      <td>2.547401</td>\n",
              "    </tr>\n",
              "    <tr>\n",
              "      <th>Acceleration</th>\n",
              "      <td>314.0</td>\n",
              "      <td>2.688832e-15</td>\n",
              "      <td>1.0</td>\n",
              "      <td>-2.710152</td>\n",
              "      <td>-0.630725</td>\n",
              "      <td>-0.021237</td>\n",
              "      <td>0.588250</td>\n",
              "      <td>3.313017</td>\n",
              "    </tr>\n",
              "    <tr>\n",
              "      <th>Model Year</th>\n",
              "      <td>314.0</td>\n",
              "      <td>9.561531e-16</td>\n",
              "      <td>1.0</td>\n",
              "      <td>-1.604642</td>\n",
              "      <td>-0.788458</td>\n",
              "      <td>0.027726</td>\n",
              "      <td>0.843910</td>\n",
              "      <td>1.660094</td>\n",
              "    </tr>\n",
              "    <tr>\n",
              "      <th>USA</th>\n",
              "      <td>314.0</td>\n",
              "      <td>6.081476e-17</td>\n",
              "      <td>1.0</td>\n",
              "      <td>-1.286751</td>\n",
              "      <td>-1.286751</td>\n",
              "      <td>0.774676</td>\n",
              "      <td>0.774676</td>\n",
              "      <td>0.774676</td>\n",
              "    </tr>\n",
              "    <tr>\n",
              "      <th>Europe</th>\n",
              "      <td>314.0</td>\n",
              "      <td>8.485781e-18</td>\n",
              "      <td>1.0</td>\n",
              "      <td>-0.465148</td>\n",
              "      <td>-0.465148</td>\n",
              "      <td>-0.465148</td>\n",
              "      <td>-0.465148</td>\n",
              "      <td>2.143005</td>\n",
              "    </tr>\n",
              "    <tr>\n",
              "      <th>Japan</th>\n",
              "      <td>314.0</td>\n",
              "      <td>3.164489e-17</td>\n",
              "      <td>1.0</td>\n",
              "      <td>-0.495225</td>\n",
              "      <td>-0.495225</td>\n",
              "      <td>-0.495225</td>\n",
              "      <td>-0.495225</td>\n",
              "      <td>2.012852</td>\n",
              "    </tr>\n",
              "  </tbody>\n",
              "</table>\n",
              "</div>"
            ],
            "text/plain": [
              "              count          mean  std  ...       50%       75%       max\n",
              "Cylinders     314.0  2.093159e-16  1.0  ... -0.869348  1.483887  1.483887\n",
              "Displacement  314.0  1.018294e-16  1.0  ... -0.424785  0.675074  2.489002\n",
              "Horsepower    314.0 -1.909301e-17  1.0  ... -0.272190  0.607162  3.153347\n",
              "Weight        314.0 -9.723291e-17  1.0  ... -0.198782  0.732017  2.547401\n",
              "Acceleration  314.0  2.688832e-15  1.0  ... -0.021237  0.588250  3.313017\n",
              "Model Year    314.0  9.561531e-16  1.0  ...  0.027726  0.843910  1.660094\n",
              "USA           314.0  6.081476e-17  1.0  ...  0.774676  0.774676  0.774676\n",
              "Europe        314.0  8.485781e-18  1.0  ... -0.465148 -0.465148  2.143005\n",
              "Japan         314.0  3.164489e-17  1.0  ... -0.495225 -0.495225  2.012852\n",
              "\n",
              "[9 rows x 8 columns]"
            ]
          },
          "metadata": {},
          "execution_count": 57
        }
      ]
    },
    {
      "cell_type": "markdown",
      "metadata": {
        "id": "qmNpCfOqCwqv"
      },
      "source": [
        "## Desarrollar el modelo"
      ]
    },
    {
      "cell_type": "markdown",
      "metadata": {
        "id": "b3tV1bOca4hE"
      },
      "source": [
        "Ahora tenemos que desarrollar un modelo que cumpla \n",
        "con nuestras expectativas.Vamos a decidir por qué tipo de arquitectura nos decantamos, y el valor de los hiperparámetros."
      ]
    },
    {
      "cell_type": "markdown",
      "metadata": {
        "id": "-qkq7RdycYjM"
      },
      "source": [
        "Para establecer las restricciones que requerimos en la salida de la red neuronal, debemos **primero decidir cuál es nuestra última capa**, qué tipo de **activación** usaremos y la **relación con la función de pérdida** que se definirá para el modelo.\n",
        "\n",
        "En en el caso que nos ocupa, **regresión**, **no meteremos función de activación**. La salida irá en bruto, es decir, con una capa `layers.Dense(1)` es suficiente, puesto que lo que **esperamos de salida es un valor continuo**. \n",
        "\n",
        "Para empezar, consideremos una **arquitectura simple** de **dos capas densamente conectadas**, de **64 neuronas**:"
      ]
    },
    {
      "cell_type": "code",
      "metadata": {
        "id": "aydxA-K9inqG",
        "colab": {
          "base_uri": "https://localhost:8080/"
        },
        "outputId": "1af30d9e-f8b0-4974-a38f-50523eb997ab"
      },
      "source": [
        "from tensorflow.keras import Sequential\n",
        "from tensorflow.keras.layers import Dense\n",
        "\n",
        "def build_model():  \n",
        "  model = Sequential()\n",
        "  model.add(Dense(64, activation='relu', input_shape=[len(train_data.keys())]))\n",
        "  model.add(Dense(64, activation='relu'))\n",
        "  model.add(Dense(1))\n",
        "  return model\n",
        "\n",
        "model = build_model()\n",
        "model.summary()"
      ],
      "execution_count": 58,
      "outputs": [
        {
          "output_type": "stream",
          "name": "stdout",
          "text": [
            "Model: \"sequential_4\"\n",
            "_________________________________________________________________\n",
            " Layer (type)                Output Shape              Param #   \n",
            "=================================================================\n",
            " dense_12 (Dense)            (None, 64)                640       \n",
            "                                                                 \n",
            " dense_13 (Dense)            (None, 64)                4160      \n",
            "                                                                 \n",
            " dense_14 (Dense)            (None, 1)                 65        \n",
            "                                                                 \n",
            "=================================================================\n",
            "Total params: 4,865\n",
            "Trainable params: 4,865\n",
            "Non-trainable params: 0\n",
            "_________________________________________________________________\n"
          ]
        }
      ]
    },
    {
      "cell_type": "markdown",
      "metadata": {
        "id": "9aonpYHDedmr"
      },
      "source": [
        "Se ha encapsulado esta definición de modelo en una función para facilitar el poder probar con diferentes hiperparámetros sobre el mismo modelo. \n",
        "\n",
        "Podemos inspeccionar la arquitectura de la red con el método ``summary()``: (**El resultado de esto había que ponerlo en el examen**)"
      ]
    },
    {
      "cell_type": "code",
      "metadata": {
        "id": "FrevHTKceIDK",
        "outputId": "a157bb7c-5dc3-4cb1-ed91-479f1b141328",
        "colab": {
          "base_uri": "https://localhost:8080/",
          "height": 422
        }
      },
      "source": [
        "from keras.utils.vis_utils import plot_model\n",
        "plot_model(model, to_file='modeloFinal_plot.png', show_shapes=True)"
      ],
      "execution_count": 59,
      "outputs": [
        {
          "output_type": "execute_result",
          "data": {
            "image/png": "[encoded data removed]",
            "text/plain": [
              "<IPython.core.display.Image object>"
            ]
          },
          "metadata": {},
          "execution_count": 59
        }
      ]
    },
    {
      "cell_type": "markdown",
      "metadata": {
        "id": "m6u9VfomfEe0"
      },
      "source": [
        "### CONFIGURACIÓN DEL MODELO"
      ]
    },
    {
      "cell_type": "markdown",
      "metadata": {
        "id": "xxFDhLm2fJJs"
      },
      "source": [
        "Otras de las decisiones clave en la construcción de nuestro modelo son la definición y configuración de la **función de pérdida** y el **optimizador**."
      ]
    },
    {
      "cell_type": "markdown",
      "metadata": {
        "id": "GQ-QnzzFfXBQ"
      },
      "source": [
        "**FUNCIÓN DE PÉRDIDA**  \n",
        "La función de perdida, **basada en una métrica de rendimiento**, **debe coincidir con el tipo de problema que estamos tratando de resolver**. \n",
        "\n",
        "Una **medida de rendimiento típico** para un problema de **regresión** es la **raíz del error cuadrático medio** (root mean square error) (**MSE**), que es la **raíz cuadrada de la suma ponderada del cuadrado de las diferencias entre los valores previstos y los valores observados**:"
      ]
    },
    {
      "cell_type": "markdown",
      "metadata": {
        "id": "z2Wbd0rff9J8"
      },
      "source": [
        "![MSE.jpg](data:image/jpeg;base64,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)"
      ]
    },
    {
      "cell_type": "markdown",
      "metadata": {
        "id": "cE5FY22egHCD"
      },
      "source": [
        "Aunque el **MSE** es generalmente la **medida de rendimiento preferida para tareas de regresión**, en algunos contextos **puede usarse** otra función: el **error absoluto medio** (mean absolute error) (**MAE**), también llamado promedio absoluto de la desviación:"
      ]
    },
    {
      "cell_type": "markdown",
      "metadata": {
        "id": "3PqQI9cygaFE"
      },
      "source": [
        "![mae.jpg](data:image/jpeg;base64,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)"
      ]
    },
    {
      "cell_type": "markdown",
      "metadata": {
        "id": "0HehO7-cgjC2"
      },
      "source": [
        "**Ambas métricas son usadas en modelos de regresión**. \n",
        "* **MAE** es **más robusto para los valores atípicos**, ya que no utiliza el cuadrado (debido al cuadrado del MSE, los errores grandes tienen una influencia relativamente mayor que los errores \n",
        "más pequeños).\n",
        "* **MSE** es más **útil si nos preocupan los errores grandes** cuyas consecuencias son mucho mayores que los errores equivalentes más pequeños"
      ]
    },
    {
      "cell_type": "markdown",
      "metadata": {
        "id": "ms1caM19hLpz"
      },
      "source": [
        "**OPTIMIZADOR**\n",
        "para este caso decidimos usar el optimizador ``RMSprop``, que es un buen punto de partida en general, con un ratio de aprendizaje de 0.001:"
      ]
    },
    {
      "cell_type": "code",
      "metadata": {
        "id": "FpTRcHXDCSew"
      },
      "source": [
        "optimizer = tf.keras.optimizers.RMSprop(0.001)"
      ],
      "execution_count": 60,
      "outputs": []
    },
    {
      "cell_type": "code",
      "metadata": {
        "id": "EWp8Vcl0CShg"
      },
      "source": [
        "model.compile(loss='mse',\n",
        "                optimizer=optimizer,\n",
        "                metrics=['mae', 'mse'])"
      ],
      "execution_count": 61,
      "outputs": []
    },
    {
      "cell_type": "markdown",
      "metadata": {
        "id": "vdfftlXWEG-e"
      },
      "source": [
        "## Entrenamiento del modelo"
      ]
    },
    {
      "cell_type": "markdown",
      "metadata": {
        "id": "c5ma7Iu7hfiA"
      },
      "source": [
        "El valor del hiperparámetro ``epoch`` es importante, puesto que es muy probable que \n",
        "**más épocas muestren una mayor precisión** de la red para los **datos de entrenamiento**. Pero, a su vez, también debe tenerse en cuenta que si el **número de épocas es demasiado alto**, la red podría tener **problemas de sobreajuste**\n",
        "* Encontrar el valor adecuado tendrán un **papel muy importante los datos de validación** que hemos definido anteriormente. \n",
        "* Proponemos entrenar con **1000 epochs** (un número suficientemente alto sería válido) para **provocar precisamente que se manifieste este problema de sobreentrenamiento**. \n",
        "* Para especificar qué parte de los datos de entrenamiento queremos reservar para \n",
        "validación, podemos recurrir al argumento ``validation_split`` del método ``fit()``. \n",
        "* Un valor de partida puede ser el 0.2, que representa el **20 %**:"
      ]
    },
    {
      "cell_type": "code",
      "metadata": {
        "id": "fOaq8eGtCSkd"
      },
      "source": [
        "EPOCHS = 1000\n",
        "\n",
        "history = model.fit(\n",
        "  normed_train_data, train_labels,\n",
        "  epochs=EPOCHS, validation_split = 0.2, verbose=0)"
      ],
      "execution_count": 62,
      "outputs": []
    },
    {
      "cell_type": "markdown",
      "metadata": {
        "id": "sVerKefmikPO"
      },
      "source": [
        "Si pusiéramos ``verbose=1`` y miráramos la salida, veríamos con detalle cómo evoluciona el proceso de entrenamiento viendo como nos devolvería las métricas en cada ``epoch`` tanto de los **datos de entrenamiento** (``loss``, ``mae``, ``mse``), como de las métricas obtenidas con los **datos de validación** (``val_loss``,``val_mae``, ``val_mse``)"
      ]
    },
    {
      "cell_type": "markdown",
      "metadata": {
        "id": "5obUY1dBEnFY"
      },
      "source": [
        "## Evaluación del modelo"
      ]
    },
    {
      "cell_type": "markdown",
      "metadata": {
        "id": "F9eSnVqvkdGh"
      },
      "source": [
        "**VISUALIZACIÓN DEL PROCESO DE ENTRENAMIENTO**\n",
        "\n",
        "Usamos el **objeto historial** que el método ``fit()`` que devuelve estadísticas que nos interesa"
      ]
    },
    {
      "cell_type": "code",
      "metadata": {
        "id": "w3FgAK4CCSnX",
        "colab": {
          "base_uri": "https://localhost:8080/",
          "height": 206
        },
        "outputId": "a018f965-d181-4673-8cdd-92bf0ca9cf9c"
      },
      "source": [
        "hist = pd.DataFrame(history.history)\n",
        "hist['epoch'] = history.epoch\n",
        "hist.tail()"
      ],
      "execution_count": 63,
      "outputs": [
        {
          "output_type": "execute_result",
          "data": {
            "text/html": [
              "<div>\n",
              "<style scoped>\n",
              "    .dataframe tbody tr th:only-of-type {\n",
              "        vertical-align: middle;\n",
              "    }\n",
              "\n",
              "    .dataframe tbody tr th {\n",
              "        vertical-align: top;\n",
              "    }\n",
              "\n",
              "    .dataframe thead th {\n",
              "        text-align: right;\n",
              "    }\n",
              "</style>\n",
              "<table border=\"1\" class=\"dataframe\">\n",
              "  <thead>\n",
              "    <tr style=\"text-align: right;\">\n",
              "      <th></th>\n",
              "      <th>loss</th>\n",
              "      <th>mae</th>\n",
              "      <th>mse</th>\n",
              "      <th>val_loss</th>\n",
              "      <th>val_mae</th>\n",
              "      <th>val_mse</th>\n",
              "      <th>epoch</th>\n",
              "    </tr>\n",
              "  </thead>\n",
              "  <tbody>\n",
              "    <tr>\n",
              "      <th>995</th>\n",
              "      <td>2.321847</td>\n",
              "      <td>0.972361</td>\n",
              "      <td>2.321847</td>\n",
              "      <td>9.928743</td>\n",
              "      <td>2.411980</td>\n",
              "      <td>9.928743</td>\n",
              "      <td>995</td>\n",
              "    </tr>\n",
              "    <tr>\n",
              "      <th>996</th>\n",
              "      <td>2.324000</td>\n",
              "      <td>0.931339</td>\n",
              "      <td>2.324000</td>\n",
              "      <td>10.046384</td>\n",
              "      <td>2.399389</td>\n",
              "      <td>10.046384</td>\n",
              "      <td>996</td>\n",
              "    </tr>\n",
              "    <tr>\n",
              "      <th>997</th>\n",
              "      <td>2.330236</td>\n",
              "      <td>0.947778</td>\n",
              "      <td>2.330236</td>\n",
              "      <td>9.928212</td>\n",
              "      <td>2.424668</td>\n",
              "      <td>9.928212</td>\n",
              "      <td>997</td>\n",
              "    </tr>\n",
              "    <tr>\n",
              "      <th>998</th>\n",
              "      <td>2.383396</td>\n",
              "      <td>0.962325</td>\n",
              "      <td>2.383396</td>\n",
              "      <td>10.191072</td>\n",
              "      <td>2.455176</td>\n",
              "      <td>10.191072</td>\n",
              "      <td>998</td>\n",
              "    </tr>\n",
              "    <tr>\n",
              "      <th>999</th>\n",
              "      <td>2.313720</td>\n",
              "      <td>0.961234</td>\n",
              "      <td>2.313720</td>\n",
              "      <td>9.929993</td>\n",
              "      <td>2.404375</td>\n",
              "      <td>9.929993</td>\n",
              "      <td>999</td>\n",
              "    </tr>\n",
              "  </tbody>\n",
              "</table>\n",
              "</div>"
            ],
            "text/plain": [
              "         loss       mae       mse   val_loss   val_mae    val_mse  epoch\n",
              "995  2.321847  0.972361  2.321847   9.928743  2.411980   9.928743    995\n",
              "996  2.324000  0.931339  2.324000  10.046384  2.399389  10.046384    996\n",
              "997  2.330236  0.947778  2.330236   9.928212  2.424668   9.928212    997\n",
              "998  2.383396  0.962325  2.383396  10.191072  2.455176  10.191072    998\n",
              "999  2.313720  0.961234  2.313720   9.929993  2.404375   9.929993    999"
            ]
          },
          "metadata": {},
          "execution_count": 63
        }
      ]
    },
    {
      "cell_type": "markdown",
      "metadata": {
        "id": "sSPDRaYIlaVm"
      },
      "source": [
        "Para ver gráficamente **cómo evolucionan estos valores** durante el entrenamiento podemos recurrir al siguiente código:"
      ]
    },
    {
      "cell_type": "code",
      "metadata": {
        "id": "PHxBjzT8Ep82"
      },
      "source": [
        "def plot_history(history):     \n",
        "  hist = pd.DataFrame(history.history)\n",
        "  hist['epoch'] = history.epoch\n",
        "\n",
        "  plt.figure()\n",
        "  plt.xlabel('Epoch')\n",
        "  plt.ylabel('Mean Square Error')\n",
        "  plt.plot(hist['epoch'], hist['mse'],'r--',\n",
        "           label='Training Error')\n",
        "  plt.plot(hist['epoch'], hist['val_mse'],'b',\n",
        "           label = 'Validation Error')\n",
        "  plt.ylim([0,20])\n",
        "  plt.legend()\n",
        "  plt.show()"
      ],
      "execution_count": 64,
      "outputs": []
    },
    {
      "cell_type": "code",
      "metadata": {
        "id": "XnwnYCxcEqCw",
        "colab": {
          "base_uri": "https://localhost:8080/",
          "height": 283
        },
        "outputId": "26c69cbf-78cc-404d-a36e-62f5c16ab633"
      },
      "source": [
        "plot_history(history)"
      ],
      "execution_count": 65,
      "outputs": [
        {
          "output_type": "display_data",
          "data": {
            "image/png": "[encoded data removed]",
            "text/plain": [
              "<Figure size 432x288 with 1 Axes>"
            ]
          },
          "metadata": {
            "needs_background": "light"
          }
        }
      ]
    },
    {
      "cell_type": "markdown",
      "metadata": {
        "id": "rZ8Xg4WSnh2I"
      },
      "source": [
        "La diferencia de **comportamiento del MSE de los datos de entrenamiento** en relación con los de **validación**, es que nos indican el «sobreajuste» (overfitting) que está sufriendo el modelo. Es decir, estamos sobreentrenando el modelo y **se está ajustando demasiado a los datos de entrenamiento**; cuando vea datos que no han sido usados para entrenar, el modelo se comportará mucho peor. \n",
        "\n",
        "Observando la gráfica , **a partir de las 50 epochs** aproximadamente vemos que el **error MSE es mayor para los datos de validación** y, además, **cada vez este va creciendo**, mientras que al mismo tiempo el **error en los datos de entrenamiento va siendo menor**. Es decir, el modelo se va ajustando a los datos que se usan para entrenar y, por tanto, generaliza menos para los datos de validación."
      ]
    },
    {
      "cell_type": "markdown",
      "metadata": {
        "id": "s3aWtpKLof9Y"
      },
      "source": [
        "**OVERFITTING**\n",
        "\n",
        "Habría que explicar el concepto de sobreajuste en el examen: El concepto de sobreajuste de un modelo (overfitting ) se produce cuando el modelo obtenido se ajusta tanto a los ejemplos etiquetados de entrenamiento que no puede realizar las predicciones correctas en ejemplos de datos nuevos que nunca ha visto antes.\n",
        "\n",
        "Ocurre cuando nuestro modelo modela los datos de entrenamiento demasiado bien, aprendiendo detalles de estos que no son generales. Esto es debido a que sobreentrenamos nuestro modelo y este estará considerando como válidos solo los datos idénticos a los de nuestro conjunto de entrenamiento, incluidos sus defectos (también llamado ruido en nuestro contexto)."
      ]
    },
    {
      "cell_type": "markdown",
      "metadata": {
        "id": "eUZepnoTpakt"
      },
      "source": [
        "![sobreajuste.jpg](data:image/jpeg;base64,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)"
      ]
    },
    {
      "cell_type": "markdown",
      "metadata": {
        "id": "9DirFrDJpdYm"
      },
      "source": [
        "Es evidente que, en general, esta situación presenta un **impacto negativo** en la **eficiencia del modelo** cuando e**ste se usa para inferencia con datos nuevos**. \n",
        "\n",
        "Por ello, es muy importante evitar estar en esta situación; de aquí la **utilidad de reservar una parte de datos de entrenamiento como datos de validación** para poder detectar esta situación"
      ]
    },
    {
      "cell_type": "markdown",
      "metadata": {
        "id": "vBvtn5Lfp73r"
      },
      "source": [
        "**EARLY STOPPING**\n",
        "\n",
        "* Uno de los motivos del sobreajuste es que **realizamos más epochs de las requeridas**. \n",
        "* Keras nos permite controlar que no nos excedamos de epochs de manera automática mediante ``callbacks`` \n",
        "* Consiste en añadir un **callback** **``EarlyStopping``** como **argumento en el método** ``fit()`` que, **automáticamente, para el entrenamiento cuando las métricas de la función de pérdida para los datos de validación no mejoran**\n",
        "* Al **callback** ``EarlyStopping`` le indicamos con el argumento ``monitor`` qué métrica debe tener en cuenta y, con el argumento ``patience``, se le indica **cuántas epochs se deben considerar para verificar la mejora**"
      ]
    },
    {
      "cell_type": "code",
      "metadata": {
        "id": "cS6oqzXxT3AJ",
        "colab": {
          "base_uri": "https://localhost:8080/",
          "height": 283
        },
        "outputId": "ad4a578b-2a4a-470c-e7e8-540009653d8d"
      },
      "source": [
        "model = build_model()\n",
        "model.compile(loss='mse',\n",
        "                optimizer=optimizer,\n",
        "                metrics=['mae', 'mse'])\n",
        "\n",
        "early_stop = tf.keras.callbacks.EarlyStopping(\n",
        "      monitor='val_loss', patience=10)\n",
        "\n",
        "history = model.fit(normed_train_data, train_labels, epochs=EPOCHS,\n",
        "                    validation_split = 0.2, verbose=0,\n",
        "                    callbacks=[early_stop] )\n",
        "\n",
        "plot_history(history)\n"
      ],
      "execution_count": 66,
      "outputs": [
        {
          "output_type": "display_data",
          "data": {
            "image/png": "[encoded data removed]",
            "text/plain": [
              "<Figure size 432x288 with 1 Axes>"
            ]
          },
          "metadata": {
            "needs_background": "light"
          }
        }
      ]
    },
    {
      "cell_type": "markdown",
      "metadata": {
        "id": "4OxxwgCUrFvY"
      },
      "source": [
        "**EVALUACIÓN DEL MODELO CON LOS DATOS DE PRUEBA**\n",
        "\n",
        "Finalmente, nos queda ver **lo bien que generaliza** el modelo al usar el **conjunto de datos de prueba**, que **no hemos usado en ningún momento durante el entrenamiento del modelo**. Esto será una indicación clara de **qué podemos esperar del modelo cuando lo usemos en el mundo real**. Para ello, usamos el método ``evaluate()``:"
      ]
    },
    {
      "cell_type": "code",
      "metadata": {
        "id": "XylL5FAZaFqE",
        "colab": {
          "base_uri": "https://localhost:8080/"
        },
        "outputId": "c9db5244-b918-4d65-d315-018be4784f6a"
      },
      "source": [
        "loss, mse, mae = model.evaluate(normed_test_data, test_labels)\n",
        "print(\"Testing set Mean Abs Error: {:5.2f} MPG\".format(mae))\n",
        "print(\"Testing set Mean Sqr Error: {:5.2f} MPG\".format(mse))"
      ],
      "execution_count": 67,
      "outputs": [
        {
          "output_type": "stream",
          "name": "stdout",
          "text": [
            "3/3 [==============================] - 0s 6ms/step - loss: 5.8654 - mae: 1.8702 - mse: 5.8654\n",
            "Testing set Mean Abs Error:  5.87 MPG\n",
            "Testing set Mean Sqr Error:  1.87 MPG\n"
          ]
        }
      ]
    },
    {
      "cell_type": "markdown",
      "metadata": {
        "id": "UUg-1-16rjt-"
      },
      "source": [
        "* En nuestro caso estamos interesados en el **error absoluto medio** (MAE), porque nos da un valor más «comprensible» para probar el modelo, es decir, directamente **indica la diferencia de millas por galón**. \n",
        "* Vemos que el modelo arroja un **error de unas 5 millas por galón** en el caso de **MAE**, que corresponde a unos **2.26 kilómetros por litro** de error. \n",
        "* Si lo pasamos al **error** que representa en **litros por 100 km** nos sale un error de unos 0,022 litros. (podemos considerar pequeño)=> Podemos concluir que el **MÉTODO GENERALIZA BIEN**."
      ]
    },
    {
      "cell_type": "markdown",
      "metadata": {
        "id": "skSie-dmWH7X"
      },
      "source": [
        "**EVALUACIÓN DEL ENTRENAMIENTO CON MAE**\n",
        "\n",
        "Hemos considerado la métrica **MAE para evaluar el error**, pero habíamos **usado** **MSE como función de pérdida**. \n",
        "\n",
        "Quizás tiene más sentido calcular los parámetros \n",
        "del modelo con la **función de pérdida MAE** en vez de la **MSE**. \n",
        "\n",
        "Podemos ver la gráfica de evolución del entrenamiento y observamos que también se adapta bien."
      ]
    },
    {
      "cell_type": "code",
      "metadata": {
        "id": "CE_4ZyUyF9t0"
      },
      "source": [
        "model = build_model()\n",
        "model.compile(loss='mae',\n",
        "                optimizer=optimizer,\n",
        "                metrics=['mae', 'mse'])\n",
        "\n",
        "early_stop = tf.keras.callbacks.EarlyStopping(monitor='val_loss', patience=10)\n",
        "\n",
        "history = model.fit(normed_train_data, train_labels, epochs=EPOCHS,\n",
        "                    validation_split = 0.2, verbose=0,\n",
        "                    callbacks=[early_stop] )\n",
        "\n",
        "\n"
      ],
      "execution_count": 68,
      "outputs": []
    },
    {
      "cell_type": "code",
      "metadata": {
        "id": "fyNghoi97tyg",
        "colab": {
          "base_uri": "https://localhost:8080/",
          "height": 283
        },
        "outputId": "c09197b7-cd08-42ae-d7de-a21618c4832a"
      },
      "source": [
        "plot_history(history)"
      ],
      "execution_count": 69,
      "outputs": [
        {
          "output_type": "display_data",
          "data": {
            "image/png": "[encoded data removed]",
            "text/plain": [
              "<Figure size 432x288 with 1 Axes>"
            ]
          },
          "metadata": {
            "needs_background": "light"
          }
        }
      ]
    },
    {
      "cell_type": "markdown",
      "metadata": {
        "id": "n_TYwDJJtMMm"
      },
      "source": [
        "Al usar el conjunto de prueba para calcular el error con esta nueva función de pérdida, vemos que el modelo generaliza aproximadamente igual que el anterior, aportando unos resultados muy parecidos."
      ]
    },
    {
      "cell_type": "code",
      "metadata": {
        "id": "O-r0WJONIMf7",
        "colab": {
          "base_uri": "https://localhost:8080/"
        },
        "outputId": "e6db7ae3-1cd2-4d3e-929b-f550d374649c"
      },
      "source": [
        "loss, mse, mae = model.evaluate(normed_test_data, test_labels)\n",
        "print(\"Testing set Mean Abs Error: {:5.2f} MPG\".format(mae))\n",
        "print(\"Testing set Mean Sqr Error: {:5.2f} MPG\".format(mse))"
      ],
      "execution_count": 70,
      "outputs": [
        {
          "output_type": "stream",
          "name": "stdout",
          "text": [
            "3/3 [==============================] - 0s 6ms/step - loss: 1.7450 - mae: 1.7450 - mse: 6.0482\n",
            "Testing set Mean Abs Error:  6.05 MPG\n",
            "Testing set Mean Sqr Error:  1.74 MPG\n"
          ]
        }
      ]
    },
    {
      "cell_type": "markdown",
      "metadata": {
        "id": "h0KlnVGetUZY"
      },
      "source": [
        "A partir de aquí, **deberíamos valorar si hace falta probar con otros modelos y otros hiperparámetros**. \n",
        "\n",
        "Pero, tal y como hemos valorado «subjetivamente», el **modelo arroja un error pequeño** (0.022 litros a los 100 km) y **podemos considerar que el método generaliza bien** y que es el **definitivo para usarlo para inferencia**. "
      ]
    },
    {
      "cell_type": "markdown",
      "metadata": {
        "id": "4dYZfRBZtq9Z"
      },
      "source": [
        "---"
      ]
    }
  ]
}