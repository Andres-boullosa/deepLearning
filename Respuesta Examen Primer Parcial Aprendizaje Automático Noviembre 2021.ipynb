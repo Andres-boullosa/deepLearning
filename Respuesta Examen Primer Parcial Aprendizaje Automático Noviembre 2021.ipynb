{
  "nbformat": 4,
  "nbformat_minor": 0,
  "metadata": {
    "colab": {
      "name": "09-etapas-de-un-proyecto-deep-learning.ipynb",
      "provenance": []
    },
    "kernelspec": {
      "name": "python3",
      "display_name": "Python 3"
    },
    "accelerator": "GPU"
  },
  "cells": [
    {
      "cell_type": "markdown",
      "metadata": {
        "id": "FKNAOn5Ia7pG"
      },
      "source": [
        "\n",
        "# Respuesta Examen Primer Parcial Aprendizaje Automático Noviembre 2021"
      ]
    },
    {
      "cell_type": "markdown",
      "metadata": {
        "id": "YY7A2tyz8nTO"
      },
      "source": [
        "* Construiremos un modelo que pr**edice la eficiencia de combustible de vehículos** entre 1970 y 1980 a partir de del conjunto de datos Auto MPG124.\n",
        "\n",
        "* **PASO 1**: **Definir el problema** y plantearse si tenemos los datos adecuados para atacarlo ¿Qué intentamos predecir? **MPG de una serie de coches (valor continuo)** ¿Cuáles serán los datos de entrada?:\n",
        "  - **Millas por galón** (Miles per Gallon) (mpg):variable continua \n",
        "  - **Cilindros** (cylinders) : variable discreta de valores múltiples\n",
        "  - **Desplazamiento** (displacement) : variable continua\n",
        "  - **Potencia** (horsepower) : variable continua\n",
        "  - **Peso** (weight) : variable continua\n",
        "  - **Aceleración** (acceleration) : variable continua\n",
        "  - **Año del modelo** (model year) : variable discreta de valores múltiples\n",
        "  - **Origen** (origin) : variable categórica \n",
        "* ¿Qué tipo de problema estamos intentando solucionar? Es claramente una **REGRESIÓN**\n",
        "  - Consideraremos como entrada al modelo los datos **cylinders**, **displacement**, **horsepower**, **weight**, **acceleration**, **model year** y **origin**. \n",
        "- Consideramos como salida: **Miles per Gallon** (mpg). \n",
        "\n",
        "Estamos ante una **hipótesis de trabajo que parece bastante plausible**, es decir, con esta información de un coche podremos estimar cuál será su consumo. Es una típica tarea de regresión"
      ]
    },
    {
      "cell_type": "markdown",
      "metadata": {
        "id": "HhxVlFL7j4N6"
      },
      "source": [
        "### Inicialización"
      ]
    },
    {
      "cell_type": "markdown",
      "metadata": {
        "id": "UXlgmAKYGceX"
      },
      "source": [
        "Primero importamos todos los paquetes Python \n",
        "que se usarán en el código o pseudocódigo de este examen"
      ]
    },
    {
      "cell_type": "code",
      "metadata": {
        "id": "VcFrOCQOYU1R",
        "colab": {
          "base_uri": "https://localhost:8080/"
        },
        "outputId": "4b991b96-49be-4a8e-d880-3d7709f8a3d0"
      },
      "source": [
        "%tensorflow_version 2.x\n",
        "import tensorflow as tf\n",
        "\n",
        "print(tf.__version__)\n",
        "\n",
        "import numpy as np\n",
        "import matplotlib.pyplot as plt\n",
        "import pandas as pd\n"
      ],
      "execution_count": 11,
      "outputs": [
        {
          "output_type": "stream",
          "name": "stdout",
          "text": [
            "2.7.0\n"
          ]
        }
      ]
    },
    {
      "cell_type": "markdown",
      "metadata": {
        "id": "DtndO_D__Z2T"
      },
      "source": [
        "### Descarga datos Auto MPG"
      ]
    },
    {
      "cell_type": "markdown",
      "metadata": {
        "id": "uMd1TUBhGsZc"
      },
      "source": [
        "Descargamos el dataset Auto MPG. En este ejercício toda la información se encuentra en un único fichero llamado `auto-mpg.data`. En el examen, obviamente, esto no era necesario. Damos por hecho que lo tenemos cargado ya en las variables correspondientes"
      ]
    },
    {
      "cell_type": "code",
      "metadata": {
        "id": "niPo3Nfh-bVz"
      },
      "source": [
        "dataset_path = tf.keras.utils.get_file(\"auto-mpg.data\", \"https://archive.ics.uci.edu/ml/machine-learning-databases/auto-mpg/auto-mpg.data\")"
      ],
      "execution_count": 12,
      "outputs": []
    },
    {
      "cell_type": "markdown",
      "metadata": {
        "id": "uH5I9KWMHgAH"
      },
      "source": [
        "* El siguiente paso es importar los datos usando la librería **Pandas** para manipulación y análisis de datos. \n",
        "* Pandas ofrece estructuras de datos y operaciones para manipular tablas numéricas. Especialmente útil la clase `DataFrame`"
      ]
    },
    {
      "cell_type": "code",
      "metadata": {
        "id": "Z7TMTyo--bYr"
      },
      "source": [
        "column_names = ['MPG','Cylinders','Displacement','Horsepower','Weight',   'Acceleration', 'Model Year', 'Origin'] \n",
        "\n",
        "raw_dataset = pd.read_csv(dataset_path, names=column_names,\n",
        "                      na_values = \"?\", comment='\\t',\n",
        "                      sep=\" \", skipinitialspace=True)\n",
        "\n",
        "dataset = raw_dataset.copy()"
      ],
      "execution_count": 13,
      "outputs": []
    },
    {
      "cell_type": "markdown",
      "metadata": {
        "id": "B9vNu5hZH-JL"
      },
      "source": [
        "* Una práctica interesante es echarle un vistazo rápido a la estructura de datos. \n",
        "* Podemos visualizar las cinco últimas filas con el método `tail()` que nos ofrece Pandas"
      ]
    },
    {
      "cell_type": "code",
      "metadata": {
        "id": "WEvgfenf-pEf",
        "colab": {
          "base_uri": "https://localhost:8080/",
          "height": 206
        },
        "outputId": "045e1d1b-67c9-414a-add3-e3fc48049c47"
      },
      "source": [
        "dataset.tail()"
      ],
      "execution_count": 14,
      "outputs": [
        {
          "output_type": "execute_result",
          "data": {
            "text/html": [
              "<div>\n",
              "<style scoped>\n",
              "    .dataframe tbody tr th:only-of-type {\n",
              "        vertical-align: middle;\n",
              "    }\n",
              "\n",
              "    .dataframe tbody tr th {\n",
              "        vertical-align: top;\n",
              "    }\n",
              "\n",
              "    .dataframe thead th {\n",
              "        text-align: right;\n",
              "    }\n",
              "</style>\n",
              "<table border=\"1\" class=\"dataframe\">\n",
              "  <thead>\n",
              "    <tr style=\"text-align: right;\">\n",
              "      <th></th>\n",
              "      <th>MPG</th>\n",
              "      <th>Cylinders</th>\n",
              "      <th>Displacement</th>\n",
              "      <th>Horsepower</th>\n",
              "      <th>Weight</th>\n",
              "      <th>Acceleration</th>\n",
              "      <th>Model Year</th>\n",
              "      <th>Origin</th>\n",
              "    </tr>\n",
              "  </thead>\n",
              "  <tbody>\n",
              "    <tr>\n",
              "      <th>393</th>\n",
              "      <td>27.0</td>\n",
              "      <td>4</td>\n",
              "      <td>140.0</td>\n",
              "      <td>86.0</td>\n",
              "      <td>2790.0</td>\n",
              "      <td>15.6</td>\n",
              "      <td>82</td>\n",
              "      <td>1</td>\n",
              "    </tr>\n",
              "    <tr>\n",
              "      <th>394</th>\n",
              "      <td>44.0</td>\n",
              "      <td>4</td>\n",
              "      <td>97.0</td>\n",
              "      <td>52.0</td>\n",
              "      <td>2130.0</td>\n",
              "      <td>24.6</td>\n",
              "      <td>82</td>\n",
              "      <td>2</td>\n",
              "    </tr>\n",
              "    <tr>\n",
              "      <th>395</th>\n",
              "      <td>32.0</td>\n",
              "      <td>4</td>\n",
              "      <td>135.0</td>\n",
              "      <td>84.0</td>\n",
              "      <td>2295.0</td>\n",
              "      <td>11.6</td>\n",
              "      <td>82</td>\n",
              "      <td>1</td>\n",
              "    </tr>\n",
              "    <tr>\n",
              "      <th>396</th>\n",
              "      <td>28.0</td>\n",
              "      <td>4</td>\n",
              "      <td>120.0</td>\n",
              "      <td>79.0</td>\n",
              "      <td>2625.0</td>\n",
              "      <td>18.6</td>\n",
              "      <td>82</td>\n",
              "      <td>1</td>\n",
              "    </tr>\n",
              "    <tr>\n",
              "      <th>397</th>\n",
              "      <td>31.0</td>\n",
              "      <td>4</td>\n",
              "      <td>119.0</td>\n",
              "      <td>82.0</td>\n",
              "      <td>2720.0</td>\n",
              "      <td>19.4</td>\n",
              "      <td>82</td>\n",
              "      <td>1</td>\n",
              "    </tr>\n",
              "  </tbody>\n",
              "</table>\n",
              "</div>"
            ],
            "text/plain": [
              "      MPG  Cylinders  Displacement  ...  Acceleration  Model Year  Origin\n",
              "393  27.0          4         140.0  ...          15.6          82       1\n",
              "394  44.0          4          97.0  ...          24.6          82       2\n",
              "395  32.0          4         135.0  ...          11.6          82       1\n",
              "396  28.0          4         120.0  ...          18.6          82       1\n",
              "397  31.0          4         119.0  ...          19.4          82       1\n",
              "\n",
              "[5 rows x 8 columns]"
            ]
          },
          "metadata": {},
          "execution_count": 14
        }
      ]
    },
    {
      "cell_type": "code",
      "metadata": {
        "id": "q6Cqjf_xnwpw",
        "colab": {
          "base_uri": "https://localhost:8080/",
          "height": 206
        },
        "outputId": "ad8d545c-6d66-4270-afb6-e2dbfd24cda4"
      },
      "source": [
        "dataset.head()"
      ],
      "execution_count": 15,
      "outputs": [
        {
          "output_type": "execute_result",
          "data": {
            "text/html": [
              "<div>\n",
              "<style scoped>\n",
              "    .dataframe tbody tr th:only-of-type {\n",
              "        vertical-align: middle;\n",
              "    }\n",
              "\n",
              "    .dataframe tbody tr th {\n",
              "        vertical-align: top;\n",
              "    }\n",
              "\n",
              "    .dataframe thead th {\n",
              "        text-align: right;\n",
              "    }\n",
              "</style>\n",
              "<table border=\"1\" class=\"dataframe\">\n",
              "  <thead>\n",
              "    <tr style=\"text-align: right;\">\n",
              "      <th></th>\n",
              "      <th>MPG</th>\n",
              "      <th>Cylinders</th>\n",
              "      <th>Displacement</th>\n",
              "      <th>Horsepower</th>\n",
              "      <th>Weight</th>\n",
              "      <th>Acceleration</th>\n",
              "      <th>Model Year</th>\n",
              "      <th>Origin</th>\n",
              "    </tr>\n",
              "  </thead>\n",
              "  <tbody>\n",
              "    <tr>\n",
              "      <th>0</th>\n",
              "      <td>18.0</td>\n",
              "      <td>8</td>\n",
              "      <td>307.0</td>\n",
              "      <td>130.0</td>\n",
              "      <td>3504.0</td>\n",
              "      <td>12.0</td>\n",
              "      <td>70</td>\n",
              "      <td>1</td>\n",
              "    </tr>\n",
              "    <tr>\n",
              "      <th>1</th>\n",
              "      <td>15.0</td>\n",
              "      <td>8</td>\n",
              "      <td>350.0</td>\n",
              "      <td>165.0</td>\n",
              "      <td>3693.0</td>\n",
              "      <td>11.5</td>\n",
              "      <td>70</td>\n",
              "      <td>1</td>\n",
              "    </tr>\n",
              "    <tr>\n",
              "      <th>2</th>\n",
              "      <td>18.0</td>\n",
              "      <td>8</td>\n",
              "      <td>318.0</td>\n",
              "      <td>150.0</td>\n",
              "      <td>3436.0</td>\n",
              "      <td>11.0</td>\n",
              "      <td>70</td>\n",
              "      <td>1</td>\n",
              "    </tr>\n",
              "    <tr>\n",
              "      <th>3</th>\n",
              "      <td>16.0</td>\n",
              "      <td>8</td>\n",
              "      <td>304.0</td>\n",
              "      <td>150.0</td>\n",
              "      <td>3433.0</td>\n",
              "      <td>12.0</td>\n",
              "      <td>70</td>\n",
              "      <td>1</td>\n",
              "    </tr>\n",
              "    <tr>\n",
              "      <th>4</th>\n",
              "      <td>17.0</td>\n",
              "      <td>8</td>\n",
              "      <td>302.0</td>\n",
              "      <td>140.0</td>\n",
              "      <td>3449.0</td>\n",
              "      <td>10.5</td>\n",
              "      <td>70</td>\n",
              "      <td>1</td>\n",
              "    </tr>\n",
              "  </tbody>\n",
              "</table>\n",
              "</div>"
            ],
            "text/plain": [
              "    MPG  Cylinders  Displacement  ...  Acceleration  Model Year  Origin\n",
              "0  18.0          8         307.0  ...          12.0          70       1\n",
              "1  15.0          8         350.0  ...          11.5          70       1\n",
              "2  18.0          8         318.0  ...          11.0          70       1\n",
              "3  16.0          8         304.0  ...          12.0          70       1\n",
              "4  17.0          8         302.0  ...          10.5          70       1\n",
              "\n",
              "[5 rows x 8 columns]"
            ]
          },
          "metadata": {},
          "execution_count": 15
        }
      ]
    },
    {
      "cell_type": "markdown",
      "metadata": {
        "id": "o2PJXbhNOGeL"
      },
      "source": [
        "* Podemos ver que los valores de las diferentes columnas son los esperados y podemos comprobar que disponemos de **398 muestras** (de la 0 a la 397). "
      ]
    },
    {
      "cell_type": "markdown",
      "metadata": {
        "id": "UfsDnBFzIUJ0"
      },
      "source": [
        "**TRATAMIENTO DE VALORES VACÍOS**\n",
        "* También es interesante comprobar en esta etapa **si falta algún valor** para garantizar que nuestros datos son correctos. Para ello, podemos usar el método `insa()` que nos ofrece Pandas para detectar si faltan elementos. \n",
        "* **Qué hacer con los datos perdidos**: Es muy habitual, en los problemas del mundo real, que falten algunos valores de los datos de muestra. Esto puede ser debido a errores de recopilación de datos, a errores de transformación de datos, etc. Los campos vacíos se representan típicamente con los indicadores ``NaN`` o ``Null``. **El problema es que en redes neuronales no podemos dejar estos valores faltantes**, por lo que **los tenemos que \n",
        "tratar antes de alimentar nuestro modelo con datos**. \n",
        "* En el examen, ya os decía que había valores que faltaban y quería que me dijerais que vais a hacer con ellos. A priori, cualquier respuesta bien argumentada era válida: \n",
        "  - **Borrarlos**: eliminando las características (columnas) o muestras (filas) con campos vacíos, destacando que no sería la mejor opción porque hay muy pocos valores en el DataSet\n",
        "  - **Mantenerlo con valor 0**, ya que no es un valor representativo en los datos (no existen coches con 0 caballos de vapor, con lo que el sistema aprendería que son valores nulos)\n",
        "  - Meterle la **media de los valores de los CV del resto de datos** con valor. La librería `ScikitLearn` nos ayuda a estimar los campos vacíos con algún estimador"
      ]
    },
    {
      "cell_type": "code",
      "metadata": {
        "id": "QawPBGCl-vRd",
        "colab": {
          "base_uri": "https://localhost:8080/"
        },
        "outputId": "33938477-4778-4a4e-ac66-8406be7d22af"
      },
      "source": [
        "print(dataset.isna().sum())"
      ],
      "execution_count": 16,
      "outputs": [
        {
          "output_type": "stream",
          "name": "stdout",
          "text": [
            "MPG             0\n",
            "Cylinders       0\n",
            "Displacement    0\n",
            "Horsepower      6\n",
            "Weight          0\n",
            "Acceleration    0\n",
            "Model Year      0\n",
            "Origin          0\n",
            "dtype: int64\n"
          ]
        }
      ]
    },
    {
      "cell_type": "markdown",
      "metadata": {
        "id": "TAQdfhXsKpL-"
      },
      "source": [
        "* Para mantener este ejemplo simple, optamos por la primera opción y, simplemente, borramos las filas usando el método ``dropna()`` que nos proporciona Pandas.\n",
        "* Este es un paso delicado en los casos reales y requiere una decisión más pensada, puesto que simplemente eliminando corremos el riesgo de borrar información relevante —podemos estar borrando demasiadas muestras, o incluso podemos estar modificando la distribución de los datos de entrada—."
      ]
    },
    {
      "cell_type": "code",
      "metadata": {
        "id": "Ntm2wuai-vUY"
      },
      "source": [
        "dataset = dataset.dropna()"
      ],
      "execution_count": 17,
      "outputs": []
    },
    {
      "cell_type": "markdown",
      "metadata": {
        "id": "O1pkLWSPNQH8"
      },
      "source": [
        "**MANEJO DE DATOS CATEGÓRICOS** \n",
        "* La columna de datos ``Origin`` no es numérica, sino categórica, es decir, el 1 significa «USA», el 2 «Europa» y el 3 «Japan». Cuando sucede esto, se usa habitualmente la técnica de **codificación one-hot**\n",
        "* Consiste en crear una característica «ficticia» para cada valor único en la columna de características. Asigna a los datos de entrada su propio vector y les da un valor de 1 o 0. \n",
        "* Para ello, en nuestro caso de datos, usaremos el método ``pop()`` que proporciona Pandas para extraer de los datos la columna Origin, y la sustituiremos por tres nuevas columnas:"
      ]
    },
    {
      "cell_type": "code",
      "metadata": {
        "id": "NFpVmTFz-vXM"
      },
      "source": [
        "origin = dataset.pop('Origin')\n",
        "dataset['USA'] = (origin == 1)*1.0\n",
        "dataset['Europe'] = (origin == 2)*1.0\n",
        "dataset['Japan'] = (origin == 3)*1.0"
      ],
      "execution_count": 18,
      "outputs": []
    },
    {
      "cell_type": "markdown",
      "metadata": {
        "id": "i96ZYEyOOcN0"
      },
      "source": [
        "Podemos volver a echarle un vistazo rápido a la estructura de datos con el método ``tail()``; vemos que se han creado las tres nuevas columnas que sustituyen a la columna ``Origin``:"
      ]
    },
    {
      "cell_type": "code",
      "metadata": {
        "colab": {
          "base_uri": "https://localhost:8080/",
          "height": 206
        },
        "id": "aWkY1c1tOj0X",
        "outputId": "2aedb4c7-4b11-4863-f53c-4f4b34e1d047"
      },
      "source": [
        "dataset.tail()"
      ],
      "execution_count": 19,
      "outputs": [
        {
          "output_type": "execute_result",
          "data": {
            "text/html": [
              "<div>\n",
              "<style scoped>\n",
              "    .dataframe tbody tr th:only-of-type {\n",
              "        vertical-align: middle;\n",
              "    }\n",
              "\n",
              "    .dataframe tbody tr th {\n",
              "        vertical-align: top;\n",
              "    }\n",
              "\n",
              "    .dataframe thead th {\n",
              "        text-align: right;\n",
              "    }\n",
              "</style>\n",
              "<table border=\"1\" class=\"dataframe\">\n",
              "  <thead>\n",
              "    <tr style=\"text-align: right;\">\n",
              "      <th></th>\n",
              "      <th>MPG</th>\n",
              "      <th>Cylinders</th>\n",
              "      <th>Displacement</th>\n",
              "      <th>Horsepower</th>\n",
              "      <th>Weight</th>\n",
              "      <th>Acceleration</th>\n",
              "      <th>Model Year</th>\n",
              "      <th>USA</th>\n",
              "      <th>Europe</th>\n",
              "      <th>Japan</th>\n",
              "    </tr>\n",
              "  </thead>\n",
              "  <tbody>\n",
              "    <tr>\n",
              "      <th>393</th>\n",
              "      <td>27.0</td>\n",
              "      <td>4</td>\n",
              "      <td>140.0</td>\n",
              "      <td>86.0</td>\n",
              "      <td>2790.0</td>\n",
              "      <td>15.6</td>\n",
              "      <td>82</td>\n",
              "      <td>1.0</td>\n",
              "      <td>0.0</td>\n",
              "      <td>0.0</td>\n",
              "    </tr>\n",
              "    <tr>\n",
              "      <th>394</th>\n",
              "      <td>44.0</td>\n",
              "      <td>4</td>\n",
              "      <td>97.0</td>\n",
              "      <td>52.0</td>\n",
              "      <td>2130.0</td>\n",
              "      <td>24.6</td>\n",
              "      <td>82</td>\n",
              "      <td>0.0</td>\n",
              "      <td>1.0</td>\n",
              "      <td>0.0</td>\n",
              "    </tr>\n",
              "    <tr>\n",
              "      <th>395</th>\n",
              "      <td>32.0</td>\n",
              "      <td>4</td>\n",
              "      <td>135.0</td>\n",
              "      <td>84.0</td>\n",
              "      <td>2295.0</td>\n",
              "      <td>11.6</td>\n",
              "      <td>82</td>\n",
              "      <td>1.0</td>\n",
              "      <td>0.0</td>\n",
              "      <td>0.0</td>\n",
              "    </tr>\n",
              "    <tr>\n",
              "      <th>396</th>\n",
              "      <td>28.0</td>\n",
              "      <td>4</td>\n",
              "      <td>120.0</td>\n",
              "      <td>79.0</td>\n",
              "      <td>2625.0</td>\n",
              "      <td>18.6</td>\n",
              "      <td>82</td>\n",
              "      <td>1.0</td>\n",
              "      <td>0.0</td>\n",
              "      <td>0.0</td>\n",
              "    </tr>\n",
              "    <tr>\n",
              "      <th>397</th>\n",
              "      <td>31.0</td>\n",
              "      <td>4</td>\n",
              "      <td>119.0</td>\n",
              "      <td>82.0</td>\n",
              "      <td>2720.0</td>\n",
              "      <td>19.4</td>\n",
              "      <td>82</td>\n",
              "      <td>1.0</td>\n",
              "      <td>0.0</td>\n",
              "      <td>0.0</td>\n",
              "    </tr>\n",
              "  </tbody>\n",
              "</table>\n",
              "</div>"
            ],
            "text/plain": [
              "      MPG  Cylinders  Displacement  Horsepower  ...  Model Year  USA  Europe  Japan\n",
              "393  27.0          4         140.0        86.0  ...          82  1.0     0.0    0.0\n",
              "394  44.0          4          97.0        52.0  ...          82  0.0     1.0    0.0\n",
              "395  32.0          4         135.0        84.0  ...          82  1.0     0.0    0.0\n",
              "396  28.0          4         120.0        79.0  ...          82  1.0     0.0    0.0\n",
              "397  31.0          4         119.0        82.0  ...          82  1.0     0.0    0.0\n",
              "\n",
              "[5 rows x 10 columns]"
            ]
          },
          "metadata": {},
          "execution_count": 19
        }
      ]
    },
    {
      "cell_type": "markdown",
      "metadata": {
        "id": "qZCJERdFPm2N"
      },
      "source": [
        "Esto ya se os da hecho en el Examen"
      ]
    },
    {
      "cell_type": "markdown",
      "metadata": {
        "id": "wBXjhOwa_eFh"
      },
      "source": [
        "## Separar los datos para entrenar y evaluar"
      ]
    },
    {
      "cell_type": "markdown",
      "metadata": {
        "id": "fHJJKpAgPHAq"
      },
      "source": [
        "En los ejemplos vistos en clase, los datos ya se encontraban divididos en cuatro arrays NumPy, al igual que se han dado en el examen:\n",
        "* Datos de entrenamiento (training) y sus etiquetas respectivas: \n",
        "  - ``train_data``\n",
        "  - ``train_labels``\n",
        "* Datos de prueba (test) y sus etiquetas respectivas:\n",
        "  - ``test_data``\n",
        "  - ``test_labels`` \n",
        "\n",
        "Aquí os cuento como se han partido para el examen, pero debeis tener en cuenta y hablar sobre ello que para la configuración y evaluación de un modelo en Machine Learning, habitualmente se dividen los datos disponibles en dos conjuntos: \n",
        "* Datos de entrenamiento (training)\n",
        "* Datos de prueba (test). \n",
        "\n",
        "A su vez, **una parte de los datos de entrenamiento (training) se reservan como datos de validación(validation)**. \n",
        "Los datos de entrenamiento que nos quedan después de sacar los de validación y prueba son los que se usan para que el algoritmo de aprendizaje calcule los parámetros del modelo, mientras que los de **validación se usan para afinar los hiperparámetros**. \n",
        "\n",
        "Con las métricas —como con la precisión (**accuracy**)— que se pueden obtener de este conjunto de datos de validación nos guiamos para decidir cómo ajustar los hiperparámetros del algoritmo antes de repetir el proceso de entrena- \n",
        "miento. \n",
        "\n",
        "Es importante notar en el examen que **cuando nos esforzamos para mejorar el algoritmo ajustando los hiperparámetros gracias al comportamiento del modelo con los datos de validación**, estamos **inadvertidamente incidiendo en el modelo, que \n",
        "puede sesgar los resultados a favor del conjunto de validación**. De aquí la importancia de disponer de un conjunto de datos de prueba **reservados para una prueba final**, con **datos que el modelo no ha visto nunca anteriormente** durante la etapa de \n",
        "entrenamiento (ni como datos de entrenamiento ni como datos de validación).\n",
        "\n",
        "Esto permite obtener una medida de comportamiento del algoritmo más objetiva y **evaluar si nuestro modelo generaliza correctamente**. "
      ]
    },
    {
      "cell_type": "markdown",
      "metadata": {
        "id": "awj9SzGSUOb1"
      },
      "source": [
        "![modelo entrenamiento validacion y test.jpg](data:image/jpeg;base64,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)\n",
        "\n"
      ]
    },
    {
      "cell_type": "markdown",
      "metadata": {
        "id": "ACl6FmvbUyGg"
      },
      "source": [
        "Esta es la estrategia de evaluación más habitual. Pero hay otras e**strategias de repartir los datos para validar** los modelos **cuando tenemos escasez de datos**, como por ejemplo la **validación cruzada** (cross-validation) que, básicamente, **divide los datos en K particiones del mismo tamaño** y para cada partición ``i`` el modelo es entrenado con las restantes ``K-1`` particiones, y evaluado en la propia partición ``i``. \n",
        "\n",
        "En nuestro ejemplo podemos repartir los datos mediante el método ``sample()`` que nos proporciona Pandas, indicando con el argumento ``frac`` inicializado a 0.8 que **queremos usar el 80 % de los datos para entrenamiento**, y que los almacenamos en ``train_data``:"
      ]
    },
    {
      "cell_type": "code",
      "metadata": {
        "id": "5yrXBybR_V7j"
      },
      "source": [
        "train_data = dataset.sample(frac=0.8,random_state=0)\n",
        "# El resto de datos los almacenamos en test_data:\n",
        "test_data = dataset.drop(train_data.index)"
      ],
      "execution_count": 37,
      "outputs": []
    },
    {
      "cell_type": "markdown",
      "metadata": {
        "id": "mBPXtHnJVp-l"
      },
      "source": [
        "También debemos **separar la columna de datos que contiene los valores que queremos predecir (MPG)**:"
      ]
    },
    {
      "cell_type": "code",
      "metadata": {
        "id": "wtq9cEZV_V-m"
      },
      "source": [
        "train_labels = train_data.pop('MPG')\n",
        "test_labels = test_data.pop('MPG')"
      ],
      "execution_count": 21,
      "outputs": []
    },
    {
      "cell_type": "markdown",
      "metadata": {
        "id": "41fxFvP-V1nD"
      },
      "source": [
        "**NORMALIZAR LOS DATOS DE ENTRADA** \n",
        "Como venimos estudiando, es una buena práctica normalizar los datos para ser consumidos por las redes neuronales: \n",
        "* Sus valores generalmente deben **escalarse a valores pequeños**, en el rango ``[-1, 1]`` o ``[0, 1]``. \n",
        "* Si **diferentes características** de los valores de entrada **presentan valores en diferentes rangos** (datos heterogéneos), es **conveniente normalizar los datos**. \n",
        "\n",
        "Podemos inspeccionar los datos de entrada mediante el método ``describe()`` que ofrece el paquete Pandas para ver medianas y desviaciones."
      ]
    },
    {
      "cell_type": "code",
      "metadata": {
        "id": "FekCNTKP_WBI",
        "colab": {
          "base_uri": "https://localhost:8080/",
          "height": 363
        },
        "outputId": "36225a51-fe5f-4cb4-f13f-d2c0a8212b88"
      },
      "source": [
        "train_stats = train_data.describe()\n",
        "train_stats = train_stats.transpose()\n",
        "train_stats"
      ],
      "execution_count": 38,
      "outputs": [
        {
          "output_type": "execute_result",
          "data": {
            "text/html": [
              "<div>\n",
              "<style scoped>\n",
              "    .dataframe tbody tr th:only-of-type {\n",
              "        vertical-align: middle;\n",
              "    }\n",
              "\n",
              "    .dataframe tbody tr th {\n",
              "        vertical-align: top;\n",
              "    }\n",
              "\n",
              "    .dataframe thead th {\n",
              "        text-align: right;\n",
              "    }\n",
              "</style>\n",
              "<table border=\"1\" class=\"dataframe\">\n",
              "  <thead>\n",
              "    <tr style=\"text-align: right;\">\n",
              "      <th></th>\n",
              "      <th>count</th>\n",
              "      <th>mean</th>\n",
              "      <th>std</th>\n",
              "      <th>min</th>\n",
              "      <th>25%</th>\n",
              "      <th>50%</th>\n",
              "      <th>75%</th>\n",
              "      <th>max</th>\n",
              "    </tr>\n",
              "  </thead>\n",
              "  <tbody>\n",
              "    <tr>\n",
              "      <th>MPG</th>\n",
              "      <td>314.0</td>\n",
              "      <td>23.310510</td>\n",
              "      <td>7.728652</td>\n",
              "      <td>10.0</td>\n",
              "      <td>17.00</td>\n",
              "      <td>22.0</td>\n",
              "      <td>28.95</td>\n",
              "      <td>46.6</td>\n",
              "    </tr>\n",
              "    <tr>\n",
              "      <th>Cylinders</th>\n",
              "      <td>314.0</td>\n",
              "      <td>5.477707</td>\n",
              "      <td>1.699788</td>\n",
              "      <td>3.0</td>\n",
              "      <td>4.00</td>\n",
              "      <td>4.0</td>\n",
              "      <td>8.00</td>\n",
              "      <td>8.0</td>\n",
              "    </tr>\n",
              "    <tr>\n",
              "      <th>Displacement</th>\n",
              "      <td>314.0</td>\n",
              "      <td>195.318471</td>\n",
              "      <td>104.331589</td>\n",
              "      <td>68.0</td>\n",
              "      <td>105.50</td>\n",
              "      <td>151.0</td>\n",
              "      <td>265.75</td>\n",
              "      <td>455.0</td>\n",
              "    </tr>\n",
              "    <tr>\n",
              "      <th>Horsepower</th>\n",
              "      <td>314.0</td>\n",
              "      <td>104.869427</td>\n",
              "      <td>38.096214</td>\n",
              "      <td>46.0</td>\n",
              "      <td>76.25</td>\n",
              "      <td>94.5</td>\n",
              "      <td>128.00</td>\n",
              "      <td>225.0</td>\n",
              "    </tr>\n",
              "    <tr>\n",
              "      <th>Weight</th>\n",
              "      <td>314.0</td>\n",
              "      <td>2990.251592</td>\n",
              "      <td>843.898596</td>\n",
              "      <td>1649.0</td>\n",
              "      <td>2256.50</td>\n",
              "      <td>2822.5</td>\n",
              "      <td>3608.00</td>\n",
              "      <td>5140.0</td>\n",
              "    </tr>\n",
              "    <tr>\n",
              "      <th>Acceleration</th>\n",
              "      <td>314.0</td>\n",
              "      <td>15.559236</td>\n",
              "      <td>2.789230</td>\n",
              "      <td>8.0</td>\n",
              "      <td>13.80</td>\n",
              "      <td>15.5</td>\n",
              "      <td>17.20</td>\n",
              "      <td>24.8</td>\n",
              "    </tr>\n",
              "    <tr>\n",
              "      <th>Model Year</th>\n",
              "      <td>314.0</td>\n",
              "      <td>75.898089</td>\n",
              "      <td>3.675642</td>\n",
              "      <td>70.0</td>\n",
              "      <td>73.00</td>\n",
              "      <td>76.0</td>\n",
              "      <td>79.00</td>\n",
              "      <td>82.0</td>\n",
              "    </tr>\n",
              "    <tr>\n",
              "      <th>USA</th>\n",
              "      <td>314.0</td>\n",
              "      <td>0.624204</td>\n",
              "      <td>0.485101</td>\n",
              "      <td>0.0</td>\n",
              "      <td>0.00</td>\n",
              "      <td>1.0</td>\n",
              "      <td>1.00</td>\n",
              "      <td>1.0</td>\n",
              "    </tr>\n",
              "    <tr>\n",
              "      <th>Europe</th>\n",
              "      <td>314.0</td>\n",
              "      <td>0.178344</td>\n",
              "      <td>0.383413</td>\n",
              "      <td>0.0</td>\n",
              "      <td>0.00</td>\n",
              "      <td>0.0</td>\n",
              "      <td>0.00</td>\n",
              "      <td>1.0</td>\n",
              "    </tr>\n",
              "    <tr>\n",
              "      <th>Japan</th>\n",
              "      <td>314.0</td>\n",
              "      <td>0.197452</td>\n",
              "      <td>0.398712</td>\n",
              "      <td>0.0</td>\n",
              "      <td>0.00</td>\n",
              "      <td>0.0</td>\n",
              "      <td>0.00</td>\n",
              "      <td>1.0</td>\n",
              "    </tr>\n",
              "  </tbody>\n",
              "</table>\n",
              "</div>"
            ],
            "text/plain": [
              "              count         mean         std  ...     50%      75%     max\n",
              "MPG           314.0    23.310510    7.728652  ...    22.0    28.95    46.6\n",
              "Cylinders     314.0     5.477707    1.699788  ...     4.0     8.00     8.0\n",
              "Displacement  314.0   195.318471  104.331589  ...   151.0   265.75   455.0\n",
              "Horsepower    314.0   104.869427   38.096214  ...    94.5   128.00   225.0\n",
              "Weight        314.0  2990.251592  843.898596  ...  2822.5  3608.00  5140.0\n",
              "Acceleration  314.0    15.559236    2.789230  ...    15.5    17.20    24.8\n",
              "Model Year    314.0    75.898089    3.675642  ...    76.0    79.00    82.0\n",
              "USA           314.0     0.624204    0.485101  ...     1.0     1.00     1.0\n",
              "Europe        314.0     0.178344    0.383413  ...     0.0     0.00     1.0\n",
              "Japan         314.0     0.197452    0.398712  ...     0.0     0.00     1.0\n",
              "\n",
              "[10 rows x 8 columns]"
            ]
          },
          "metadata": {},
          "execution_count": 38
        }
      ]
    },
    {
      "cell_type": "markdown",
      "metadata": {
        "id": "kvpz8koyXOEj"
      },
      "source": [
        "* Mirando el resultado podemos observar lo diferente de los rangos de cada característica. **Procede normalizar**. \n",
        "* Aunque el modelo **podría converger sin normalización** de características, se ha demostrado que **no hacerlo dificulta el entrenamiento**, y puede hacer que el **modelo resultante dependa de la elección de las unidades** utilizadas en la entrada. \n",
        "* Importante **normalizar** de la misma manera el **conjunto de datos de prueba**, así como los **datos que posteriormente use el modelo durante la etapa de inferencia**. "
      ]
    },
    {
      "cell_type": "code",
      "metadata": {
        "id": "V6-D516VCSUe"
      },
      "source": [
        "def norm(x):\n",
        "  return (x - train_stats['mean']) / train_stats['std']\n",
        "\n",
        "normed_train_data = norm(train_data)\n",
        "normed_test_data = norm(test_data)"
      ],
      "execution_count": 23,
      "outputs": []
    },
    {
      "cell_type": "markdown",
      "metadata": {
        "id": "oCoDvt4LaBb7"
      },
      "source": [
        "La función `norm` reescala las características en un rango [0,1] (normalización) y centra las columnas de características con respecto a una media 0 con desviación estándar 1 (estandarización), de forma que las **columnas de características tengan los mismos parámetros que una distribución normal estándar** (media cero y varianza unidad).\n",
        "\n",
        "Vemos como los datos se han estandarizado adecuadamente:"
      ]
    },
    {
      "cell_type": "code",
      "metadata": {
        "id": "R5PUc7EgFtCn",
        "colab": {
          "base_uri": "https://localhost:8080/",
          "height": 331
        },
        "outputId": "fa984467-f403-484c-ef44-02cc2e33f365"
      },
      "source": [
        "normed_train_stats = normed_train_data.describe()\n",
        "normed_train_stats = normed_train_stats.transpose()\n",
        "normed_train_stats"
      ],
      "execution_count": 39,
      "outputs": [
        {
          "output_type": "execute_result",
          "data": {
            "text/html": [
              "<div>\n",
              "<style scoped>\n",
              "    .dataframe tbody tr th:only-of-type {\n",
              "        vertical-align: middle;\n",
              "    }\n",
              "\n",
              "    .dataframe tbody tr th {\n",
              "        vertical-align: top;\n",
              "    }\n",
              "\n",
              "    .dataframe thead th {\n",
              "        text-align: right;\n",
              "    }\n",
              "</style>\n",
              "<table border=\"1\" class=\"dataframe\">\n",
              "  <thead>\n",
              "    <tr style=\"text-align: right;\">\n",
              "      <th></th>\n",
              "      <th>count</th>\n",
              "      <th>mean</th>\n",
              "      <th>std</th>\n",
              "      <th>min</th>\n",
              "      <th>25%</th>\n",
              "      <th>50%</th>\n",
              "      <th>75%</th>\n",
              "      <th>max</th>\n",
              "    </tr>\n",
              "  </thead>\n",
              "  <tbody>\n",
              "    <tr>\n",
              "      <th>Cylinders</th>\n",
              "      <td>314.0</td>\n",
              "      <td>2.093159e-16</td>\n",
              "      <td>1.0</td>\n",
              "      <td>-1.457657</td>\n",
              "      <td>-0.869348</td>\n",
              "      <td>-0.869348</td>\n",
              "      <td>1.483887</td>\n",
              "      <td>1.483887</td>\n",
              "    </tr>\n",
              "    <tr>\n",
              "      <th>Displacement</th>\n",
              "      <td>314.0</td>\n",
              "      <td>1.018294e-16</td>\n",
              "      <td>1.0</td>\n",
              "      <td>-1.220325</td>\n",
              "      <td>-0.860894</td>\n",
              "      <td>-0.424785</td>\n",
              "      <td>0.675074</td>\n",
              "      <td>2.489002</td>\n",
              "    </tr>\n",
              "    <tr>\n",
              "      <th>Horsepower</th>\n",
              "      <td>314.0</td>\n",
              "      <td>-1.909301e-17</td>\n",
              "      <td>1.0</td>\n",
              "      <td>-1.545283</td>\n",
              "      <td>-0.751241</td>\n",
              "      <td>-0.272190</td>\n",
              "      <td>0.607162</td>\n",
              "      <td>3.153347</td>\n",
              "    </tr>\n",
              "    <tr>\n",
              "      <th>Weight</th>\n",
              "      <td>314.0</td>\n",
              "      <td>-9.723291e-17</td>\n",
              "      <td>1.0</td>\n",
              "      <td>-1.589352</td>\n",
              "      <td>-0.869478</td>\n",
              "      <td>-0.198782</td>\n",
              "      <td>0.732017</td>\n",
              "      <td>2.547401</td>\n",
              "    </tr>\n",
              "    <tr>\n",
              "      <th>Acceleration</th>\n",
              "      <td>314.0</td>\n",
              "      <td>2.688832e-15</td>\n",
              "      <td>1.0</td>\n",
              "      <td>-2.710152</td>\n",
              "      <td>-0.630725</td>\n",
              "      <td>-0.021237</td>\n",
              "      <td>0.588250</td>\n",
              "      <td>3.313017</td>\n",
              "    </tr>\n",
              "    <tr>\n",
              "      <th>Model Year</th>\n",
              "      <td>314.0</td>\n",
              "      <td>9.561531e-16</td>\n",
              "      <td>1.0</td>\n",
              "      <td>-1.604642</td>\n",
              "      <td>-0.788458</td>\n",
              "      <td>0.027726</td>\n",
              "      <td>0.843910</td>\n",
              "      <td>1.660094</td>\n",
              "    </tr>\n",
              "    <tr>\n",
              "      <th>USA</th>\n",
              "      <td>314.0</td>\n",
              "      <td>6.081476e-17</td>\n",
              "      <td>1.0</td>\n",
              "      <td>-1.286751</td>\n",
              "      <td>-1.286751</td>\n",
              "      <td>0.774676</td>\n",
              "      <td>0.774676</td>\n",
              "      <td>0.774676</td>\n",
              "    </tr>\n",
              "    <tr>\n",
              "      <th>Europe</th>\n",
              "      <td>314.0</td>\n",
              "      <td>8.485781e-18</td>\n",
              "      <td>1.0</td>\n",
              "      <td>-0.465148</td>\n",
              "      <td>-0.465148</td>\n",
              "      <td>-0.465148</td>\n",
              "      <td>-0.465148</td>\n",
              "      <td>2.143005</td>\n",
              "    </tr>\n",
              "    <tr>\n",
              "      <th>Japan</th>\n",
              "      <td>314.0</td>\n",
              "      <td>3.164489e-17</td>\n",
              "      <td>1.0</td>\n",
              "      <td>-0.495225</td>\n",
              "      <td>-0.495225</td>\n",
              "      <td>-0.495225</td>\n",
              "      <td>-0.495225</td>\n",
              "      <td>2.012852</td>\n",
              "    </tr>\n",
              "  </tbody>\n",
              "</table>\n",
              "</div>"
            ],
            "text/plain": [
              "              count          mean  std  ...       50%       75%       max\n",
              "Cylinders     314.0  2.093159e-16  1.0  ... -0.869348  1.483887  1.483887\n",
              "Displacement  314.0  1.018294e-16  1.0  ... -0.424785  0.675074  2.489002\n",
              "Horsepower    314.0 -1.909301e-17  1.0  ... -0.272190  0.607162  3.153347\n",
              "Weight        314.0 -9.723291e-17  1.0  ... -0.198782  0.732017  2.547401\n",
              "Acceleration  314.0  2.688832e-15  1.0  ... -0.021237  0.588250  3.313017\n",
              "Model Year    314.0  9.561531e-16  1.0  ...  0.027726  0.843910  1.660094\n",
              "USA           314.0  6.081476e-17  1.0  ...  0.774676  0.774676  0.774676\n",
              "Europe        314.0  8.485781e-18  1.0  ... -0.465148 -0.465148  2.143005\n",
              "Japan         314.0  3.164489e-17  1.0  ... -0.495225 -0.495225  2.012852\n",
              "\n",
              "[9 rows x 8 columns]"
            ]
          },
          "metadata": {},
          "execution_count": 39
        }
      ]
    },
    {
      "cell_type": "markdown",
      "metadata": {
        "id": "qmNpCfOqCwqv"
      },
      "source": [
        "## Desarrollar el modelo"
      ]
    },
    {
      "cell_type": "markdown",
      "metadata": {
        "id": "b3tV1bOca4hE"
      },
      "source": [
        "Ahora tenemos que desarrollar un modelo que cumpla \n",
        "con nuestras expectativas.Vamos a decidir por qué tipo de arquitectura nos decantamos, y el valor de los hiperparámetros."
      ]
    },
    {
      "cell_type": "code",
      "metadata": {
        "id": "aydxA-K9inqG",
        "colab": {
          "base_uri": "https://localhost:8080/"
        },
        "outputId": "ce1d5e5e-a1f5-400d-c546-afa37fa53e69"
      },
      "source": [
        "from tensorflow.keras import Sequential\n",
        "from tensorflow.keras.layers import Dense\n",
        "\n",
        "def build_model():  \n",
        "  model = Sequential()\n",
        "  model.add(Dense(64, activation='relu', input_shape=[len(train_data.keys())]))\n",
        "  model.add(Dense(64, activation='relu'))\n",
        "  model.add(Dense(1))\n",
        "  return model\n",
        "\n",
        "model = build_model()\n",
        "model.summary()"
      ],
      "execution_count": 25,
      "outputs": [
        {
          "output_type": "stream",
          "name": "stdout",
          "text": [
            "Model: \"sequential\"\n",
            "_________________________________________________________________\n",
            " Layer (type)                Output Shape              Param #   \n",
            "=================================================================\n",
            " dense (Dense)               (None, 64)                640       \n",
            "                                                                 \n",
            " dense_1 (Dense)             (None, 64)                4160      \n",
            "                                                                 \n",
            " dense_2 (Dense)             (None, 1)                 65        \n",
            "                                                                 \n",
            "=================================================================\n",
            "Total params: 4,865\n",
            "Trainable params: 4,865\n",
            "Non-trainable params: 0\n",
            "_________________________________________________________________\n"
          ]
        }
      ]
    },
    {
      "cell_type": "code",
      "metadata": {
        "id": "FpTRcHXDCSew"
      },
      "source": [
        "optimizer = tf.keras.optimizers.RMSprop(0.001)"
      ],
      "execution_count": 26,
      "outputs": []
    },
    {
      "cell_type": "code",
      "metadata": {
        "id": "EWp8Vcl0CShg"
      },
      "source": [
        "model.compile(loss='mse',\n",
        "                optimizer=optimizer,\n",
        "                metrics=['mae', 'mse'])"
      ],
      "execution_count": 27,
      "outputs": []
    },
    {
      "cell_type": "markdown",
      "metadata": {
        "id": "vdfftlXWEG-e"
      },
      "source": [
        "## Entrenamiento del modelo"
      ]
    },
    {
      "cell_type": "code",
      "metadata": {
        "id": "fOaq8eGtCSkd"
      },
      "source": [
        "EPOCHS = 1000\n",
        "\n",
        "history = model.fit(\n",
        "  normed_train_data, train_labels,\n",
        "  epochs=EPOCHS, validation_split = 0.2, verbose=0)"
      ],
      "execution_count": 28,
      "outputs": []
    },
    {
      "cell_type": "markdown",
      "metadata": {
        "id": "5obUY1dBEnFY"
      },
      "source": [
        "## Evaluación el modelo"
      ]
    },
    {
      "cell_type": "code",
      "metadata": {
        "id": "w3FgAK4CCSnX",
        "colab": {
          "base_uri": "https://localhost:8080/",
          "height": 206
        },
        "outputId": "5ad983a3-6f44-4211-d350-72aaa3cfec14"
      },
      "source": [
        "hist = pd.DataFrame(history.history)\n",
        "hist['epoch'] = history.epoch\n",
        "hist.tail()"
      ],
      "execution_count": 29,
      "outputs": [
        {
          "output_type": "execute_result",
          "data": {
            "text/html": [
              "<div>\n",
              "<style scoped>\n",
              "    .dataframe tbody tr th:only-of-type {\n",
              "        vertical-align: middle;\n",
              "    }\n",
              "\n",
              "    .dataframe tbody tr th {\n",
              "        vertical-align: top;\n",
              "    }\n",
              "\n",
              "    .dataframe thead th {\n",
              "        text-align: right;\n",
              "    }\n",
              "</style>\n",
              "<table border=\"1\" class=\"dataframe\">\n",
              "  <thead>\n",
              "    <tr style=\"text-align: right;\">\n",
              "      <th></th>\n",
              "      <th>loss</th>\n",
              "      <th>mae</th>\n",
              "      <th>mse</th>\n",
              "      <th>val_loss</th>\n",
              "      <th>val_mae</th>\n",
              "      <th>val_mse</th>\n",
              "      <th>epoch</th>\n",
              "    </tr>\n",
              "  </thead>\n",
              "  <tbody>\n",
              "    <tr>\n",
              "      <th>995</th>\n",
              "      <td>2.410542</td>\n",
              "      <td>0.919082</td>\n",
              "      <td>2.410542</td>\n",
              "      <td>9.159993</td>\n",
              "      <td>2.388901</td>\n",
              "      <td>9.159993</td>\n",
              "      <td>995</td>\n",
              "    </tr>\n",
              "    <tr>\n",
              "      <th>996</th>\n",
              "      <td>2.322382</td>\n",
              "      <td>0.909231</td>\n",
              "      <td>2.322382</td>\n",
              "      <td>9.689959</td>\n",
              "      <td>2.478858</td>\n",
              "      <td>9.689959</td>\n",
              "      <td>996</td>\n",
              "    </tr>\n",
              "    <tr>\n",
              "      <th>997</th>\n",
              "      <td>2.295067</td>\n",
              "      <td>0.872485</td>\n",
              "      <td>2.295067</td>\n",
              "      <td>8.660074</td>\n",
              "      <td>2.273801</td>\n",
              "      <td>8.660074</td>\n",
              "      <td>997</td>\n",
              "    </tr>\n",
              "    <tr>\n",
              "      <th>998</th>\n",
              "      <td>2.179206</td>\n",
              "      <td>0.907440</td>\n",
              "      <td>2.179206</td>\n",
              "      <td>8.735657</td>\n",
              "      <td>2.301576</td>\n",
              "      <td>8.735657</td>\n",
              "      <td>998</td>\n",
              "    </tr>\n",
              "    <tr>\n",
              "      <th>999</th>\n",
              "      <td>2.129220</td>\n",
              "      <td>0.864527</td>\n",
              "      <td>2.129220</td>\n",
              "      <td>9.161232</td>\n",
              "      <td>2.351543</td>\n",
              "      <td>9.161232</td>\n",
              "      <td>999</td>\n",
              "    </tr>\n",
              "  </tbody>\n",
              "</table>\n",
              "</div>"
            ],
            "text/plain": [
              "         loss       mae       mse  val_loss   val_mae   val_mse  epoch\n",
              "995  2.410542  0.919082  2.410542  9.159993  2.388901  9.159993    995\n",
              "996  2.322382  0.909231  2.322382  9.689959  2.478858  9.689959    996\n",
              "997  2.295067  0.872485  2.295067  8.660074  2.273801  8.660074    997\n",
              "998  2.179206  0.907440  2.179206  8.735657  2.301576  8.735657    998\n",
              "999  2.129220  0.864527  2.129220  9.161232  2.351543  9.161232    999"
            ]
          },
          "metadata": {},
          "execution_count": 29
        }
      ]
    },
    {
      "cell_type": "code",
      "metadata": {
        "id": "PHxBjzT8Ep82"
      },
      "source": [
        "def plot_history(history):     \n",
        "  hist = pd.DataFrame(history.history)\n",
        "  hist['epoch'] = history.epoch\n",
        "\n",
        "  plt.figure()\n",
        "  plt.xlabel('Epoch')\n",
        "  plt.ylabel('Mean Square Error')\n",
        "  plt.plot(hist['epoch'], hist['mse'],'r--',\n",
        "           label='Training Error')\n",
        "  plt.plot(hist['epoch'], hist['val_mse'],'b',\n",
        "           label = 'Validation Error')\n",
        "  plt.ylim([0,20])\n",
        "  plt.legend()\n",
        "  plt.show()"
      ],
      "execution_count": 30,
      "outputs": []
    },
    {
      "cell_type": "code",
      "metadata": {
        "id": "XnwnYCxcEqCw",
        "colab": {
          "base_uri": "https://localhost:8080/",
          "height": 283
        },
        "outputId": "2e457565-d689-421a-c124-4ff21463a297"
      },
      "source": [
        "plot_history(history)"
      ],
      "execution_count": 31,
      "outputs": [
        {
          "output_type": "display_data",
          "data": {
            "image/png": "[encoded data removed]",
            "text/plain": [
              "<Figure size 432x288 with 1 Axes>"
            ]
          },
          "metadata": {
            "needs_background": "light"
          }
        }
      ]
    },
    {
      "cell_type": "code",
      "metadata": {
        "id": "cS6oqzXxT3AJ",
        "colab": {
          "base_uri": "https://localhost:8080/",
          "height": 283
        },
        "outputId": "d1ef7c4f-9556-4931-ed85-45d19d023f3f"
      },
      "source": [
        "model = build_model()\n",
        "model.compile(loss='mse',\n",
        "                optimizer=optimizer,\n",
        "                metrics=['mae', 'mse'])\n",
        "\n",
        "early_stop = tf.keras.callbacks.EarlyStopping(\n",
        "      monitor='val_loss', patience=10)\n",
        "\n",
        "history = model.fit(normed_train_data, train_labels, epochs=EPOCHS,\n",
        "                    validation_split = 0.2, verbose=0,\n",
        "                    callbacks=[early_stop] )\n",
        "\n",
        "plot_history(history)\n"
      ],
      "execution_count": 32,
      "outputs": [
        {
          "output_type": "display_data",
          "data": {
            "image/png": "[encoded data removed]",
            "text/plain": [
              "<Figure size 432x288 with 1 Axes>"
            ]
          },
          "metadata": {
            "needs_background": "light"
          }
        }
      ]
    },
    {
      "cell_type": "code",
      "metadata": {
        "id": "XylL5FAZaFqE",
        "colab": {
          "base_uri": "https://localhost:8080/"
        },
        "outputId": "cafc8fb9-e7a9-4b0e-f082-9b7f1d0dcea0"
      },
      "source": [
        "loss, mse, mae = model.evaluate(normed_test_data, test_labels)\n",
        "print(\"Testing set Mean Abs Error: {:5.2f} MPG\".format(mae))\n",
        "print(\"Testing set Mean Sqr Error: {:5.2f} MPG\".format(mse))"
      ],
      "execution_count": 33,
      "outputs": [
        {
          "output_type": "stream",
          "name": "stdout",
          "text": [
            "3/3 [==============================] - 0s 6ms/step - loss: 6.8176 - mae: 2.0713 - mse: 6.8176\n",
            "Testing set Mean Abs Error:  6.82 MPG\n",
            "Testing set Mean Sqr Error:  2.07 MPG\n"
          ]
        }
      ]
    },
    {
      "cell_type": "markdown",
      "metadata": {
        "id": "skSie-dmWH7X"
      },
      "source": [
        "Evaluación del entrenamiento con MAE"
      ]
    },
    {
      "cell_type": "code",
      "metadata": {
        "id": "CE_4ZyUyF9t0"
      },
      "source": [
        "model = build_model()\n",
        "model.compile(loss='mae',\n",
        "                optimizer=optimizer,\n",
        "                metrics=['mae', 'mse'])\n",
        "\n",
        "early_stop = tf.keras.callbacks.EarlyStopping(monitor='val_loss', patience=10)\n",
        "\n",
        "history = model.fit(normed_train_data, train_labels, epochs=EPOCHS,\n",
        "                    validation_split = 0.2, verbose=0,\n",
        "                    callbacks=[early_stop] )\n",
        "\n",
        "\n"
      ],
      "execution_count": 34,
      "outputs": []
    },
    {
      "cell_type": "code",
      "metadata": {
        "id": "fyNghoi97tyg",
        "colab": {
          "base_uri": "https://localhost:8080/",
          "height": 283
        },
        "outputId": "907a9107-ecf2-4f47-91d8-94e08a84acb1"
      },
      "source": [
        "plot_history(history)"
      ],
      "execution_count": 35,
      "outputs": [
        {
          "output_type": "display_data",
          "data": {
            "image/png": "[encoded data removed]",
            "text/plain": [
              "<Figure size 432x288 with 1 Axes>"
            ]
          },
          "metadata": {
            "needs_background": "light"
          }
        }
      ]
    },
    {
      "cell_type": "code",
      "metadata": {
        "id": "O-r0WJONIMf7",
        "colab": {
          "base_uri": "https://localhost:8080/"
        },
        "outputId": "4aaade8b-da5f-4650-cf78-3f5be01a797e"
      },
      "source": [
        "loss, mse, mae = model.evaluate(normed_test_data, test_labels)\n",
        "print(\"Testing set Mean Abs Error: {:5.2f} MPG\".format(mae))\n",
        "print(\"Testing set Mean Sqr Error: {:5.2f} MPG\".format(mse))"
      ],
      "execution_count": 36,
      "outputs": [
        {
          "output_type": "stream",
          "name": "stdout",
          "text": [
            "3/3 [==============================] - 0s 6ms/step - loss: 1.6897 - mae: 1.6897 - mse: 5.7170\n",
            "Testing set Mean Abs Error:  5.72 MPG\n",
            "Testing set Mean Sqr Error:  1.69 MPG\n"
          ]
        }
      ]
    }
  ]
}