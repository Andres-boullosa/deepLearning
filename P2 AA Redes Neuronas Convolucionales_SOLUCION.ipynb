{
  "nbformat": 4,
  "nbformat_minor": 0,
  "metadata": {
    "colab": {
      "name": "08_redes_neuronales_convolucionales (2).ipynb",
      "provenance": []
    },
    "kernelspec": {
      "name": "python3",
      "display_name": "Python 3"
    },
    "accelerator": "GPU"
  },
  "cells": [
    {
      "cell_type": "markdown",
      "metadata": {
        "id": "FKNAOn5Ia7pG"
      },
      "source": [
        "\n",
        "# Solución Práctica 2 Redes Neuronales Convolucionales"
      ]
    },
    {
      "cell_type": "code",
      "metadata": {
        "id": "VcFrOCQOYU1R",
        "colab": {
          "base_uri": "https://localhost:8080/"
        },
        "outputId": "70840ce1-85bb-4bc3-d038-e57078375376"
      },
      "source": [
        "%tensorflow_version 2.x\n",
        "import tensorflow as tf\n",
        "from tensorflow import keras\n",
        "\n",
        "import numpy as np\n",
        "import matplotlib.pyplot as plt\n",
        "\n",
        "print(tf.__version__)\n"
      ],
      "execution_count": 1,
      "outputs": [
        {
          "output_type": "stream",
          "name": "stdout",
          "text": [
            "2.7.0\n"
          ]
        }
      ]
    },
    {
      "cell_type": "markdown",
      "metadata": {
        "id": "Nx0Q9RkQ1hFX"
      },
      "source": [
        "## Datos digits MNIST"
      ]
    },
    {
      "cell_type": "code",
      "metadata": {
        "id": "zBbiPKCrysFr"
      },
      "source": [
        "casos = 3\n",
        "#####\n",
        "neuronas_capa_1_convolucional = [32, 64, 64]\n",
        "ventana_capa_1_convolucional = [5, 7, 7]\n",
        "funcion_activacion_capa_1 = ['relu','relu','relu']\n",
        "padding_capa_1 =['', 'same', 'same']\n",
        "ventana_capa_1_poooling = [2, 2, 2]\n",
        "#####\n",
        "neuronas_capa_2_convolucional = [64, 128, 128]\n",
        "ventana_capa_2_convolucional = [5, 3, 3]\n",
        "funcion_activacion_capa_2 = ['relu','relu','relu']\n",
        "padding_capa_2 =['', 'same', 'same']\n",
        "ventana_capa_2_poooling = [2, 2, 2]\n",
        "#####\n",
        "neurona_penultima_capa_densa = [0, 65, 65]\n",
        "funcion_activacion_penultima_capa_densa = ['', 'relu', 'relu']\n",
        "#####\n",
        "funcion_activacion_ultima_capa_densa = ['softmax', 'softmax' , \n",
        "                                        'softmax']\n",
        "optimizador = ['sgd', 'sgd', 'adam']\n",
        "funcion_perdida = ['categorical_crossentropy', \n",
        "                   'categorical_crossentropy', \n",
        "                   'categorical_crossentropy']\n",
        "metrica = ['accuracy', 'accuracy', 'accuracy']\n",
        "numero_iteraciones = [5,5,5]\n",
        "models = []"
      ],
      "execution_count": 2,
      "outputs": []
    },
    {
      "cell_type": "code",
      "metadata": {
        "id": "EjwjDIuXeS_s"
      },
      "source": [
        "from tensorflow.keras import Sequential\n",
        "from tensorflow.keras.layers import Conv2D\n",
        "from tensorflow.keras.layers import MaxPooling2D\n",
        "from tensorflow.keras.layers import Dense\n",
        "from tensorflow.keras.layers import Flatten\n",
        "\n",
        "for caso in range(casos):\n",
        "  model = Sequential()\n",
        "  model.add(Conv2D(neuronas_capa_1_convolucional[caso], \n",
        "                   (ventana_capa_1_convolucional[caso], \n",
        "                   ventana_capa_1_convolucional[caso]), \n",
        "                   activation = funcion_activacion_capa_1[caso], \n",
        "                   input_shape=(28, 28, 1)))\n",
        "  model.add(MaxPooling2D((ventana_capa_1_poooling[caso], \n",
        "                          ventana_capa_1_poooling[caso])))\n",
        "  model.add(Conv2D(neuronas_capa_2_convolucional[caso], \n",
        "                   (ventana_capa_2_convolucional[caso], \n",
        "                    ventana_capa_2_convolucional[caso]), \n",
        "                   activation=funcion_activacion_capa_2[caso]))\n",
        "  model.add(MaxPooling2D((ventana_capa_2_poooling[caso], \n",
        "                          ventana_capa_2_poooling[caso])))\n",
        "  model.add(Flatten())\n",
        "  model.add(Dense(10, \n",
        "                  activation=funcion_activacion_ultima_capa_densa[caso]))\n",
        "  models.append(model)"
      ],
      "execution_count": 3,
      "outputs": []
    },
    {
      "cell_type": "code",
      "metadata": {
        "id": "gfKJvRsn8yoF",
        "outputId": "5393d57a-c56c-4346-c2ba-be39db3c0329",
        "colab": {
          "base_uri": "https://localhost:8080/"
        }
      },
      "source": [
        "for caso in range(casos):\n",
        "  print(\"CASO \",caso + 1)\n",
        "  print(\"---------------------------------\")\n",
        "  models[caso].summary()\n",
        "  print(\"\\n\\n\")"
      ],
      "execution_count": 4,
      "outputs": [
        {
          "output_type": "stream",
          "name": "stdout",
          "text": [
            "CASO  1\n",
            "---------------------------------\n",
            "Model: \"sequential\"\n",
            "_________________________________________________________________\n",
            " Layer (type)                Output Shape              Param #   \n",
            "=================================================================\n",
            " conv2d (Conv2D)             (None, 24, 24, 32)        832       \n",
            "                                                                 \n",
            " max_pooling2d (MaxPooling2D  (None, 12, 12, 32)       0         \n",
            " )                                                               \n",
            "                                                                 \n",
            " conv2d_1 (Conv2D)           (None, 8, 8, 64)          51264     \n",
            "                                                                 \n",
            " max_pooling2d_1 (MaxPooling  (None, 4, 4, 64)         0         \n",
            " 2D)                                                             \n",
            "                                                                 \n",
            " flatten (Flatten)           (None, 1024)              0         \n",
            "                                                                 \n",
            " dense (Dense)               (None, 10)                10250     \n",
            "                                                                 \n",
            "=================================================================\n",
            "Total params: 62,346\n",
            "Trainable params: 62,346\n",
            "Non-trainable params: 0\n",
            "_________________________________________________________________\n",
            "\n",
            "\n",
            "\n",
            "CASO  2\n",
            "---------------------------------\n",
            "Model: \"sequential_1\"\n",
            "_________________________________________________________________\n",
            " Layer (type)                Output Shape              Param #   \n",
            "=================================================================\n",
            " conv2d_2 (Conv2D)           (None, 22, 22, 64)        3200      \n",
            "                                                                 \n",
            " max_pooling2d_2 (MaxPooling  (None, 11, 11, 64)       0         \n",
            " 2D)                                                             \n",
            "                                                                 \n",
            " conv2d_3 (Conv2D)           (None, 9, 9, 128)         73856     \n",
            "                                                                 \n",
            " max_pooling2d_3 (MaxPooling  (None, 4, 4, 128)        0         \n",
            " 2D)                                                             \n",
            "                                                                 \n",
            " flatten_1 (Flatten)         (None, 2048)              0         \n",
            "                                                                 \n",
            " dense_1 (Dense)             (None, 10)                20490     \n",
            "                                                                 \n",
            "=================================================================\n",
            "Total params: 97,546\n",
            "Trainable params: 97,546\n",
            "Non-trainable params: 0\n",
            "_________________________________________________________________\n",
            "\n",
            "\n",
            "\n",
            "CASO  3\n",
            "---------------------------------\n",
            "Model: \"sequential_2\"\n",
            "_________________________________________________________________\n",
            " Layer (type)                Output Shape              Param #   \n",
            "=================================================================\n",
            " conv2d_4 (Conv2D)           (None, 22, 22, 64)        3200      \n",
            "                                                                 \n",
            " max_pooling2d_4 (MaxPooling  (None, 11, 11, 64)       0         \n",
            " 2D)                                                             \n",
            "                                                                 \n",
            " conv2d_5 (Conv2D)           (None, 9, 9, 128)         73856     \n",
            "                                                                 \n",
            " max_pooling2d_5 (MaxPooling  (None, 4, 4, 128)        0         \n",
            " 2D)                                                             \n",
            "                                                                 \n",
            " flatten_2 (Flatten)         (None, 2048)              0         \n",
            "                                                                 \n",
            " dense_2 (Dense)             (None, 10)                20490     \n",
            "                                                                 \n",
            "=================================================================\n",
            "Total params: 97,546\n",
            "Trainable params: 97,546\n",
            "Non-trainable params: 0\n",
            "_________________________________________________________________\n",
            "\n",
            "\n",
            "\n"
          ]
        }
      ]
    },
    {
      "cell_type": "code",
      "metadata": {
        "id": "putRyHXReTb5",
        "colab": {
          "base_uri": "https://localhost:8080/"
        },
        "outputId": "d1dff1d6-29b1-47b2-ae50-4f02b38399bd"
      },
      "source": [
        "from keras.utils.np_utils import to_categorical\n",
        "\n",
        "mnist = tf.keras.datasets.mnist\n",
        "(train_images, train_labels), (test_images, test_labels) = mnist.load_data()\n",
        "\n",
        "print (train_images.shape)\n",
        "print (train_labels.shape)\n",
        "train_images = train_images.reshape((60000, 28, 28, 1))\n",
        "train_images = train_images.astype('float32') / 255\n",
        "\n",
        "test_images = test_images.reshape((10000, 28, 28, 1))\n",
        "test_images = test_images.astype('float32') / 255\n",
        "\n",
        "train_labels = to_categorical(train_labels)\n",
        "test_labels = to_categorical(test_labels)\n",
        "\n",
        "print (train_images.shape)\n",
        "print (train_labels.shape)\n"
      ],
      "execution_count": 5,
      "outputs": [
        {
          "output_type": "stream",
          "name": "stdout",
          "text": [
            "(60000, 28, 28)\n",
            "(60000,)\n",
            "(60000, 28, 28, 1)\n",
            "(60000, 10)\n"
          ]
        }
      ]
    },
    {
      "cell_type": "code",
      "metadata": {
        "id": "8jt2EkwxuQf4"
      },
      "source": [
        "for caso in range(casos):\n",
        "  models[caso].compile(loss = funcion_perdida[caso],\n",
        "              optimizer = optimizador[caso],\n",
        "              metrics=[metrica[caso]])"
      ],
      "execution_count": 6,
      "outputs": []
    },
    {
      "cell_type": "code",
      "metadata": {
        "id": "2mjZEpgSFuRX",
        "outputId": "0e843746-796c-4f4a-91e2-e6b327254cf8",
        "colab": {
          "base_uri": "https://localhost:8080/"
        }
      },
      "source": [
        "for caso in range(casos):\n",
        "  print(\"CASO \",caso + 1)\n",
        "  print(\"---------------------------------\")\n",
        "  models[caso].fit(train_images, train_labels,\n",
        "          batch_size=100,\n",
        "          epochs=numero_iteraciones[caso],\n",
        "          verbose=1)\n",
        "  print(\"\\n\")"
      ],
      "execution_count": 7,
      "outputs": [
        {
          "output_type": "stream",
          "name": "stdout",
          "text": [
            "CASO  1\n",
            "---------------------------------\n",
            "Epoch 1/5\n",
            "600/600 [==============================] - 7s 8ms/step - loss: 0.8994 - accuracy: 0.7714\n",
            "Epoch 2/5\n",
            "600/600 [==============================] - 5s 8ms/step - loss: 0.2446 - accuracy: 0.9283\n",
            "Epoch 3/5\n",
            "600/600 [==============================] - 5s 8ms/step - loss: 0.1785 - accuracy: 0.9483\n",
            "Epoch 4/5\n",
            "600/600 [==============================] - 5s 8ms/step - loss: 0.1448 - accuracy: 0.9576\n",
            "Epoch 5/5\n",
            "600/600 [==============================] - 5s 8ms/step - loss: 0.1236 - accuracy: 0.9639\n",
            "\n",
            "\n",
            "CASO  2\n",
            "---------------------------------\n",
            "Epoch 1/5\n",
            "600/600 [==============================] - 7s 11ms/step - loss: 1.0110 - accuracy: 0.7478\n",
            "Epoch 2/5\n",
            "600/600 [==============================] - 7s 11ms/step - loss: 0.2928 - accuracy: 0.9148\n",
            "Epoch 3/5\n",
            "600/600 [==============================] - 7s 11ms/step - loss: 0.2065 - accuracy: 0.9403\n",
            "Epoch 4/5\n",
            "600/600 [==============================] - 7s 11ms/step - loss: 0.1630 - accuracy: 0.9527\n",
            "Epoch 5/5\n",
            "600/600 [==============================] - 7s 11ms/step - loss: 0.1381 - accuracy: 0.9597\n",
            "\n",
            "\n",
            "CASO  3\n",
            "---------------------------------\n",
            "Epoch 1/5\n",
            "600/600 [==============================] - 8s 13ms/step - loss: 0.1925 - accuracy: 0.9438\n",
            "Epoch 2/5\n",
            "600/600 [==============================] - 7s 12ms/step - loss: 0.0580 - accuracy: 0.9822\n",
            "Epoch 3/5\n",
            "600/600 [==============================] - 7s 12ms/step - loss: 0.0411 - accuracy: 0.9872\n",
            "Epoch 4/5\n",
            "600/600 [==============================] - 7s 12ms/step - loss: 0.0325 - accuracy: 0.9900\n",
            "Epoch 5/5\n",
            "600/600 [==============================] - 7s 12ms/step - loss: 0.0256 - accuracy: 0.9920\n",
            "\n",
            "\n"
          ]
        }
      ]
    },
    {
      "cell_type": "code",
      "metadata": {
        "id": "5CzKLmeWGBqI",
        "outputId": "374bd803-db06-486f-b1eb-1259a1eb2051",
        "colab": {
          "base_uri": "https://localhost:8080/"
        }
      },
      "source": [
        "test_loss = []\n",
        "test_acc = []\n",
        "for caso in range(casos):\n",
        "  test_loss.append(models[caso].evaluate(test_images,  test_labels)[0])\n",
        "  test_acc.append(models[caso].evaluate(test_images,  test_labels)[1])"
      ],
      "execution_count": 8,
      "outputs": [
        {
          "output_type": "stream",
          "name": "stdout",
          "text": [
            "313/313 [==============================] - 2s 5ms/step - loss: 0.0988 - accuracy: 0.9703\n",
            "313/313 [==============================] - 1s 4ms/step - loss: 0.0988 - accuracy: 0.9703\n",
            "313/313 [==============================] - 2s 5ms/step - loss: 0.1192 - accuracy: 0.9674\n",
            "313/313 [==============================] - 2s 5ms/step - loss: 0.1192 - accuracy: 0.9674\n",
            "313/313 [==============================] - 2s 5ms/step - loss: 0.0252 - accuracy: 0.9917\n",
            "313/313 [==============================] - 2s 5ms/step - loss: 0.0252 - accuracy: 0.9917\n"
          ]
        }
      ]
    },
    {
      "cell_type": "code",
      "metadata": {
        "id": "_vISZLz5GRp5",
        "outputId": "aecfb31d-6a78-458c-ad98-c65263afd66a",
        "colab": {
          "base_uri": "https://localhost:8080/"
        }
      },
      "source": [
        "for caso in range(casos):\n",
        "  print(\"CASO \",caso + 1)\n",
        "  print(\"---------------------------------\")\n",
        "  print(\"PERDIDA CON LOS DATOS DE TEST: \",test_loss[caso])\n",
        "  print(\"PRECISIÓN CON LOS DATOS DE TEST: \",test_acc[caso])\n",
        "  print(\"\\n\")"
      ],
      "execution_count": 9,
      "outputs": [
        {
          "output_type": "stream",
          "name": "stdout",
          "text": [
            "CASO  1\n",
            "---------------------------------\n",
            "PERDIDA CON LOS DATOS DE TEST:  0.09884219616651535\n",
            "PRECISIÓN CON LOS DATOS DE TEST:  0.970300018787384\n",
            "\n",
            "\n",
            "CASO  2\n",
            "---------------------------------\n",
            "PERDIDA CON LOS DATOS DE TEST:  0.11920831352472305\n",
            "PRECISIÓN CON LOS DATOS DE TEST:  0.9674000144004822\n",
            "\n",
            "\n",
            "CASO  3\n",
            "---------------------------------\n",
            "PERDIDA CON LOS DATOS DE TEST:  0.025157010182738304\n",
            "PRECISIÓN CON LOS DATOS DE TEST:  0.9916999936103821\n",
            "\n",
            "\n"
          ]
        }
      ]
    },
    {
      "cell_type": "markdown",
      "metadata": {
        "id": "p_6zyoOJ1lHu"
      },
      "source": [
        "## Datos Fashion-MNIST"
      ]
    },
    {
      "cell_type": "code",
      "metadata": {
        "id": "ybltm0ul14JF",
        "colab": {
          "base_uri": "https://localhost:8080/"
        },
        "outputId": "68e93906-0937-4216-d63f-c6c9a87a76fd"
      },
      "source": [
        "fashion_mnist = keras.datasets.fashion_mnist\n",
        "\n",
        "(train_images, train_labels), (test_images, test_labels) = fashion_mnist.load_data()"
      ],
      "execution_count": 10,
      "outputs": [
        {
          "output_type": "stream",
          "name": "stdout",
          "text": [
            "Downloading data from https://storage.googleapis.com/tensorflow/tf-keras-datasets/train-labels-idx1-ubyte.gz\n",
            "32768/29515 [=================================] - 0s 0us/step\n",
            "40960/29515 [=========================================] - 0s 0us/step\n",
            "Downloading data from https://storage.googleapis.com/tensorflow/tf-keras-datasets/train-images-idx3-ubyte.gz\n",
            "26427392/26421880 [==============================] - 0s 0us/step\n",
            "26435584/26421880 [==============================] - 0s 0us/step\n",
            "Downloading data from https://storage.googleapis.com/tensorflow/tf-keras-datasets/t10k-labels-idx1-ubyte.gz\n",
            "16384/5148 [===============================================================================================] - 0s 0us/step\n",
            "Downloading data from https://storage.googleapis.com/tensorflow/tf-keras-datasets/t10k-images-idx3-ubyte.gz\n",
            "4423680/4422102 [==============================] - 0s 0us/step\n",
            "4431872/4422102 [==============================] - 0s 0us/step\n"
          ]
        }
      ]
    },
    {
      "cell_type": "code",
      "metadata": {
        "id": "n6FGwIXd14WJ"
      },
      "source": [
        "class_names = ['T-shirt/top', 'Trouser', 'Pullover', 'Dress', 'Coat', 'Sandal', 'Shirt', 'Sneaker', 'Bag', 'Ankle boot']"
      ],
      "execution_count": 11,
      "outputs": []
    },
    {
      "cell_type": "code",
      "metadata": {
        "id": "v6I04A_S14ZE"
      },
      "source": [
        "train_images = train_images.reshape((60000, 28, 28, 1))\n",
        "train_images = train_images.astype('float32') / 255\n",
        "\n",
        "test_images = test_images.reshape((10000, 28, 28, 1))\n",
        "test_images = test_images.astype('float32') / 255"
      ],
      "execution_count": 12,
      "outputs": []
    },
    {
      "cell_type": "markdown",
      "metadata": {
        "id": "Q6ztRsZotjOJ"
      },
      "source": [
        "Modelo 1: modelo de base basado en el mismo modelo que el usado para el conjunto datos digits MNIST "
      ]
    },
    {
      "cell_type": "code",
      "metadata": {
        "id": "F0Nj5zs-2sQ1"
      },
      "source": [
        "\n",
        "model = Sequential()\n",
        "model.add(Conv2D(32, (5, 5), activation='relu', input_shape=(28, 28, 1)))\n",
        "model.add(MaxPooling2D((2, 2)))\n",
        "model.add(Conv2D(64, (5, 5), activation='relu'))\n",
        "model.add(MaxPooling2D((2, 2)))\n",
        "model.add(Flatten())\n",
        "model.add(Dense(10, activation='softmax'))"
      ],
      "execution_count": 13,
      "outputs": []
    },
    {
      "cell_type": "code",
      "metadata": {
        "id": "sRiC2Hnq2sTr",
        "colab": {
          "base_uri": "https://localhost:8080/"
        },
        "outputId": "e28673c9-6394-40f8-abf2-ba5ee071cee6"
      },
      "source": [
        "model.summary()"
      ],
      "execution_count": 14,
      "outputs": [
        {
          "output_type": "stream",
          "name": "stdout",
          "text": [
            "Model: \"sequential_3\"\n",
            "_________________________________________________________________\n",
            " Layer (type)                Output Shape              Param #   \n",
            "=================================================================\n",
            " conv2d_6 (Conv2D)           (None, 24, 24, 32)        832       \n",
            "                                                                 \n",
            " max_pooling2d_6 (MaxPooling  (None, 12, 12, 32)       0         \n",
            " 2D)                                                             \n",
            "                                                                 \n",
            " conv2d_7 (Conv2D)           (None, 8, 8, 64)          51264     \n",
            "                                                                 \n",
            " max_pooling2d_7 (MaxPooling  (None, 4, 4, 64)         0         \n",
            " 2D)                                                             \n",
            "                                                                 \n",
            " flatten_3 (Flatten)         (None, 1024)              0         \n",
            "                                                                 \n",
            " dense_3 (Dense)             (None, 10)                10250     \n",
            "                                                                 \n",
            "=================================================================\n",
            "Total params: 62,346\n",
            "Trainable params: 62,346\n",
            "Non-trainable params: 0\n",
            "_________________________________________________________________\n"
          ]
        }
      ]
    },
    {
      "cell_type": "code",
      "metadata": {
        "id": "tBDazX0d2sYp",
        "colab": {
          "base_uri": "https://localhost:8080/"
        },
        "outputId": "35682523-e970-44e2-cc9b-97c82100efe9"
      },
      "source": [
        "model.compile(optimizer='sgd',\n",
        "              loss='sparse_categorical_crossentropy',\n",
        "              metrics=['accuracy'])\n",
        "\n",
        "model.fit(train_images, train_labels, epochs=5)\n",
        "test_loss, test_acc = model.evaluate(test_images,  test_labels)\n",
        "print('Test accuracy:', test_acc)"
      ],
      "execution_count": 15,
      "outputs": [
        {
          "output_type": "stream",
          "name": "stdout",
          "text": [
            "Epoch 1/5\n",
            "1875/1875 [==============================] - 10s 5ms/step - loss: 0.8486 - accuracy: 0.6995\n",
            "Epoch 2/5\n",
            "1875/1875 [==============================] - 10s 5ms/step - loss: 0.5161 - accuracy: 0.8141\n",
            "Epoch 3/5\n",
            "1875/1875 [==============================] - 10s 5ms/step - loss: 0.4498 - accuracy: 0.8411\n",
            "Epoch 4/5\n",
            "1875/1875 [==============================] - 10s 5ms/step - loss: 0.4147 - accuracy: 0.8532\n",
            "Epoch 5/5\n",
            "1875/1875 [==============================] - 10s 5ms/step - loss: 0.3897 - accuracy: 0.8609\n",
            "313/313 [==============================] - 1s 4ms/step - loss: 0.3954 - accuracy: 0.8561\n",
            "Test accuracy: 0.8561000227928162\n"
          ]
        }
      ]
    },
    {
      "cell_type": "code",
      "metadata": {
        "id": "L5XbYrrHKO5E"
      },
      "source": [
        "predictions = model.predict(test_images)"
      ],
      "execution_count": 16,
      "outputs": []
    },
    {
      "cell_type": "code",
      "metadata": {
        "id": "TTPAeEl45iNx"
      },
      "source": [
        "def plot_image(i, predictions_array, true_label, img):\n",
        "  predictions_array, true_label, img = predictions_array, true_label[i], img[i]\n",
        "  plt.grid(False)\n",
        "  plt.xticks([])\n",
        "  plt.yticks([])\n",
        "\n",
        "  plt.imshow(img, cmap=plt.cm.binary)    \n",
        "\n",
        "  predicted_label = np.argmax(predictions_array)\n",
        "  if predicted_label == true_label:\n",
        "    color = 'blue'\n",
        "  else:\n",
        "    color = 'red'\n",
        "\n",
        "  plt.xlabel(\"{} {:2.0f}% ({})\".format(class_names[predicted_label],\n",
        "                                100*np.max(predictions_array),\n",
        "                                class_names[true_label]),\n",
        "                                color=color)\n",
        "\n",
        "def plot_value_array(i, predictions_array, true_label):\n",
        "  predictions_array, true_label = predictions_array, true_label[i]\n",
        "  plt.grid(False)\n",
        "  plt.xticks(range(10))\n",
        "  plt.yticks([])\n",
        "  thisplot = plt.bar(range(10), predictions_array, color=\"#00FF00\")\n",
        "  plt.ylim([0, 1])\n",
        "  predicted_label = np.argmax(predictions_array)\n",
        "\n",
        "  thisplot[predicted_label].set_color('red')\n",
        "  thisplot[true_label].set_color('black')"
      ],
      "execution_count": 17,
      "outputs": []
    },
    {
      "cell_type": "markdown",
      "metadata": {
        "id": "EQZcZ_RH0q45"
      },
      "source": [
        "Volvemos las imagenes a formato original para hacer el plot"
      ]
    },
    {
      "cell_type": "code",
      "metadata": {
        "id": "U6O2NNvyKd6s"
      },
      "source": [
        "train_images = train_images.reshape((60000, 28, 28))\n",
        "test_images = test_images.reshape((10000, 28, 28))"
      ],
      "execution_count": 18,
      "outputs": []
    },
    {
      "cell_type": "code",
      "metadata": {
        "id": "STCV3LC-57tg",
        "colab": {
          "base_uri": "https://localhost:8080/",
          "height": 1000
        },
        "outputId": "eccfacc2-6dcc-4ba6-d81d-5555377a0cc8"
      },
      "source": [
        "num_rows = 7\n",
        "num_cols = 2\n",
        "num_images = num_rows*num_cols\n",
        "plt.figure(figsize=(2*2*num_cols, 2*num_rows))\n",
        "for i in range(num_images):\n",
        "  plt.subplot(num_rows, 2*num_cols, 2*i+1)\n",
        "  plot_image(i, predictions[i], test_labels, test_images)\n",
        "  plt.subplot(num_rows, 2*num_cols, 2*i+2)     \n",
        "  plot_value_array(i, predictions[i], test_labels)\n",
        "plt.tight_layout()\n",
        "plt.show()\n",
        "\n"
      ],
      "execution_count": 19,
      "outputs": [
        {
          "output_type": "display_data",
          "data": {
            "image/png": "[encoded data removed]",
            "text/plain": [
              "<Figure size 576x1008 with 28 Axes>"
            ]
          },
          "metadata": {
            "needs_background": "light"
          }
        }
      ]
    },
    {
      "cell_type": "code",
      "metadata": {
        "id": "Z0Y56EnBLQUm"
      },
      "source": [
        "train_images = train_images.reshape((60000, 28, 28, 1))\n",
        "test_images = test_images.reshape((10000, 28, 28, 1))\n"
      ],
      "execution_count": 20,
      "outputs": []
    },
    {
      "cell_type": "markdown",
      "metadata": {
        "id": "6tV0gHRztcvI"
      },
      "source": [
        "Modelo 2: Duplicando las neuronas de modelo base y añadiendo una capa densa de 64 neuronas"
      ]
    },
    {
      "cell_type": "code",
      "metadata": {
        "id": "5vu0mAps6wNt"
      },
      "source": [
        "\n",
        "model = Sequential()\n",
        "\n",
        "model.add(Conv2D(64, (7, 7), activation=\"relu\", padding=\"same\", input_shape=(28, 28, 1)))\n",
        "model.add(MaxPooling2D(2, 2))\n",
        "model.add(Conv2D(128, (3, 3), activation=\"relu\", padding=\"same\"))\n",
        "model.add(MaxPooling2D(2, 2))\n",
        "model.add(Flatten())\n",
        "model.add(Dense(64, activation=\"relu\"))\n",
        "model.add(Dense(10, activation=\"softmax\"))\n",
        "\n"
      ],
      "execution_count": 21,
      "outputs": []
    },
    {
      "cell_type": "code",
      "metadata": {
        "id": "G1qOIHnyL_Te",
        "colab": {
          "base_uri": "https://localhost:8080/"
        },
        "outputId": "76c270da-878d-4d69-e041-8d370205829d"
      },
      "source": [
        "\n",
        "model.compile(optimizer='sgd',\n",
        "              loss='sparse_categorical_crossentropy',\n",
        "              metrics=['accuracy'])\n",
        "\n",
        "model.fit(train_images, train_labels, epochs=5)\n",
        "\n",
        "test_loss, test_acc = model.evaluate(test_images,  test_labels)\n",
        "print('\\nTest accuracy:', test_acc)"
      ],
      "execution_count": 22,
      "outputs": [
        {
          "output_type": "stream",
          "name": "stdout",
          "text": [
            "Epoch 1/5\n",
            "1875/1875 [==============================] - 18s 9ms/step - loss: 0.7686 - accuracy: 0.7222\n",
            "Epoch 2/5\n",
            "1875/1875 [==============================] - 17s 9ms/step - loss: 0.4992 - accuracy: 0.8183\n",
            "Epoch 3/5\n",
            "1875/1875 [==============================] - 17s 9ms/step - loss: 0.4268 - accuracy: 0.8466\n",
            "Epoch 4/5\n",
            "1875/1875 [==============================] - 17s 9ms/step - loss: 0.3870 - accuracy: 0.8618\n",
            "Epoch 5/5\n",
            "1875/1875 [==============================] - 17s 9ms/step - loss: 0.3596 - accuracy: 0.8710\n",
            "313/313 [==============================] - 2s 5ms/step - loss: 0.3716 - accuracy: 0.8667\n",
            "\n",
            "Test accuracy: 0.8666999936103821\n"
          ]
        }
      ]
    },
    {
      "cell_type": "markdown",
      "metadata": {
        "id": "ZEyd3lnut9In"
      },
      "source": [
        "Modelo 3: modelo 3 cambiando al optimizador 'adam'"
      ]
    },
    {
      "cell_type": "code",
      "metadata": {
        "id": "UR6POPWWMAoU",
        "colab": {
          "base_uri": "https://localhost:8080/"
        },
        "outputId": "9efb7baf-22ca-4a20-ddd8-14b8d7afab1c"
      },
      "source": [
        "model = Sequential()\n",
        "\n",
        "model.add(Conv2D(64, (7, 7), activation=\"relu\", padding=\"same\", input_shape=(28, 28, 1)))\n",
        "model.add(MaxPooling2D(2, 2))\n",
        "model.add(Conv2D(128, (3, 3), activation=\"relu\", padding=\"same\"))\n",
        "model.add(MaxPooling2D(2, 2))\n",
        "model.add(Flatten())\n",
        "model.add(Dense(64, activation=\"relu\"))\n",
        "model.add(Dense(10, activation=\"softmax\"))\n",
        "\n",
        "model.compile(optimizer='adam',\n",
        "              loss='sparse_categorical_crossentropy',\n",
        "              metrics=['accuracy'])\n",
        "\n",
        "model.fit(train_images, train_labels, epochs=5)\n",
        "\n",
        "test_loss, test_acc = model.evaluate(test_images,  test_labels)\n",
        "print('\\nTest accuracy:', test_acc)"
      ],
      "execution_count": 23,
      "outputs": [
        {
          "output_type": "stream",
          "name": "stdout",
          "text": [
            "Epoch 1/5\n",
            "1875/1875 [==============================] - 18s 10ms/step - loss: 0.3994 - accuracy: 0.8548\n",
            "Epoch 2/5\n",
            "1875/1875 [==============================] - 18s 10ms/step - loss: 0.2648 - accuracy: 0.9025\n",
            "Epoch 3/5\n",
            "1875/1875 [==============================] - 18s 9ms/step - loss: 0.2253 - accuracy: 0.9162\n",
            "Epoch 4/5\n",
            "1875/1875 [==============================] - 18s 10ms/step - loss: 0.1941 - accuracy: 0.9275\n",
            "Epoch 5/5\n",
            "1875/1875 [==============================] - 18s 10ms/step - loss: 0.1686 - accuracy: 0.9373\n",
            "313/313 [==============================] - 2s 5ms/step - loss: 0.2441 - accuracy: 0.9134\n",
            "\n",
            "Test accuracy: 0.9133999943733215\n"
          ]
        }
      ]
    },
    {
      "cell_type": "code",
      "metadata": {
        "id": "iBLBezVui5X1"
      },
      "source": [
        ""
      ],
      "execution_count": 23,
      "outputs": []
    },
    {
      "cell_type": "markdown",
      "metadata": {
        "id": "kogvBWoruYhp"
      },
      "source": [
        "Modelo 4: Buscando un modelo más complejo que usa capas BathNormalization y Dropout"
      ]
    },
    {
      "cell_type": "code",
      "metadata": {
        "id": "K_bynmW9liwR"
      },
      "source": [
        "from tensorflow.keras.layers import Dropout, BatchNormalization\n",
        "\n",
        "\n",
        "def make_model():\n",
        "  model = Sequential()\n",
        "  model.add(Conv2D(filters=32, kernel_size=(3, 3), activation='relu', strides=1, padding='same', input_shape=(28,28,1)))\n",
        "  model.add(BatchNormalization())\n",
        "\n",
        "  model.add(Conv2D(filters=32, kernel_size=(3, 3), activation='relu', strides=1, padding='same'))\n",
        "  model.add(BatchNormalization())\n",
        "  model.add(Dropout(0.25))\n",
        "\n",
        "  model.add(Conv2D(filters=64, kernel_size=(3, 3), activation='relu', strides=1, padding='same'))\n",
        "  model.add(MaxPooling2D(pool_size=(2, 2)))\n",
        "  model.add(Dropout(0.25))\n",
        "    \n",
        "  model.add(Conv2D(filters=128, kernel_size=(3, 3), activation='relu', strides=1, padding='same'))\n",
        "  model.add(BatchNormalization())\n",
        "  model.add(Dropout(0.25))\n",
        "\n",
        "  model.add(Flatten())\n",
        "  model.add(Dense(512, activation='relu'))\n",
        "  model.add(BatchNormalization())\n",
        "  model.add(Dropout(0.5))\n",
        "  model.add(Dense(128, activation='relu'))\n",
        "  model.add(BatchNormalization())\n",
        "  model.add(Dropout(0.5))\n",
        "  model.add(Dense(10, activation='softmax'))\n",
        "  return model\n",
        "\n"
      ],
      "execution_count": 24,
      "outputs": []
    },
    {
      "cell_type": "code",
      "metadata": {
        "id": "UMVtk4yqmk5k",
        "colab": {
          "base_uri": "https://localhost:8080/"
        },
        "outputId": "ce95ff34-3473-4310-ceb3-674b5cb611f5"
      },
      "source": [
        "model = make_model()\n",
        "model.compile(optimizer='adam',\n",
        "              loss='sparse_categorical_crossentropy',\n",
        "              metrics=['accuracy'])\n",
        "\n",
        "model.fit(train_images, train_labels, epochs=5)\n",
        "\n",
        "test_loss, test_acc = model.evaluate(test_images,  test_labels)\n",
        "print('\\nTest accuracy:', test_acc)"
      ],
      "execution_count": 25,
      "outputs": [
        {
          "output_type": "stream",
          "name": "stdout",
          "text": [
            "Epoch 1/5\n",
            "1875/1875 [==============================] - 47s 24ms/step - loss: 0.5054 - accuracy: 0.8247\n",
            "Epoch 2/5\n",
            "1875/1875 [==============================] - 45s 24ms/step - loss: 0.3208 - accuracy: 0.8877\n",
            "Epoch 3/5\n",
            "1875/1875 [==============================] - 44s 24ms/step - loss: 0.2713 - accuracy: 0.9046\n",
            "Epoch 4/5\n",
            "1875/1875 [==============================] - 44s 24ms/step - loss: 0.2453 - accuracy: 0.9139\n",
            "Epoch 5/5\n",
            "1875/1875 [==============================] - 45s 24ms/step - loss: 0.2215 - accuracy: 0.9225\n",
            "313/313 [==============================] - 3s 7ms/step - loss: 0.2687 - accuracy: 0.9043\n",
            "\n",
            "Test accuracy: 0.9042999744415283\n"
          ]
        }
      ]
    },
    {
      "cell_type": "markdown",
      "metadata": {
        "id": "JYQg0a86yVOi"
      },
      "source": [
        "Modelo 5: Modelo anterior añadiendo más epochs (10 epochs)"
      ]
    },
    {
      "cell_type": "code",
      "metadata": {
        "id": "yTh4OaK6yOEx",
        "colab": {
          "base_uri": "https://localhost:8080/"
        },
        "outputId": "68a7109d-bd94-4955-a889-20576ea0e786"
      },
      "source": [
        "\n",
        "model = make_model()\n",
        "\n",
        "\n",
        "model.compile(optimizer='adam',\n",
        "              loss='sparse_categorical_crossentropy',\n",
        "              metrics=['accuracy'])\n",
        "\n",
        "model.fit(train_images, train_labels, epochs=10)\n",
        "test_loss, test_acc = model.evaluate(test_images,  test_labels)\n",
        "\n",
        "print('\\nTest accuracy:', test_acc)"
      ],
      "execution_count": 26,
      "outputs": [
        {
          "metadata": {
            "tags": null
          },
          "name": "stdout",
          "output_type": "stream",
          "text": [
            "Epoch 1/10\n",
            "1875/1875 [==============================] - 46s 24ms/step - loss: 0.5060 - accuracy: 0.8254\n",
            "Epoch 2/10\n",
            "1875/1875 [==============================] - 44s 24ms/step - loss: 0.3172 - accuracy: 0.8879\n",
            "Epoch 3/10\n",
            "1875/1875 [==============================] - 44s 23ms/step - loss: 0.2700 - accuracy: 0.9042\n",
            "Epoch 4/10\n",
            "1875/1875 [==============================] - 44s 23ms/step - loss: 0.2467 - accuracy: 0.9135\n",
            "Epoch 5/10\n",
            "1875/1875 [==============================] - 44s 23ms/step - loss: 0.2251 - accuracy: 0.9200\n",
            "Epoch 6/10\n",
            "1875/1875 [==============================] - 44s 23ms/step - loss: 0.2116 - accuracy: 0.9245\n",
            "Epoch 7/10\n",
            "1875/1875 [==============================] - 44s 23ms/step - loss: 0.1883 - accuracy: 0.9340\n",
            "Epoch 8/10\n",
            "1875/1875 [==============================] - 44s 23ms/step - loss: 0.1758 - accuracy: 0.9372\n",
            "Epoch 9/10\n",
            "1875/1875 [==============================] - 43s 23ms/step - loss: 0.1635 - accuracy: 0.9427\n",
            "Epoch 10/10\n",
            "1875/1875 [==============================] - 43s 23ms/step - loss: 0.1495 - accuracy: 0.9462\n",
            "313/313 [==============================] - 2s 7ms/step - loss: 0.1859 - accuracy: 0.9376\n",
            "\n",
            "Test accuracy: 0.9376000165939331\n"
          ]
        }
      ]
    },
    {
      "cell_type": "markdown",
      "metadata": {
        "id": "YpJwKcAgGGhq"
      },
      "source": [
        "Modelo 6: Modelo anterior añadiendo más epochs (30 epochs)"
      ]
    },
    {
      "cell_type": "code",
      "metadata": {
        "id": "1ZDDas7oF97f",
        "colab": {
          "base_uri": "https://localhost:8080/"
        },
        "outputId": "a947e067-3958-4ae1-a678-780d1a51214b"
      },
      "source": [
        "\n",
        "model = make_model()\n",
        "\n",
        "model.compile(optimizer='adam',\n",
        "              loss='sparse_categorical_crossentropy',\n",
        "              metrics=['accuracy'])\n",
        "\n",
        "model.fit(train_images, train_labels, epochs=30)\n",
        "test_loss, test_acc = model.evaluate(test_images,  test_labels)\n",
        "\n",
        "print('\\nTest accuracy:', test_acc)"
      ],
      "execution_count": null,
      "outputs": [
        {
          "output_type": "stream",
          "name": "stdout",
          "text": [
            "Epoch 1/30\n",
            "1875/1875 [==============================] - 45s 23ms/step - loss: 0.5088 - accuracy: 0.8240\n",
            "Epoch 2/30\n",
            "1875/1875 [==============================] - 44s 23ms/step - loss: 0.3241 - accuracy: 0.8845\n",
            "Epoch 3/30\n",
            "1875/1875 [==============================] - 44s 23ms/step - loss: 0.2807 - accuracy: 0.8999\n",
            "Epoch 4/30\n",
            "1875/1875 [==============================] - 44s 23ms/step - loss: 0.2557 - accuracy: 0.9101\n",
            "Epoch 5/30\n",
            "1875/1875 [==============================] - 45s 24ms/step - loss: 0.2272 - accuracy: 0.9200\n",
            "Epoch 6/30\n",
            "1875/1875 [==============================] - 46s 24ms/step - loss: 0.2106 - accuracy: 0.9249\n",
            "Epoch 7/30\n",
            "1033/1875 [===============>..............] - ETA: 20s - loss: 0.1871 - accuracy: 0.9341"
          ]
        }
      ]
    },
    {
      "cell_type": "markdown",
      "metadata": {
        "id": "-NUPmba5zFcV"
      },
      "source": [
        "Modelo 7: Modelo anterior añadiendo más epochs (30 epochs) y diferentes hiperparámetros al optimizador Adam"
      ]
    },
    {
      "cell_type": "code",
      "metadata": {
        "id": "oWms_Gu7nQxv"
      },
      "source": [
        "model = make_model()\n",
        "\n",
        "optimizer = tf.keras.optimizers.Adam (lr=0.001)\n",
        "\n",
        "model.compile(optimizer=optimizer,\n",
        "              loss='sparse_categorical_crossentropy',\n",
        "              metrics=['accuracy'])\n",
        "\n",
        "reduce_lr = tf.keras.callbacks.LearningRateScheduler(lambda x: 1e-3 * 0.9 ** x)\n",
        "\n",
        "model.fit(train_images, train_labels, epochs=30, callbacks=[reduce_lr])\n",
        "\n",
        "test_loss, test_acc = model.evaluate(test_images,  test_labels)\n",
        "print('\\nTest accuracy:', test_acc)"
      ],
      "execution_count": null,
      "outputs": []
    },
    {
      "cell_type": "markdown",
      "metadata": {
        "id": "-HtzExwn2u9U"
      },
      "source": [
        "Visualización de las predicciones del modelo 7"
      ]
    },
    {
      "cell_type": "code",
      "metadata": {
        "id": "XR218aBirMdU"
      },
      "source": [
        "\n",
        "predictions = model.predict(test_images)\n",
        "\n",
        "train_images = train_images.reshape((60000, 28, 28))\n",
        "test_images = test_images.reshape((10000, 28, 28))\n",
        "\n",
        "\n",
        "num_rows = 7\n",
        "num_cols = 2\n",
        "num_images = num_rows*num_cols\n",
        "plt.figure(figsize=(2*2*num_cols, 2*num_rows))\n",
        "for i in range(num_images):\n",
        "  plt.subplot(num_rows, 2*num_cols, 2*i+1)\n",
        "  plot_image(i, predictions[i], test_labels, test_images)\n",
        "  plt.subplot(num_rows, 2*num_cols, 2*i+2)     \n",
        "  plot_value_array(i, predictions[i], test_labels)\n",
        "plt.tight_layout()\n",
        "plt.show()"
      ],
      "execution_count": null,
      "outputs": []
    }
  ]
}